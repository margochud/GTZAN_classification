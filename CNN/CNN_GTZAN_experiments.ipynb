{
  "nbformat": 4,
  "nbformat_minor": 0,
  "metadata": {
    "colab": {
      "name": "CNN_GTZAN_experiments.ipynb",
      "provenance": [],
      "collapsed_sections": []
    },
    "kernelspec": {
      "name": "python3",
      "display_name": "Python 3"
    },
    "language_info": {
      "name": "python"
    },
    "gpuClass": "standard",
    "accelerator": "GPU",
    "widgets": {
      "application/vnd.jupyter.widget-state+json": {
        "288cebd29aa6463ab10990d6868910a2": {
          "model_module": "@jupyter-widgets/controls",
          "model_name": "HBoxModel",
          "model_module_version": "1.5.0",
          "state": {
            "_dom_classes": [],
            "_model_module": "@jupyter-widgets/controls",
            "_model_module_version": "1.5.0",
            "_model_name": "HBoxModel",
            "_view_count": null,
            "_view_module": "@jupyter-widgets/controls",
            "_view_module_version": "1.5.0",
            "_view_name": "HBoxView",
            "box_style": "",
            "children": [
              "IPY_MODEL_c3a8a6a538d0449db1dca76958148cae",
              "IPY_MODEL_b4b10121b94449afa4053ef4c9ba4f49",
              "IPY_MODEL_b1c77ea07bbb4df68cdde203510b7acd"
            ],
            "layout": "IPY_MODEL_ba5fc718421049228774ab428c462a34"
          }
        },
        "c3a8a6a538d0449db1dca76958148cae": {
          "model_module": "@jupyter-widgets/controls",
          "model_name": "HTMLModel",
          "model_module_version": "1.5.0",
          "state": {
            "_dom_classes": [],
            "_model_module": "@jupyter-widgets/controls",
            "_model_module_version": "1.5.0",
            "_model_name": "HTMLModel",
            "_view_count": null,
            "_view_module": "@jupyter-widgets/controls",
            "_view_module_version": "1.5.0",
            "_view_name": "HTMLView",
            "description": "",
            "description_tooltip": null,
            "layout": "IPY_MODEL_09a00c33a5b8425f88f7cd80f39a2975",
            "placeholder": "​",
            "style": "IPY_MODEL_038dd613798e4e59ab33df3fe164d2b0",
            "value": "100%"
          }
        },
        "b4b10121b94449afa4053ef4c9ba4f49": {
          "model_module": "@jupyter-widgets/controls",
          "model_name": "FloatProgressModel",
          "model_module_version": "1.5.0",
          "state": {
            "_dom_classes": [],
            "_model_module": "@jupyter-widgets/controls",
            "_model_module_version": "1.5.0",
            "_model_name": "FloatProgressModel",
            "_view_count": null,
            "_view_module": "@jupyter-widgets/controls",
            "_view_module_version": "1.5.0",
            "_view_name": "ProgressView",
            "bar_style": "success",
            "description": "",
            "description_tooltip": null,
            "layout": "IPY_MODEL_1f1b5494890b46b7a1d726b27cdd5723",
            "max": 25,
            "min": 0,
            "orientation": "horizontal",
            "style": "IPY_MODEL_483907db3fc24d558e42c879fb1471d1",
            "value": 25
          }
        },
        "b1c77ea07bbb4df68cdde203510b7acd": {
          "model_module": "@jupyter-widgets/controls",
          "model_name": "HTMLModel",
          "model_module_version": "1.5.0",
          "state": {
            "_dom_classes": [],
            "_model_module": "@jupyter-widgets/controls",
            "_model_module_version": "1.5.0",
            "_model_name": "HTMLModel",
            "_view_count": null,
            "_view_module": "@jupyter-widgets/controls",
            "_view_module_version": "1.5.0",
            "_view_name": "HTMLView",
            "description": "",
            "description_tooltip": null,
            "layout": "IPY_MODEL_f592898acfee4c6b9f0553c3abf37080",
            "placeholder": "​",
            "style": "IPY_MODEL_b83b37dac3af4c0bad7beea4668cf467",
            "value": " 25/25 [1:06:41&lt;00:00, 185.97s/it]"
          }
        },
        "ba5fc718421049228774ab428c462a34": {
          "model_module": "@jupyter-widgets/base",
          "model_name": "LayoutModel",
          "model_module_version": "1.2.0",
          "state": {
            "_model_module": "@jupyter-widgets/base",
            "_model_module_version": "1.2.0",
            "_model_name": "LayoutModel",
            "_view_count": null,
            "_view_module": "@jupyter-widgets/base",
            "_view_module_version": "1.2.0",
            "_view_name": "LayoutView",
            "align_content": null,
            "align_items": null,
            "align_self": null,
            "border": null,
            "bottom": null,
            "display": null,
            "flex": null,
            "flex_flow": null,
            "grid_area": null,
            "grid_auto_columns": null,
            "grid_auto_flow": null,
            "grid_auto_rows": null,
            "grid_column": null,
            "grid_gap": null,
            "grid_row": null,
            "grid_template_areas": null,
            "grid_template_columns": null,
            "grid_template_rows": null,
            "height": null,
            "justify_content": null,
            "justify_items": null,
            "left": null,
            "margin": null,
            "max_height": null,
            "max_width": null,
            "min_height": null,
            "min_width": null,
            "object_fit": null,
            "object_position": null,
            "order": null,
            "overflow": null,
            "overflow_x": null,
            "overflow_y": null,
            "padding": null,
            "right": null,
            "top": null,
            "visibility": null,
            "width": null
          }
        },
        "09a00c33a5b8425f88f7cd80f39a2975": {
          "model_module": "@jupyter-widgets/base",
          "model_name": "LayoutModel",
          "model_module_version": "1.2.0",
          "state": {
            "_model_module": "@jupyter-widgets/base",
            "_model_module_version": "1.2.0",
            "_model_name": "LayoutModel",
            "_view_count": null,
            "_view_module": "@jupyter-widgets/base",
            "_view_module_version": "1.2.0",
            "_view_name": "LayoutView",
            "align_content": null,
            "align_items": null,
            "align_self": null,
            "border": null,
            "bottom": null,
            "display": null,
            "flex": null,
            "flex_flow": null,
            "grid_area": null,
            "grid_auto_columns": null,
            "grid_auto_flow": null,
            "grid_auto_rows": null,
            "grid_column": null,
            "grid_gap": null,
            "grid_row": null,
            "grid_template_areas": null,
            "grid_template_columns": null,
            "grid_template_rows": null,
            "height": null,
            "justify_content": null,
            "justify_items": null,
            "left": null,
            "margin": null,
            "max_height": null,
            "max_width": null,
            "min_height": null,
            "min_width": null,
            "object_fit": null,
            "object_position": null,
            "order": null,
            "overflow": null,
            "overflow_x": null,
            "overflow_y": null,
            "padding": null,
            "right": null,
            "top": null,
            "visibility": null,
            "width": null
          }
        },
        "038dd613798e4e59ab33df3fe164d2b0": {
          "model_module": "@jupyter-widgets/controls",
          "model_name": "DescriptionStyleModel",
          "model_module_version": "1.5.0",
          "state": {
            "_model_module": "@jupyter-widgets/controls",
            "_model_module_version": "1.5.0",
            "_model_name": "DescriptionStyleModel",
            "_view_count": null,
            "_view_module": "@jupyter-widgets/base",
            "_view_module_version": "1.2.0",
            "_view_name": "StyleView",
            "description_width": ""
          }
        },
        "1f1b5494890b46b7a1d726b27cdd5723": {
          "model_module": "@jupyter-widgets/base",
          "model_name": "LayoutModel",
          "model_module_version": "1.2.0",
          "state": {
            "_model_module": "@jupyter-widgets/base",
            "_model_module_version": "1.2.0",
            "_model_name": "LayoutModel",
            "_view_count": null,
            "_view_module": "@jupyter-widgets/base",
            "_view_module_version": "1.2.0",
            "_view_name": "LayoutView",
            "align_content": null,
            "align_items": null,
            "align_self": null,
            "border": null,
            "bottom": null,
            "display": null,
            "flex": null,
            "flex_flow": null,
            "grid_area": null,
            "grid_auto_columns": null,
            "grid_auto_flow": null,
            "grid_auto_rows": null,
            "grid_column": null,
            "grid_gap": null,
            "grid_row": null,
            "grid_template_areas": null,
            "grid_template_columns": null,
            "grid_template_rows": null,
            "height": null,
            "justify_content": null,
            "justify_items": null,
            "left": null,
            "margin": null,
            "max_height": null,
            "max_width": null,
            "min_height": null,
            "min_width": null,
            "object_fit": null,
            "object_position": null,
            "order": null,
            "overflow": null,
            "overflow_x": null,
            "overflow_y": null,
            "padding": null,
            "right": null,
            "top": null,
            "visibility": null,
            "width": null
          }
        },
        "483907db3fc24d558e42c879fb1471d1": {
          "model_module": "@jupyter-widgets/controls",
          "model_name": "ProgressStyleModel",
          "model_module_version": "1.5.0",
          "state": {
            "_model_module": "@jupyter-widgets/controls",
            "_model_module_version": "1.5.0",
            "_model_name": "ProgressStyleModel",
            "_view_count": null,
            "_view_module": "@jupyter-widgets/base",
            "_view_module_version": "1.2.0",
            "_view_name": "StyleView",
            "bar_color": null,
            "description_width": ""
          }
        },
        "f592898acfee4c6b9f0553c3abf37080": {
          "model_module": "@jupyter-widgets/base",
          "model_name": "LayoutModel",
          "model_module_version": "1.2.0",
          "state": {
            "_model_module": "@jupyter-widgets/base",
            "_model_module_version": "1.2.0",
            "_model_name": "LayoutModel",
            "_view_count": null,
            "_view_module": "@jupyter-widgets/base",
            "_view_module_version": "1.2.0",
            "_view_name": "LayoutView",
            "align_content": null,
            "align_items": null,
            "align_self": null,
            "border": null,
            "bottom": null,
            "display": null,
            "flex": null,
            "flex_flow": null,
            "grid_area": null,
            "grid_auto_columns": null,
            "grid_auto_flow": null,
            "grid_auto_rows": null,
            "grid_column": null,
            "grid_gap": null,
            "grid_row": null,
            "grid_template_areas": null,
            "grid_template_columns": null,
            "grid_template_rows": null,
            "height": null,
            "justify_content": null,
            "justify_items": null,
            "left": null,
            "margin": null,
            "max_height": null,
            "max_width": null,
            "min_height": null,
            "min_width": null,
            "object_fit": null,
            "object_position": null,
            "order": null,
            "overflow": null,
            "overflow_x": null,
            "overflow_y": null,
            "padding": null,
            "right": null,
            "top": null,
            "visibility": null,
            "width": null
          }
        },
        "b83b37dac3af4c0bad7beea4668cf467": {
          "model_module": "@jupyter-widgets/controls",
          "model_name": "DescriptionStyleModel",
          "model_module_version": "1.5.0",
          "state": {
            "_model_module": "@jupyter-widgets/controls",
            "_model_module_version": "1.5.0",
            "_model_name": "DescriptionStyleModel",
            "_view_count": null,
            "_view_module": "@jupyter-widgets/base",
            "_view_module_version": "1.2.0",
            "_view_name": "StyleView",
            "description_width": ""
          }
        }
      }
    }
  },
  "cells": [
    {
      "cell_type": "markdown",
      "source": [
        "# Классификация записей при помощи CNN: эксперименты с моделями"
      ],
      "metadata": {
        "id": "1A8wrFEZKCY3"
      }
    },
    {
      "cell_type": "markdown",
      "source": [
        "## Необходимые библиотеки"
      ],
      "metadata": {
        "id": "uVAY9zCITITj"
      }
    },
    {
      "cell_type": "code",
      "execution_count": 1,
      "metadata": {
        "id": "aEC_3SrnbK-H",
        "colab": {
          "base_uri": "https://localhost:8080/"
        },
        "outputId": "85430877-cd76-4d14-cacc-e67a07e47141"
      },
      "outputs": [
        {
          "output_type": "stream",
          "name": "stdout",
          "text": [
            "Looking in indexes: https://pypi.org/simple, https://us-python.pkg.dev/colab-wheels/public/simple/\n",
            "Requirement already satisfied: daze in /usr/local/lib/python3.7/dist-packages (0.1.1)\n",
            "Requirement already satisfied: matplotlib in /usr/local/lib/python3.7/dist-packages (from daze) (3.2.2)\n",
            "Requirement already satisfied: scikit-learn in /usr/local/lib/python3.7/dist-packages (from daze) (1.0.2)\n",
            "Requirement already satisfied: numpy in /usr/local/lib/python3.7/dist-packages (from daze) (1.21.6)\n",
            "Requirement already satisfied: python-dateutil>=2.1 in /usr/local/lib/python3.7/dist-packages (from matplotlib->daze) (2.8.2)\n",
            "Requirement already satisfied: pyparsing!=2.0.4,!=2.1.2,!=2.1.6,>=2.0.1 in /usr/local/lib/python3.7/dist-packages (from matplotlib->daze) (3.0.9)\n",
            "Requirement already satisfied: cycler>=0.10 in /usr/local/lib/python3.7/dist-packages (from matplotlib->daze) (0.11.0)\n",
            "Requirement already satisfied: kiwisolver>=1.0.1 in /usr/local/lib/python3.7/dist-packages (from matplotlib->daze) (1.4.3)\n",
            "Requirement already satisfied: typing-extensions in /usr/local/lib/python3.7/dist-packages (from kiwisolver>=1.0.1->matplotlib->daze) (4.1.1)\n",
            "Requirement already satisfied: six>=1.5 in /usr/local/lib/python3.7/dist-packages (from python-dateutil>=2.1->matplotlib->daze) (1.15.0)\n",
            "Requirement already satisfied: threadpoolctl>=2.0.0 in /usr/local/lib/python3.7/dist-packages (from scikit-learn->daze) (3.1.0)\n",
            "Requirement already satisfied: scipy>=1.1.0 in /usr/local/lib/python3.7/dist-packages (from scikit-learn->daze) (1.4.1)\n",
            "Requirement already satisfied: joblib>=0.11 in /usr/local/lib/python3.7/dist-packages (from scikit-learn->daze) (1.1.0)\n"
          ]
        }
      ],
      "source": [
        "!pip install daze"
      ]
    },
    {
      "cell_type": "code",
      "source": [
        "!pip install optuna"
      ],
      "metadata": {
        "colab": {
          "base_uri": "https://localhost:8080/"
        },
        "id": "xkeh65lvc9up",
        "outputId": "45d7020a-6ec2-45be-a041-34c421130c43"
      },
      "execution_count": 2,
      "outputs": [
        {
          "output_type": "stream",
          "name": "stdout",
          "text": [
            "Looking in indexes: https://pypi.org/simple, https://us-python.pkg.dev/colab-wheels/public/simple/\n",
            "Requirement already satisfied: optuna in /usr/local/lib/python3.7/dist-packages (2.10.1)\n",
            "Requirement already satisfied: cliff in /usr/local/lib/python3.7/dist-packages (from optuna) (3.10.1)\n",
            "Requirement already satisfied: cmaes>=0.8.2 in /usr/local/lib/python3.7/dist-packages (from optuna) (0.8.2)\n",
            "Requirement already satisfied: tqdm in /usr/local/lib/python3.7/dist-packages (from optuna) (4.64.0)\n",
            "Requirement already satisfied: alembic in /usr/local/lib/python3.7/dist-packages (from optuna) (1.8.0)\n",
            "Requirement already satisfied: numpy in /usr/local/lib/python3.7/dist-packages (from optuna) (1.21.6)\n",
            "Requirement already satisfied: PyYAML in /usr/local/lib/python3.7/dist-packages (from optuna) (3.13)\n",
            "Requirement already satisfied: colorlog in /usr/local/lib/python3.7/dist-packages (from optuna) (6.6.0)\n",
            "Requirement already satisfied: sqlalchemy>=1.1.0 in /usr/local/lib/python3.7/dist-packages (from optuna) (1.4.37)\n",
            "Requirement already satisfied: packaging>=20.0 in /usr/local/lib/python3.7/dist-packages (from optuna) (21.3)\n",
            "Requirement already satisfied: scipy!=1.4.0 in /usr/local/lib/python3.7/dist-packages (from optuna) (1.4.1)\n",
            "Requirement already satisfied: pyparsing!=3.0.5,>=2.0.2 in /usr/local/lib/python3.7/dist-packages (from packaging>=20.0->optuna) (3.0.9)\n",
            "Requirement already satisfied: importlib-metadata in /usr/local/lib/python3.7/dist-packages (from sqlalchemy>=1.1.0->optuna) (4.11.4)\n",
            "Requirement already satisfied: greenlet!=0.4.17 in /usr/local/lib/python3.7/dist-packages (from sqlalchemy>=1.1.0->optuna) (1.1.2)\n",
            "Requirement already satisfied: Mako in /usr/local/lib/python3.7/dist-packages (from alembic->optuna) (1.2.0)\n",
            "Requirement already satisfied: importlib-resources in /usr/local/lib/python3.7/dist-packages (from alembic->optuna) (5.7.1)\n",
            "Requirement already satisfied: pbr!=2.1.0,>=2.0.0 in /usr/local/lib/python3.7/dist-packages (from cliff->optuna) (5.9.0)\n",
            "Requirement already satisfied: cmd2>=1.0.0 in /usr/local/lib/python3.7/dist-packages (from cliff->optuna) (2.4.1)\n",
            "Requirement already satisfied: autopage>=0.4.0 in /usr/local/lib/python3.7/dist-packages (from cliff->optuna) (0.5.1)\n",
            "Requirement already satisfied: PrettyTable>=0.7.2 in /usr/local/lib/python3.7/dist-packages (from cliff->optuna) (3.3.0)\n",
            "Requirement already satisfied: stevedore>=2.0.1 in /usr/local/lib/python3.7/dist-packages (from cliff->optuna) (3.5.0)\n",
            "Requirement already satisfied: pyperclip>=1.6 in /usr/local/lib/python3.7/dist-packages (from cmd2>=1.0.0->cliff->optuna) (1.8.2)\n",
            "Requirement already satisfied: wcwidth>=0.1.7 in /usr/local/lib/python3.7/dist-packages (from cmd2>=1.0.0->cliff->optuna) (0.2.5)\n",
            "Requirement already satisfied: typing-extensions in /usr/local/lib/python3.7/dist-packages (from cmd2>=1.0.0->cliff->optuna) (4.1.1)\n",
            "Requirement already satisfied: attrs>=16.3.0 in /usr/local/lib/python3.7/dist-packages (from cmd2>=1.0.0->cliff->optuna) (21.4.0)\n",
            "Requirement already satisfied: zipp>=0.5 in /usr/local/lib/python3.7/dist-packages (from importlib-metadata->sqlalchemy>=1.1.0->optuna) (3.8.0)\n",
            "Requirement already satisfied: MarkupSafe>=0.9.2 in /usr/local/lib/python3.7/dist-packages (from Mako->alembic->optuna) (2.0.1)\n"
          ]
        }
      ]
    },
    {
      "cell_type": "code",
      "source": [
        "!pip install wandb"
      ],
      "metadata": {
        "colab": {
          "base_uri": "https://localhost:8080/"
        },
        "id": "IfU9MH8geLYZ",
        "outputId": "4effd43b-86a1-4688-bb52-c805c3c98262"
      },
      "execution_count": 3,
      "outputs": [
        {
          "output_type": "stream",
          "name": "stdout",
          "text": [
            "Looking in indexes: https://pypi.org/simple, https://us-python.pkg.dev/colab-wheels/public/simple/\n",
            "Requirement already satisfied: wandb in /usr/local/lib/python3.7/dist-packages (0.12.19)\n",
            "Requirement already satisfied: PyYAML in /usr/local/lib/python3.7/dist-packages (from wandb) (3.13)\n",
            "Requirement already satisfied: setuptools in /usr/local/lib/python3.7/dist-packages (from wandb) (57.4.0)\n",
            "Requirement already satisfied: Click!=8.0.0,>=7.0 in /usr/local/lib/python3.7/dist-packages (from wandb) (7.1.2)\n",
            "Requirement already satisfied: setproctitle in /usr/local/lib/python3.7/dist-packages (from wandb) (1.2.3)\n",
            "Requirement already satisfied: sentry-sdk>=1.0.0 in /usr/local/lib/python3.7/dist-packages (from wandb) (1.6.0)\n",
            "Requirement already satisfied: shortuuid>=0.5.0 in /usr/local/lib/python3.7/dist-packages (from wandb) (1.0.9)\n",
            "Requirement already satisfied: GitPython>=1.0.0 in /usr/local/lib/python3.7/dist-packages (from wandb) (3.1.27)\n",
            "Requirement already satisfied: promise<3,>=2.0 in /usr/local/lib/python3.7/dist-packages (from wandb) (2.3)\n",
            "Requirement already satisfied: docker-pycreds>=0.4.0 in /usr/local/lib/python3.7/dist-packages (from wandb) (0.4.0)\n",
            "Requirement already satisfied: requests<3,>=2.0.0 in /usr/local/lib/python3.7/dist-packages (from wandb) (2.23.0)\n",
            "Requirement already satisfied: pathtools in /usr/local/lib/python3.7/dist-packages (from wandb) (0.1.2)\n",
            "Requirement already satisfied: six>=1.13.0 in /usr/local/lib/python3.7/dist-packages (from wandb) (1.15.0)\n",
            "Requirement already satisfied: protobuf<4.0dev,>=3.12.0 in /usr/local/lib/python3.7/dist-packages (from wandb) (3.17.3)\n",
            "Requirement already satisfied: psutil>=5.0.0 in /usr/local/lib/python3.7/dist-packages (from wandb) (5.4.8)\n",
            "Requirement already satisfied: gitdb<5,>=4.0.1 in /usr/local/lib/python3.7/dist-packages (from GitPython>=1.0.0->wandb) (4.0.9)\n",
            "Requirement already satisfied: typing-extensions>=3.7.4.3 in /usr/local/lib/python3.7/dist-packages (from GitPython>=1.0.0->wandb) (4.1.1)\n",
            "Requirement already satisfied: smmap<6,>=3.0.1 in /usr/local/lib/python3.7/dist-packages (from gitdb<5,>=4.0.1->GitPython>=1.0.0->wandb) (5.0.0)\n",
            "Requirement already satisfied: certifi>=2017.4.17 in /usr/local/lib/python3.7/dist-packages (from requests<3,>=2.0.0->wandb) (2022.6.15)\n",
            "Requirement already satisfied: urllib3!=1.25.0,!=1.25.1,<1.26,>=1.21.1 in /usr/local/lib/python3.7/dist-packages (from requests<3,>=2.0.0->wandb) (1.24.3)\n",
            "Requirement already satisfied: idna<3,>=2.5 in /usr/local/lib/python3.7/dist-packages (from requests<3,>=2.0.0->wandb) (2.10)\n",
            "Requirement already satisfied: chardet<4,>=3.0.2 in /usr/local/lib/python3.7/dist-packages (from requests<3,>=2.0.0->wandb) (3.0.4)\n"
          ]
        }
      ]
    },
    {
      "cell_type": "code",
      "source": [
        "import os, sklearn, torch, optuna, daze\n",
        "import numpy as np, pandas as pd, wandb as wb, matplotlib.pyplot as plt, seaborn as sns\n",
        "\n",
        "from torch import nn\n",
        "from optuna.integration.wandb import WeightsAndBiasesCallback"
      ],
      "metadata": {
        "id": "G9vAJiTkcbyy"
      },
      "execution_count": 4,
      "outputs": []
    },
    {
      "cell_type": "code",
      "source": [
        "from google.colab import drive\n",
        "drive.mount('/content/drive')\n",
        "data_path = \"/content/drive/MyDrive/HSE/GTZAN/Data/\""
      ],
      "metadata": {
        "colab": {
          "base_uri": "https://localhost:8080/"
        },
        "id": "tXKp9RyijMeV",
        "outputId": "57e57a8c-69c5-49a1-f1c7-7deb2d44512a"
      },
      "execution_count": 5,
      "outputs": [
        {
          "output_type": "stream",
          "name": "stdout",
          "text": [
            "Drive already mounted at /content/drive; to attempt to forcibly remount, call drive.mount(\"/content/drive\", force_remount=True).\n"
          ]
        }
      ]
    },
    {
      "cell_type": "code",
      "source": [
        "seed = 42\n",
        "random_state = np.random.RandomState(seed)\n",
        "device = 'cuda' if torch.cuda.is_available() else 'cpu'"
      ],
      "metadata": {
        "id": "ZytbjOw6cl8U"
      },
      "execution_count": 6,
      "outputs": []
    },
    {
      "cell_type": "code",
      "source": [
        "import warnings\n",
        "warnings.filterwarnings('ignore')\n",
        "os.environ['WANDB_SILENT'] = 'true'"
      ],
      "metadata": {
        "id": "_mUUe4wCenMx"
      },
      "execution_count": 7,
      "outputs": []
    },
    {
      "cell_type": "markdown",
      "source": [
        "## Загрузка данных"
      ],
      "metadata": {
        "id": "UYkUnytETcTb"
      }
    },
    {
      "cell_type": "markdown",
      "source": [
        "Загрузим предварительно сохраненные данные в датасет и сопоставим музывальным жанрам номера с помощью LabelEncoder."
      ],
      "metadata": {
        "id": "olqwZ7VAVG0-"
      }
    },
    {
      "cell_type": "code",
      "source": [
        "classes = ('blues', 'classical', 'country', 'disco', 'hiphop', 'jazz', 'metal', 'pop', 'reggae', 'rock')\n",
        "n_classes = len(classes)\n",
        "\n",
        "label_encoder = sklearn.preprocessing.LabelEncoder()\n",
        "label_encoder.fit(classes)"
      ],
      "metadata": {
        "colab": {
          "base_uri": "https://localhost:8080/"
        },
        "id": "RCrJsT8keqSl",
        "outputId": "2e3fce34-d2fc-4f8b-c04f-9b1dcaf266ef"
      },
      "execution_count": 8,
      "outputs": [
        {
          "output_type": "execute_result",
          "data": {
            "text/plain": [
              "LabelEncoder()"
            ]
          },
          "metadata": {},
          "execution_count": 8
        }
      ]
    },
    {
      "cell_type": "code",
      "source": [
        "class GTZAN(torch.utils.data.Dataset):\n",
        "\n",
        "    def __init__(self, split, encoder, main_path=data_path):\n",
        "        root_path = os.path.join(main_path, \"prepared_data\", split)\n",
        "        data_path = os.path.join(root_path, 'data')\n",
        "        self.data_files = [os.path.join(data_path, item) for item in os.listdir(data_path)]\n",
        "        self.data_files.sort(key=self.get_id)\n",
        "        self.labels = pd.read_csv(os.path.join(root_path, 'labels.csv'), index_col=0, squeeze=True)\n",
        "        self.encoder = encoder\n",
        "        \n",
        "    def get_id(self, file):\n",
        "        return int(os.path.splitext(os.path.basename(file))[0])\n",
        "           \n",
        "    def __len__(self):\n",
        "        return len(self.labels)\n",
        "    \n",
        "    def __getitem__(self, index):\n",
        "        filename = self.data_files[index]\n",
        "        \n",
        "        # загрузим признаки\n",
        "        x = torch.load(filename)\n",
        "        \n",
        "        # сопоставим классу цифру\n",
        "        label = self.labels.iloc[index]\n",
        "        y = self.encoder.transform([label]).item()\n",
        "        \n",
        "        return x, y"
      ],
      "metadata": {
        "id": "f8AfFcQnette"
      },
      "execution_count": 9,
      "outputs": []
    },
    {
      "cell_type": "code",
      "source": [
        "n_features = 12\n",
        "train_set = GTZAN('train', label_encoder)\n",
        "val_set = GTZAN('val', label_encoder)\n",
        "test_set = GTZAN('test', label_encoder)\n"
      ],
      "metadata": {
        "id": "AEO0pWAgfRvG"
      },
      "execution_count": 10,
      "outputs": []
    },
    {
      "cell_type": "markdown",
      "source": [
        "## Архитектура сверточной нейронной сети"
      ],
      "metadata": {
        "id": "4U0AgJp2Yo_t"
      }
    },
    {
      "cell_type": "markdown",
      "source": [
        "Вся сеть будет состоять из двух блоков:\n",
        "\n",
        "1.   Сверточные слои: 4 последовательно идущих сверточных слоя с Batch-normalization и ReLU в качестве функции активации.\n",
        "2.   Полносвязные слои: 3 полносвязных слоя, LogSoftmax для классификации.\n",
        "\n",
        "\n",
        "\n"
      ],
      "metadata": {
        "id": "HIS2jE8cbwQL"
      }
    },
    {
      "cell_type": "code",
      "source": [
        "class ConvolutionalBlock(nn.Module):\n",
        "    def __init__(self, n_channels, channel_widths):\n",
        "        super().__init__()\n",
        "        \n",
        "        self.model = nn.ModuleDict({\n",
        "            'conv1': nn.Sequential(\n",
        "                nn.LazyConv2d(n_channels[0], kernel_size=(8, channel_widths[0]), stride=(3, 4), padding=(11, 4)),\n",
        "                nn.BatchNorm2d(n_channels[0]),\n",
        "                nn.ReLU(),\n",
        "            ),\n",
        "            'conv2': nn.Sequential(\n",
        "                nn.LazyConv2d(n_channels[1], kernel_size=(6, channel_widths[1]), stride=(2, 3), padding=(4, 3)),\n",
        "                nn.BatchNorm2d(n_channels[1]),\n",
        "                nn.ReLU(),\n",
        "            ),\n",
        "            'conv3': nn.Sequential(\n",
        "                nn.LazyConv2d(n_channels[2], kernel_size=(4, channel_widths[2]), stride=(1, 2), padding=(0, 2)),\n",
        "                nn.BatchNorm2d(n_channels[2]),\n",
        "                nn.ReLU(),\n",
        "            ),\n",
        "            'conv4': nn.Sequential(\n",
        "                nn.LazyConv2d(n_channels[3], kernel_size=(3, channel_widths[3]), stride=(1, 1), padding=(0, 1)),\n",
        "                nn.BatchNorm2d(n_channels[3]),\n",
        "                nn.ReLU(),\n",
        "            ),\n",
        "            'flatten': nn.Flatten()\n",
        "        })\n",
        "        \n",
        "        \n",
        "    def forward(self, x):\n",
        "  \n",
        "        for i in range(1, 5):\n",
        "            x = self.model[f'conv{i}'](x)\n",
        "            \n",
        "        return self.model['flatten'](x)"
      ],
      "metadata": {
        "id": "1akRdJOUlM3M"
      },
      "execution_count": 11,
      "outputs": []
    },
    {
      "cell_type": "code",
      "source": [
        "class ClassificationBlock(nn.Module):\n",
        "    def __init__(self, n_classes, n_linear, dropout):\n",
        "        super().__init__()\n",
        "        \n",
        "        self.model = nn.ModuleDict({\n",
        "            'fc1': nn.Sequential(\n",
        "                nn.LazyLinear(n_linear[0]),\n",
        "                nn.ReLU(),\n",
        "                nn.Dropout(dropout[0])\n",
        "            ),\n",
        "            'fc2': nn.Sequential(\n",
        "                nn.LazyLinear(n_linear[1]),\n",
        "                nn.ReLU(),\n",
        "                nn.Dropout(dropout[1])\n",
        "            ),\n",
        "            'fc3': nn.Sequential(\n",
        "                nn.LazyLinear(n_linear[2]),\n",
        "                nn.ReLU(),\n",
        "                nn.Dropout(dropout[2])\n",
        "            ),\n",
        "            'softmax': nn.Sequential(\n",
        "                nn.LazyLinear(n_classes),\n",
        "                nn.LogSoftmax(dim=1)\n",
        "            )\n",
        "        })\n",
        "        \n",
        "    def forward(self, x):\n",
        "        for i in range(1, 4):\n",
        "            x = self.model[f'fc{i}'](x)\n",
        "            \n",
        "        return self.model['softmax'](x)"
      ],
      "metadata": {
        "id": "pFf75LdIo-ai"
      },
      "execution_count": 12,
      "outputs": []
    },
    {
      "cell_type": "markdown",
      "source": [
        "Объединим эти два блока вместе."
      ],
      "metadata": {
        "id": "6zMjLTB4hOk9"
      }
    },
    {
      "cell_type": "code",
      "source": [
        "class GTZANCNN(nn.Module):\n",
        "    def __init__(self, n_classes, n_channels, channel_widths, n_linear, dropout):\n",
        "        super().__init__()\n",
        "        \n",
        "        self.model = nn.ModuleDict({\n",
        "            'conv_block': ConvolutionalBlock(n_channels, channel_widths),\n",
        "            'clf_block': ClassificationBlock(n_classes, n_linear, dropout)\n",
        "        })\n",
        "        \n",
        "    def forward(self, x):\n",
        "        x = self.model['conv_block'](x)\n",
        "        return self.model['clf_block'](x)\n"
      ],
      "metadata": {
        "id": "cWQXXKeCqNEO"
      },
      "execution_count": 13,
      "outputs": []
    },
    {
      "cell_type": "markdown",
      "source": [
        "Для того, чтобы модель не переобучалась, будем делать early stop - если в течение некоторого количества итераций (patience) loss не уменьшается, заканчиваем тренировать модель. \n",
        "\n",
        "Ссылка на репозиторий с исходным кодом: https://github.com/Bjarten/early-stopping-pytorch/blob/master/pytorchtools.py"
      ],
      "metadata": {
        "id": "lfGgOhjzf9UB"
      }
    },
    {
      "cell_type": "code",
      "source": [
        "class EarlyStopping:\n",
        "    \"\"\"Early stops the training if validation loss doesn't improve after a given patience.\"\"\"\n",
        "    def __init__(self, patience=7, verbose=False, delta=0, path=None, trace_func=print):\n",
        "        \"\"\"\n",
        "        Args:\n",
        "            patience (int): How long to wait after last time validation loss improved.\n",
        "                            Default: 7\n",
        "            verbose (bool): If True, prints a message for each validation loss improvement. \n",
        "                            Default: False\n",
        "            delta (float): Minimum change in the monitored quantity to qualify as an improvement.\n",
        "                            Default: 0\n",
        "            path (str or None): Path for the checkpoint to be saved to.\n",
        "                            Default: 'checkpoint.pt'\n",
        "            trace_func (function): trace print function.\n",
        "                            Default: print            \n",
        "        \"\"\"\n",
        "        self.patience = patience\n",
        "        self.verbose = verbose\n",
        "        self.counter = 0\n",
        "        self.best_score = None\n",
        "        self.early_stop = False\n",
        "        self.val_loss_min = np.Inf\n",
        "        self.delta = delta\n",
        "        self.path = path\n",
        "        self.trace_func = trace_func\n",
        "    def __call__(self, val_loss, model):\n",
        "\n",
        "        score = -val_loss\n",
        "\n",
        "        if self.best_score is None:\n",
        "            self.best_score = score\n",
        "            self.save_checkpoint(val_loss, model)\n",
        "        elif score < self.best_score + self.delta:\n",
        "            self.counter += 1\n",
        "            if self.counter >= self.patience:\n",
        "                self.early_stop = True\n",
        "        else:\n",
        "            self.best_score = score\n",
        "            self.save_checkpoint(val_loss, model)\n",
        "            self.counter = 0\n",
        "\n",
        "    def save_checkpoint(self, val_loss, model):\n",
        "        '''Saves model when validation loss decrease.'''\n",
        "        if self.verbose:\n",
        "            self.trace_func(f'Validation loss decreased ({self.val_loss_min:.6f} --> {val_loss:.6f}).  Saving model ...')\n",
        "        if self.path is not None:\n",
        "            torch.save(model.state_dict(), self.path)\n",
        "        self.val_loss_min = val_loss"
      ],
      "metadata": {
        "id": "rzfSTsiYy1wu"
      },
      "execution_count": 14,
      "outputs": []
    },
    {
      "cell_type": "markdown",
      "source": [
        "Тренируем модель"
      ],
      "metadata": {
        "id": "xNwmAOuMhZci"
      }
    },
    {
      "cell_type": "code",
      "source": [
        "def train(model, optimizer, criterion, train_gen, val_gen):\n",
        "    n_epochs = 100\n",
        "    \n",
        "    # сохраняем loss \n",
        "    avg_train_losses, avg_val_losses = [], []\n",
        "    \n",
        "    # сохраняем accuracy\n",
        "    train_accuracies, val_accuracies = [], []\n",
        "    \n",
        "    # ииинициализируем Early Stop\n",
        "    early_stopping = EarlyStopping(patience=10, verbose=False)\n",
        "    \n",
        "    for epoch in range(n_epochs):\n",
        "        # тренируем модель\n",
        "        model.train()\n",
        "        train_correct, train_losses = [], []\n",
        "        for i, (batch, labels) in enumerate(train_gen):\n",
        "            # выбираем среду выполнения\n",
        "            batch, labels = batch.to(device), labels.to(device)\n",
        "            # зануляем градиенты\n",
        "            optimizer.zero_grad()\n",
        "            # считаем предсказания\n",
        "            log_prob = model(batch)\n",
        "            y_pred = torch.argmax(log_prob, dim=1)\n",
        "            # считаем loss, делаем backpropogation\n",
        "            train_loss = criterion(log_prob, labels)\n",
        "            train_losses.append(train_loss.item())\n",
        "            train_loss.backward()\n",
        "            # считаем количество верных предсказаний\n",
        "            train_correct.append(labels == y_pred)\n",
        "            # обновляем оптимизатор\n",
        "            optimizer.step()\n",
        "            \n",
        "        # считаем средние метрики\n",
        "        avg_train_losses.append(torch.Tensor(train_losses).mean().item())\n",
        "        train_accuracies.append(torch.cat(train_correct).float().mean().item())\n",
        "\n",
        "        # валидация\n",
        "        model.eval()\n",
        "        val_correct, val_losses = [], []\n",
        "        with torch.no_grad():\n",
        "            for i, (batch, labels) in enumerate(val_gen):\n",
        "                # выбираем среду выполнения\n",
        "                batch, labels = batch.to(device), labels.to(device)\n",
        "                # считаем предсказания\n",
        "                log_prob = model(batch)\n",
        "                y_pred = torch.argmax(log_prob, dim=1)\n",
        "                # считаем loss\n",
        "                val_loss = criterion(log_prob, labels)\n",
        "                val_losses.append(val_loss.item())\n",
        "                ## считаем количество верных предсказаний\n",
        "                val_correct.append(labels == y_pred)\n",
        "                \n",
        "        # считаем средние метрики\n",
        "        avg_val_losses.append(torch.Tensor(val_losses).mean().item())\n",
        "        val_accuracies.append(torch.cat(val_correct).float().mean().item())\n",
        "        \n",
        "        # если никаких улучшений - заканчиваем\n",
        "        early_stopping(avg_val_losses[epoch], model)\n",
        "        if early_stopping.early_stop:\n",
        "            break\n",
        "        \n",
        "    return avg_train_losses, avg_val_losses, train_accuracies, val_accuracies, epoch + 1"
      ],
      "metadata": {
        "id": "jbCLIws0qO6b"
      },
      "execution_count": 15,
      "outputs": []
    },
    {
      "cell_type": "markdown",
      "source": [
        "## Эксперименты"
      ],
      "metadata": {
        "id": "rG8gh0UGYw1U"
      }
    },
    {
      "cell_type": "markdown",
      "source": [
        "В ходе исследования методов решения задачи был найден инструмент, позволяющий удобно проводить оптимизацию гиперпараметров сети - [Optuna](https://optuna.org/). \n",
        "\n",
        "Попробуем менять количество каналов, ширину ядра (таким образом захватывая больше или меньше фреймов в одной свертке), количество нейронов в полносвязных сетях и вероятность выбросить нейрон в Dropout. Также будем менять learning rate и weight decay в оптимайзере Adam."
      ],
      "metadata": {
        "id": "u2Suv17qx-q4"
      }
    },
    {
      "cell_type": "code",
      "source": [
        "def objective(trial):\n",
        "    # количество каналов\n",
        "    n_channels = (\n",
        "        trial.suggest_categorical('conv1_depth', (32, 64)),\n",
        "        trial.suggest_categorical('conv2_depth', (64, 128)),\n",
        "        trial.suggest_categorical('conv3_depth', (128, 256)),\n",
        "        trial.suggest_categorical('conv4_depth', (256, 512)),\n",
        "    )\n",
        "    \n",
        "    # ширина ядра\n",
        "    channel_widths = (\n",
        "        trial.suggest_categorical('conv1_width', (16, 32)),\n",
        "        trial.suggest_categorical('conv2_width', (8, 16)),\n",
        "        trial.suggest_categorical('conv3_width', (4, 8)),\n",
        "        trial.suggest_categorical('conv4_width', (2, 4)),\n",
        "    )\n",
        "    \n",
        "    # количество нейронов для полносвязных слоев\n",
        "    n_linear = (\n",
        "        trial.suggest_categorical('fc1', (256, 512)),\n",
        "        trial.suggest_categorical('fc2', (128, 256)),\n",
        "        trial.suggest_categorical('fc3', (64, 128))\n",
        "    )\n",
        "    \n",
        "    # вероятность Dropout\n",
        "    dropout = (\n",
        "        trial.suggest_uniform('p1', 0.1, 0.8),\n",
        "        trial.suggest_uniform('p2', 0.1, 0.8),\n",
        "        trial.suggest_uniform('p3', 0.1, 0.8),\n",
        "    )\n",
        "    \n",
        "    # гиперпараметры для optimizer\n",
        "    learning_rate = trial.suggest_loguniform('learning_rate', 1e-7, 1e-3)\n",
        "    weight_decay = trial.suggest_loguniform('weight_decay', 1e-7, 1e-3)\n",
        "    \n",
        "    # Initialize the model and send it to GPU\n",
        "    model = GTZANCNN(n_classes, n_channels, channel_widths, n_linear, dropout).to(device)\n",
        "    trial.set_user_attr(key='model', value=model)\n",
        "    \n",
        "    optimizer = torch.optim.Adam(model.parameters(), lr=learning_rate, weight_decay=weight_decay)\n",
        "    criterion = nn.NLLLoss()\n",
        "    \n",
        "    train_gen = torch.utils.data.DataLoader(train_set, batch_size=16, shuffle=True, num_workers=2)\n",
        "    val_gen = torch.utils.data.DataLoader(val_set, batch_size=16, shuffle=True, num_workers=2)\n",
        "\n",
        "    avg_train_losses, avg_val_losses, train_accuracies, val_accuracies, epochs = train(model, optimizer, criterion, train_gen, val_gen)\n",
        "    \n",
        "    trial.set_user_attr(key='train_losses', value=avg_train_losses)\n",
        "    trial.set_user_attr(key='val_losses', value=avg_val_losses)\n",
        "    trial.set_user_attr(key='train_accuracies', value=train_accuracies)\n",
        "    trial.set_user_attr(key='val_accuracies', value=val_accuracies)\n",
        "    trial.set_user_attr(key='epochs', value=epochs)\n",
        "\n",
        "    return avg_val_losses[-1]"
      ],
      "metadata": {
        "id": "NrjJc0UftIG6"
      },
      "execution_count": 16,
      "outputs": []
    },
    {
      "cell_type": "markdown",
      "source": [
        "И используем Optima для нахождения лучшей модели."
      ],
      "metadata": {
        "id": "oZdd9f5t1O9E"
      }
    },
    {
      "cell_type": "code",
      "source": [
        "# Create a new Optuna study for hyper-parameter optimization\n",
        "sampler = optuna.samplers.TPESampler(seed=seed)\n",
        "study = optuna.create_study(direction='minimize', sampler=sampler)\n",
        "\n",
        "# W&B integration - Initializes a new job for keeping track of hyper-parameter optimization\n",
        "wb_callback = WeightsAndBiasesCallback(metric_name='val_loss', wandb_kwargs={'project': 'gtzan-cnn', 'name': 'final-search'})\n",
        "\n",
        "# Callback to save the model that had the best Optuna trial\n",
        "def model_callback(study, trial):\n",
        "    if study.best_trial.number == trial.number:\n",
        "        study.set_user_attr(key='best_model', value=trial.user_attrs['model'])\n",
        "\n",
        "# Run the hyper-parameter search\n",
        "study.optimize(objective, n_trials=25, show_progress_bar=True, callbacks=[wb_callback, model_callback])\n",
        "wb.finish()"
      ],
      "metadata": {
        "colab": {
          "base_uri": "https://localhost:8080/",
          "height": 520,
          "referenced_widgets": [
            "288cebd29aa6463ab10990d6868910a2",
            "c3a8a6a538d0449db1dca76958148cae",
            "b4b10121b94449afa4053ef4c9ba4f49",
            "b1c77ea07bbb4df68cdde203510b7acd",
            "ba5fc718421049228774ab428c462a34",
            "09a00c33a5b8425f88f7cd80f39a2975",
            "038dd613798e4e59ab33df3fe164d2b0",
            "1f1b5494890b46b7a1d726b27cdd5723",
            "483907db3fc24d558e42c879fb1471d1",
            "f592898acfee4c6b9f0553c3abf37080",
            "b83b37dac3af4c0bad7beea4668cf467"
          ]
        },
        "id": "Ns_GRWpttNDY",
        "outputId": "2a78610d-6bb6-40b4-bbce-e37503e8e295"
      },
      "execution_count": 17,
      "outputs": [
        {
          "output_type": "stream",
          "name": "stderr",
          "text": [
            "\u001b[32m[I 2022-06-23 01:55:49,419]\u001b[0m A new study created in memory with name: no-name-c6a5d3b2-01bc-4835-953a-430de36749a8\u001b[0m\n"
          ]
        },
        {
          "output_type": "display_data",
          "data": {
            "text/plain": [
              "  0%|          | 0/25 [00:00<?, ?it/s]"
            ],
            "application/vnd.jupyter.widget-view+json": {
              "version_major": 2,
              "version_minor": 0,
              "model_id": "288cebd29aa6463ab10990d6868910a2"
            }
          },
          "metadata": {}
        },
        {
          "output_type": "stream",
          "name": "stdout",
          "text": [
            "\u001b[32m[I 2022-06-23 01:57:38,465]\u001b[0m Trial 0 finished with value: 1.5206555128097534 and parameters: {'conv1_depth': 64, 'conv2_depth': 64, 'conv3_depth': 128, 'conv4_depth': 512, 'conv1_width': 32, 'conv2_width': 16, 'conv3_width': 4, 'conv4_width': 4, 'fc1': 512, 'fc2': 128, 'fc3': 64, 'p1': 0.3045012539746528, 'p2': 0.35645329030558426, 'p3': 0.4192489889519252, 'learning_rate': 0.0001382623217936986, 'weight_decay': 6.290644294586138e-07}. Best is trial 0 with value: 1.5206555128097534.\u001b[0m\n",
            "\u001b[32m[I 2022-06-23 02:00:34,004]\u001b[0m Trial 1 finished with value: 1.6894868612289429 and parameters: {'conv1_depth': 64, 'conv2_depth': 128, 'conv3_depth': 128, 'conv4_depth': 512, 'conv1_width': 16, 'conv2_width': 16, 'conv3_width': 4, 'conv4_width': 2, 'fc1': 256, 'fc2': 128, 'fc3': 128, 'p1': 0.22939811886786896, 'p2': 0.778709239435191, 'p3': 0.6425929763527802, 'learning_rate': 0.0005727904470799618, 'weight_decay': 0.0003795853142670637}. Best is trial 0 with value: 1.5206555128097534.\u001b[0m\n",
            "\u001b[32m[I 2022-06-23 02:04:44,772]\u001b[0m Trial 2 finished with value: 2.174612283706665 and parameters: {'conv1_depth': 64, 'conv2_depth': 128, 'conv3_depth': 256, 'conv4_depth': 256, 'conv1_width': 16, 'conv2_width': 16, 'conv3_width': 8, 'conv4_width': 4, 'fc1': 256, 'fc2': 256, 'fc3': 128, 'p1': 0.639889242680162, 'p2': 0.15183125621386326, 'p3': 0.3509260099809909, 'learning_rate': 2.9072088906598423e-07, 'weight_decay': 0.000283409042951477}. Best is trial 0 with value: 1.5206555128097534.\u001b[0m\n",
            "\u001b[32m[I 2022-06-23 02:08:51,482]\u001b[0m Trial 3 finished with value: 1.289629578590393 and parameters: {'conv1_depth': 32, 'conv2_depth': 128, 'conv3_depth': 256, 'conv4_depth': 512, 'conv1_width': 16, 'conv2_width': 16, 'conv3_width': 8, 'conv4_width': 4, 'fc1': 256, 'fc2': 128, 'fc3': 64, 'p1': 0.455999483815292, 'p2': 0.7352965317482651, 'p3': 0.27450456040421245, 'learning_rate': 4.380580767905653e-06, 'weight_decay': 0.00010524574681335637}. Best is trial 3 with value: 1.289629578590393.\u001b[0m\n",
            "\u001b[32m[I 2022-06-23 02:11:30,798]\u001b[0m Trial 4 finished with value: 1.3116809129714966 and parameters: {'conv1_depth': 32, 'conv2_depth': 64, 'conv3_depth': 128, 'conv4_depth': 512, 'conv1_width': 16, 'conv2_width': 8, 'conv3_width': 8, 'conv4_width': 2, 'fc1': 512, 'fc2': 256, 'fc3': 128, 'p1': 0.39218770220414534, 'p2': 0.2554754673295112, 'p3': 0.18390575713357799, 'learning_rate': 2.2410971619109486e-06, 'weight_decay': 0.000591069861908854}. Best is trial 3 with value: 1.289629578590393.\u001b[0m\n",
            "\u001b[32m[I 2022-06-23 02:15:37,564]\u001b[0m Trial 5 finished with value: 1.4439641237258911 and parameters: {'conv1_depth': 64, 'conv2_depth': 64, 'conv3_depth': 128, 'conv4_depth': 512, 'conv1_width': 16, 'conv2_width': 16, 'conv3_width': 4, 'conv4_width': 4, 'fc1': 256, 'fc2': 256, 'fc3': 128, 'p1': 0.6331337307301024, 'p2': 0.2663462807946798, 'p3': 0.6097514440283017, 'learning_rate': 2.9589152820953085e-06, 'weight_decay': 3.382387201936211e-05}. Best is trial 3 with value: 1.289629578590393.\u001b[0m\n",
            "\u001b[32m[I 2022-06-23 02:17:44,902]\u001b[0m Trial 6 finished with value: 1.3889635801315308 and parameters: {'conv1_depth': 32, 'conv2_depth': 128, 'conv3_depth': 128, 'conv4_depth': 512, 'conv1_width': 16, 'conv2_width': 8, 'conv3_width': 4, 'conv4_width': 2, 'fc1': 256, 'fc2': 128, 'fc3': 64, 'p1': 0.28055913940060895, 'p2': 0.5619888322239254, 'p3': 0.6720555401408511, 'learning_rate': 1.6626592254031844e-05, 'weight_decay': 1.3140210226207374e-05}. Best is trial 3 with value: 1.289629578590393.\u001b[0m\n",
            "\u001b[32m[I 2022-06-23 02:19:37,157]\u001b[0m Trial 7 finished with value: 1.6177501678466797 and parameters: {'conv1_depth': 32, 'conv2_depth': 128, 'conv3_depth': 128, 'conv4_depth': 512, 'conv1_width': 16, 'conv2_width': 8, 'conv3_width': 8, 'conv4_width': 2, 'fc1': 512, 'fc2': 128, 'fc3': 128, 'p1': 0.5843266383848853, 'p2': 0.5563728816518204, 'p3': 0.25698851662239186, 'learning_rate': 7.058572590901792e-05, 'weight_decay': 8.891936446296235e-07}. Best is trial 3 with value: 1.289629578590393.\u001b[0m\n",
            "\u001b[32m[I 2022-06-23 02:20:40,413]\u001b[0m Trial 8 finished with value: 2.020953893661499 and parameters: {'conv1_depth': 64, 'conv2_depth': 128, 'conv3_depth': 128, 'conv4_depth': 512, 'conv1_width': 16, 'conv2_width': 8, 'conv3_width': 4, 'conv4_width': 2, 'fc1': 256, 'fc2': 256, 'fc3': 64, 'p1': 0.5518306071350175, 'p2': 0.22397747558493428, 'p3': 0.75832100904704, 'learning_rate': 0.0006542056762893126, 'weight_decay': 0.00045651763726463264}. Best is trial 3 with value: 1.289629578590393.\u001b[0m\n",
            "\u001b[32m[I 2022-06-23 02:23:43,791]\u001b[0m Trial 9 finished with value: 1.9343692064285278 and parameters: {'conv1_depth': 32, 'conv2_depth': 64, 'conv3_depth': 128, 'conv4_depth': 256, 'conv1_width': 32, 'conv2_width': 8, 'conv3_width': 8, 'conv4_width': 2, 'fc1': 512, 'fc2': 128, 'fc3': 128, 'p1': 0.6185380324279431, 'p2': 0.5879110186966876, 'p3': 0.5917388587909765, 'learning_rate': 2.741350741975823e-06, 'weight_decay': 1.4940577239079718e-06}. Best is trial 3 with value: 1.289629578590393.\u001b[0m\n",
            "\u001b[32m[I 2022-06-23 02:25:04,068]\u001b[0m Trial 10 finished with value: 2.292025089263916 and parameters: {'conv1_depth': 32, 'conv2_depth': 128, 'conv3_depth': 256, 'conv4_depth': 256, 'conv1_width': 32, 'conv2_width': 16, 'conv3_width': 8, 'conv4_width': 4, 'fc1': 256, 'fc2': 128, 'fc3': 64, 'p1': 0.1217476424961334, 'p2': 0.7473123495845048, 'p3': 0.14767698873262877, 'learning_rate': 1.867587984082642e-07, 'weight_decay': 6.771689399890498e-05}. Best is trial 3 with value: 1.289629578590393.\u001b[0m\n",
            "\u001b[32m[I 2022-06-23 02:26:58,538]\u001b[0m Trial 11 finished with value: 1.7588579654693604 and parameters: {'conv1_depth': 32, 'conv2_depth': 64, 'conv3_depth': 256, 'conv4_depth': 512, 'conv1_width': 16, 'conv2_width': 8, 'conv3_width': 8, 'conv4_width': 4, 'fc1': 512, 'fc2': 256, 'fc3': 64, 'p1': 0.42488115031798057, 'p2': 0.4331896610130006, 'p3': 0.1029628386740177, 'learning_rate': 1.416293093488651e-06, 'weight_decay': 9.056013241208984e-05}. Best is trial 3 with value: 1.289629578590393.\u001b[0m\n",
            "\u001b[32m[I 2022-06-23 02:29:03,504]\u001b[0m Trial 12 finished with value: 1.137463927268982 and parameters: {'conv1_depth': 32, 'conv2_depth': 64, 'conv3_depth': 256, 'conv4_depth': 512, 'conv1_width': 16, 'conv2_width': 16, 'conv3_width': 8, 'conv4_width': 2, 'fc1': 512, 'fc2': 256, 'fc3': 128, 'p1': 0.414149259686986, 'p2': 0.6743305772306842, 'p3': 0.22770650040423035, 'learning_rate': 1.283601889740583e-05, 'weight_decay': 0.0007534933229670144}. Best is trial 12 with value: 1.137463927268982.\u001b[0m\n",
            "\u001b[32m[I 2022-06-23 02:31:17,285]\u001b[0m Trial 13 finished with value: 1.1874134540557861 and parameters: {'conv1_depth': 32, 'conv2_depth': 64, 'conv3_depth': 256, 'conv4_depth': 512, 'conv1_width': 16, 'conv2_width': 16, 'conv3_width': 8, 'conv4_width': 4, 'fc1': 512, 'fc2': 256, 'fc3': 64, 'p1': 0.7627634484894944, 'p2': 0.6615238261273689, 'p3': 0.2969899817052717, 'learning_rate': 1.843933968020741e-05, 'weight_decay': 0.000904666278507176}. Best is trial 12 with value: 1.137463927268982.\u001b[0m\n",
            "\u001b[32m[I 2022-06-23 02:34:55,919]\u001b[0m Trial 14 finished with value: 1.266111135482788 and parameters: {'conv1_depth': 32, 'conv2_depth': 64, 'conv3_depth': 256, 'conv4_depth': 512, 'conv1_width': 16, 'conv2_width': 16, 'conv3_width': 8, 'conv4_width': 2, 'fc1': 512, 'fc2': 256, 'fc3': 64, 'p1': 0.7669576073040992, 'p2': 0.6641900437981473, 'p3': 0.45101991079565684, 'learning_rate': 2.1847916543926044e-05, 'weight_decay': 5.261157469125627e-06}. Best is trial 12 with value: 1.137463927268982.\u001b[0m\n",
            "\u001b[32m[I 2022-06-23 02:37:10,728]\u001b[0m Trial 15 finished with value: 1.2085027694702148 and parameters: {'conv1_depth': 32, 'conv2_depth': 64, 'conv3_depth': 256, 'conv4_depth': 256, 'conv1_width': 32, 'conv2_width': 16, 'conv3_width': 8, 'conv4_width': 4, 'fc1': 512, 'fc2': 256, 'fc3': 128, 'p1': 0.778706386444393, 'p2': 0.6487470352023671, 'p3': 0.275244521741385, 'learning_rate': 4.479717901387352e-05, 'weight_decay': 0.0008279436167205213}. Best is trial 12 with value: 1.137463927268982.\u001b[0m\n",
            "\u001b[32m[I 2022-06-23 02:39:27,974]\u001b[0m Trial 16 finished with value: 1.1081092357635498 and parameters: {'conv1_depth': 32, 'conv2_depth': 64, 'conv3_depth': 256, 'conv4_depth': 512, 'conv1_width': 16, 'conv2_width': 16, 'conv3_width': 8, 'conv4_width': 4, 'fc1': 512, 'fc2': 256, 'fc3': 128, 'p1': 0.49398158354821986, 'p2': 0.4561494112995224, 'p3': 0.4764092816990422, 'learning_rate': 9.563183365058226e-06, 'weight_decay': 0.00018276854048738497}. Best is trial 16 with value: 1.1081092357635498.\u001b[0m\n",
            "\u001b[32m[I 2022-06-23 02:42:44,359]\u001b[0m Trial 17 finished with value: 1.971286416053772 and parameters: {'conv1_depth': 32, 'conv2_depth': 64, 'conv3_depth': 256, 'conv4_depth': 512, 'conv1_width': 16, 'conv2_width': 16, 'conv3_width': 8, 'conv4_width': 2, 'fc1': 512, 'fc2': 256, 'fc3': 128, 'p1': 0.4972325168166041, 'p2': 0.452163785074475, 'p3': 0.5248301904862442, 'learning_rate': 7.107522934551691e-07, 'weight_decay': 1.196906259049571e-07}. Best is trial 16 with value: 1.1081092357635498.\u001b[0m\n",
            "\u001b[32m[I 2022-06-23 02:45:58,204]\u001b[0m Trial 18 finished with value: 1.1378661394119263 and parameters: {'conv1_depth': 32, 'conv2_depth': 64, 'conv3_depth': 256, 'conv4_depth': 256, 'conv1_width': 32, 'conv2_width': 16, 'conv3_width': 8, 'conv4_width': 2, 'fc1': 512, 'fc2': 256, 'fc3': 128, 'p1': 0.3579497597026562, 'p2': 0.4346189563473708, 'p3': 0.4447469062635555, 'learning_rate': 6.361226904953426e-06, 'weight_decay': 0.00019684846957296068}. Best is trial 16 with value: 1.1081092357635498.\u001b[0m\n",
            "\u001b[32m[I 2022-06-23 02:47:21,136]\u001b[0m Trial 19 finished with value: 1.2772146463394165 and parameters: {'conv1_depth': 32, 'conv2_depth': 64, 'conv3_depth': 256, 'conv4_depth': 512, 'conv1_width': 16, 'conv2_width': 16, 'conv3_width': 8, 'conv4_width': 4, 'fc1': 512, 'fc2': 256, 'fc3': 128, 'p1': 0.49129293838242305, 'p2': 0.34517681162287367, 'p3': 0.5066873142325438, 'learning_rate': 0.00018459590939755882, 'weight_decay': 2.838728812088443e-05}. Best is trial 16 with value: 1.1081092357635498.\u001b[0m\n",
            "\u001b[32m[I 2022-06-23 02:49:42,921]\u001b[0m Trial 20 finished with value: 1.0930436849594116 and parameters: {'conv1_depth': 32, 'conv2_depth': 64, 'conv3_depth': 256, 'conv4_depth': 512, 'conv1_width': 16, 'conv2_width': 16, 'conv3_width': 8, 'conv4_width': 4, 'fc1': 512, 'fc2': 256, 'fc3': 128, 'p1': 0.14249052872213303, 'p2': 0.5227745572428337, 'p3': 0.5232298382880523, 'learning_rate': 8.117633309269598e-06, 'weight_decay': 7.261844128841559e-06}. Best is trial 20 with value: 1.0930436849594116.\u001b[0m\n",
            "\u001b[32m[I 2022-06-23 02:52:22,929]\u001b[0m Trial 21 finished with value: 1.172141194343567 and parameters: {'conv1_depth': 32, 'conv2_depth': 64, 'conv3_depth': 256, 'conv4_depth': 512, 'conv1_width': 16, 'conv2_width': 16, 'conv3_width': 8, 'conv4_width': 4, 'fc1': 512, 'fc2': 256, 'fc3': 128, 'p1': 0.11988152406000727, 'p2': 0.48438922716640054, 'p3': 0.3697718616022595, 'learning_rate': 9.65899963475521e-06, 'weight_decay': 4.213189352257194e-06}. Best is trial 20 with value: 1.0930436849594116.\u001b[0m\n",
            "\u001b[32m[I 2022-06-23 02:56:45,725]\u001b[0m Trial 22 finished with value: 1.6512686014175415 and parameters: {'conv1_depth': 32, 'conv2_depth': 64, 'conv3_depth': 256, 'conv4_depth': 512, 'conv1_width': 16, 'conv2_width': 16, 'conv3_width': 8, 'conv4_width': 4, 'fc1': 512, 'fc2': 256, 'fc3': 128, 'p1': 0.1959719821235302, 'p2': 0.5198759972675117, 'p3': 0.5417788512964575, 'learning_rate': 8.773761387839842e-07, 'weight_decay': 1.018449403476855e-05}. Best is trial 20 with value: 1.0930436849594116.\u001b[0m\n",
            "\u001b[32m[I 2022-06-23 02:58:14,225]\u001b[0m Trial 23 finished with value: 1.2771352529525757 and parameters: {'conv1_depth': 32, 'conv2_depth': 64, 'conv3_depth': 256, 'conv4_depth': 512, 'conv1_width': 16, 'conv2_width': 16, 'conv3_width': 8, 'conv4_width': 4, 'fc1': 512, 'fc2': 256, 'fc3': 128, 'p1': 0.34989906380623237, 'p2': 0.3570552347382974, 'p3': 0.7128386277958996, 'learning_rate': 3.7966963301053016e-05, 'weight_decay': 2.6074918580325006e-05}. Best is trial 20 with value: 1.0930436849594116.\u001b[0m\n",
            "\u001b[32m[I 2022-06-23 03:02:33,672]\u001b[0m Trial 24 finished with value: 1.239201545715332 and parameters: {'conv1_depth': 32, 'conv2_depth': 64, 'conv3_depth': 256, 'conv4_depth': 512, 'conv1_width': 16, 'conv2_width': 16, 'conv3_width': 8, 'conv4_width': 4, 'fc1': 512, 'fc2': 256, 'fc3': 128, 'p1': 0.7023808583792746, 'p2': 0.6124915808843712, 'p3': 0.48568570290934515, 'learning_rate': 6.030761513125998e-06, 'weight_decay': 0.00016861612047477597}. Best is trial 20 with value: 1.0930436849594116.\u001b[0m\n"
          ]
        }
      ]
    },
    {
      "cell_type": "markdown",
      "source": [
        "Параметры лучшей модели"
      ],
      "metadata": {
        "id": "96ND0r4t1Yqe"
      }
    },
    {
      "cell_type": "code",
      "source": [
        "# Fetch the best trial and model\n",
        "trial = study.best_trial\n",
        "model = study.user_attrs['best_model']\n",
        "\n",
        "# Display model configuration\n",
        "print(f'NLL (Val): {trial.value}')\n",
        "print('Configuration: ')\n",
        "for key, value in trial.params.items():\n",
        "    print(f'\\t{key}: {value}')\n",
        "\n",
        "print(\"Best model:\")\n",
        "print(model)"
      ],
      "metadata": {
        "colab": {
          "base_uri": "https://localhost:8080/"
        },
        "id": "gM7kG0gNtP4s",
        "outputId": "05401995-b5b8-4270-e483-cd62e61464e8"
      },
      "execution_count": 18,
      "outputs": [
        {
          "output_type": "stream",
          "name": "stdout",
          "text": [
            "NLL (Val): 1.0930436849594116\n",
            "Configuration: \n",
            "\tconv1_depth: 32\n",
            "\tconv2_depth: 64\n",
            "\tconv3_depth: 256\n",
            "\tconv4_depth: 512\n",
            "\tconv1_width: 16\n",
            "\tconv2_width: 16\n",
            "\tconv3_width: 8\n",
            "\tconv4_width: 4\n",
            "\tfc1: 512\n",
            "\tfc2: 256\n",
            "\tfc3: 128\n",
            "\tp1: 0.14249052872213303\n",
            "\tp2: 0.5227745572428337\n",
            "\tp3: 0.5232298382880523\n",
            "\tlearning_rate: 8.117633309269598e-06\n",
            "\tweight_decay: 7.261844128841559e-06\n",
            "Best model:\n",
            "GTZANCNN(\n",
            "  (model): ModuleDict(\n",
            "    (conv_block): ConvolutionalBlock(\n",
            "      (model): ModuleDict(\n",
            "        (conv1): Sequential(\n",
            "          (0): Conv2d(6, 32, kernel_size=(8, 16), stride=(3, 4), padding=(11, 4))\n",
            "          (1): BatchNorm2d(32, eps=1e-05, momentum=0.1, affine=True, track_running_stats=True)\n",
            "          (2): ReLU()\n",
            "        )\n",
            "        (conv2): Sequential(\n",
            "          (0): Conv2d(32, 64, kernel_size=(6, 16), stride=(2, 3), padding=(4, 3))\n",
            "          (1): BatchNorm2d(64, eps=1e-05, momentum=0.1, affine=True, track_running_stats=True)\n",
            "          (2): ReLU()\n",
            "        )\n",
            "        (conv3): Sequential(\n",
            "          (0): Conv2d(64, 256, kernel_size=(4, 8), stride=(1, 2), padding=(0, 2))\n",
            "          (1): BatchNorm2d(256, eps=1e-05, momentum=0.1, affine=True, track_running_stats=True)\n",
            "          (2): ReLU()\n",
            "        )\n",
            "        (conv4): Sequential(\n",
            "          (0): Conv2d(256, 512, kernel_size=(3, 4), stride=(1, 1), padding=(0, 1))\n",
            "          (1): BatchNorm2d(512, eps=1e-05, momentum=0.1, affine=True, track_running_stats=True)\n",
            "          (2): ReLU()\n",
            "        )\n",
            "        (flatten): Flatten(start_dim=1, end_dim=-1)\n",
            "      )\n",
            "    )\n",
            "    (clf_block): ClassificationBlock(\n",
            "      (model): ModuleDict(\n",
            "        (fc1): Sequential(\n",
            "          (0): Linear(in_features=25600, out_features=512, bias=True)\n",
            "          (1): ReLU()\n",
            "          (2): Dropout(p=0.14249052872213303, inplace=False)\n",
            "        )\n",
            "        (fc2): Sequential(\n",
            "          (0): Linear(in_features=512, out_features=256, bias=True)\n",
            "          (1): ReLU()\n",
            "          (2): Dropout(p=0.5227745572428337, inplace=False)\n",
            "        )\n",
            "        (fc3): Sequential(\n",
            "          (0): Linear(in_features=256, out_features=128, bias=True)\n",
            "          (1): ReLU()\n",
            "          (2): Dropout(p=0.5232298382880523, inplace=False)\n",
            "        )\n",
            "        (softmax): Sequential(\n",
            "          (0): Linear(in_features=128, out_features=10, bias=True)\n",
            "          (1): LogSoftmax(dim=1)\n",
            "        )\n",
            "      )\n",
            "    )\n",
            "  )\n",
            ")\n"
          ]
        }
      ]
    },
    {
      "cell_type": "markdown",
      "source": [
        "## Результаты"
      ],
      "metadata": {
        "id": "Qmr3XikdhlsZ"
      }
    },
    {
      "cell_type": "markdown",
      "source": [
        "Посмотрим на то, как обучалась модель и какие у нее были метрики. Результаты будем сравнивать со статьей Gabriel Gessle and Simon Åkesson, A comparative analysis of CNN and LSTM for music genre classification\n",
        "(https://www.diva-portal.org/smash/get/diva2:1354738/FULLTEXT01.pdf)\n"
      ],
      "metadata": {
        "id": "fniNi70Dhq85"
      }
    },
    {
      "cell_type": "code",
      "source": [
        "fig, axs = plt.subplots(1, 2, figsize=(12, 4))\n",
        "\n",
        "sns.lineplot(data=pd.DataFrame({\n",
        "    'Training': trial.user_attrs['train_losses'], \n",
        "    'Validation': trial.user_attrs['val_losses']\n",
        "}), ax=axs[0])\n",
        "axs[0].set(title='Loss', xlabel='Epoch', ylabel='Loss')\n",
        "axs[0].xaxis.get_major_locator().set_params(integer=True)\n",
        "\n",
        "axs[1] = sns.lineplot(data=pd.DataFrame({\n",
        "    'Training': trial.user_attrs['train_accuracies'], \n",
        "    'Validation': trial.user_attrs['val_accuracies']\n",
        "}))\n",
        "axs[1].set(title='Accuracy', xlabel='Epoch', ylabel='Accuracy')\n",
        "axs[1].xaxis.get_major_locator().set_params(integer=True)\n",
        "\n",
        "plt.show()"
      ],
      "metadata": {
        "colab": {
          "base_uri": "https://localhost:8080/",
          "height": 295
        },
        "id": "nwIBfNhB4bsE",
        "outputId": "802ab03f-e90e-450b-fdc9-22d347b57e48"
      },
      "execution_count": 19,
      "outputs": [
        {
          "output_type": "display_data",
          "data": {
            "text/plain": [
              "<Figure size 864x288 with 2 Axes>"
            ],
            "image/png": "[encoded data removed]"
          },
          "metadata": {
            "needs_background": "light"
          }
        }
      ]
    },
    {
      "cell_type": "code",
      "source": [
        "model.eval()\n",
        "\n",
        "test_gen = torch.utils.data.DataLoader(test_set, batch_size=len(test_set), num_workers=2)\n",
        "\n",
        "batch, labels = next(iter(test_gen))\n",
        "batch, labels = batch.to(device), labels.to(device)\n",
        "\n",
        "y = model(batch)\n",
        "y_pred = torch.argmax(y, dim=1)\n",
        "\n",
        "torch.mean((labels == y_pred).float())"
      ],
      "metadata": {
        "colab": {
          "base_uri": "https://localhost:8080/"
        },
        "id": "KBDP0Rfn8gp1",
        "outputId": "4b0a8507-046c-4444-999b-f3c753cbe8e8"
      },
      "execution_count": 20,
      "outputs": [
        {
          "output_type": "execute_result",
          "data": {
            "text/plain": [
              "tensor(0.6600, device='cuda:0')"
            ]
          },
          "metadata": {},
          "execution_count": 20
        }
      ]
    },
    {
      "cell_type": "markdown",
      "source": [
        "Таким образом, средняя accuracy равна 0.66, что превышает значение из статьи."
      ],
      "metadata": {
        "id": "vU__WYnrhzZP"
      }
    },
    {
      "cell_type": "markdown",
      "source": [
        "Посмотрим на то, как модель работает с разными классами."
      ],
      "metadata": {
        "id": "XXhUPlgLiRGi"
      }
    },
    {
      "cell_type": "code",
      "source": [
        "# Plot the test confusion matrix with per-class precision and recall values\n",
        "fig, ax = plt.subplots(figsize=(11, 11))\n",
        "true_val = labels.cpu().numpy()\n",
        "pred_val = y_pred.cpu().numpy()\n",
        "cm = sklearn.metrics.confusion_matrix(true_val, pred_val)\n",
        "daze.plot_confusion_matrix(cm, measures=('a', 'c', 'p', 'r'), display_labels=classes, measures_format='.2f', ax=ax)\n",
        "plt.show()\n"
      ],
      "metadata": {
        "colab": {
          "base_uri": "https://localhost:8080/",
          "height": 692
        },
        "id": "kL_lNOrLB4Bw",
        "outputId": "0dee29ae-a0a4-463b-a25b-b0678dd0cbbf"
      },
      "execution_count": 22,
      "outputs": [
        {
          "output_type": "display_data",
          "data": {
            "text/plain": [
              "<Figure size 792x792 with 2 Axes>"
            ],
            "image/png": "[encoded data removed]"
          },
          "metadata": {
            "needs_background": "light"
          }
        }
      ]
    },
    {
      "cell_type": "markdown",
      "source": [
        "В теории можно послушать те аудиозаписи, которые модель классифицировала неправильно, и оценить, насколько они отличаются."
      ],
      "metadata": {
        "id": "KgiewtXnibSt"
      }
    },
    {
      "cell_type": "code",
      "source": [
        "names = pd.read_csv(os.path.join(data_path, 'prepared_data', \"test\", 'filenames.csv'))\n",
        "names[\"true\"] = true_val\n",
        "names[\"predicted\"] = pred_val\n",
        "names.drop(names.index[true_val == pred_val])"
      ],
      "metadata": {
        "colab": {
          "base_uri": "https://localhost:8080/",
          "height": 1000
        },
        "id": "pxBUCfQ8B8yC",
        "outputId": "2e57b349-e307-4585-8d30-d0eb4dde4e08"
      },
      "execution_count": 28,
      "outputs": [
        {
          "output_type": "execute_result",
          "data": {
            "text/plain": [
              "    Unnamed: 0           filename  true  predicted\n",
              "4            4     rock.00063.wav     9          4\n",
              "6            6    disco.00021.wav     3          7\n",
              "9            9   hiphop.00098.wav     4          6\n",
              "10          10  country.00067.wav     2          0\n",
              "13          13  country.00043.wav     2          9\n",
              "14          14    blues.00002.wav     0          2\n",
              "19          19    blues.00097.wav     0          2\n",
              "22          22      pop.00010.wav     7          0\n",
              "25          25  country.00054.wav     2          5\n",
              "26          26   reggae.00015.wav     8          0\n",
              "29          29   hiphop.00015.wav     4          9\n",
              "31          31     rock.00069.wav     9          5\n",
              "32          32    disco.00026.wav     3          7\n",
              "33          33     rock.00051.wav     9          5\n",
              "35          35   reggae.00079.wav     8          4\n",
              "37          37  country.00001.wav     2          5\n",
              "40          40    metal.00089.wav     6          0\n",
              "42          42     rock.00052.wav     9          2\n",
              "44          44     rock.00058.wav     9          3\n",
              "48          48     rock.00055.wav     9          1\n",
              "50          50   hiphop.00029.wav     4          3\n",
              "52          52   hiphop.00054.wav     4          7\n",
              "60          60   reggae.00022.wav     8          3\n",
              "66          66    blues.00074.wav     0          5\n",
              "68          68   reggae.00094.wav     8          2\n",
              "71          71     rock.00095.wav     9          5\n",
              "73          73    blues.00082.wav     0          9\n",
              "78          78   hiphop.00012.wav     4          0\n",
              "82          82    disco.00085.wav     3          4\n",
              "89          89    metal.00030.wav     6          0\n",
              "91          91   reggae.00098.wav     8          5\n",
              "96          96   hiphop.00062.wav     4          8\n",
              "97          97    disco.00029.wav     3          7\n",
              "98          98    metal.00018.wav     6          9"
            ],
            "text/html": [
              "\n",
              "  <div id=\"df-bd7d2b11-7535-47bf-82f7-d1e68b2c505e\">\n",
              "    <div class=\"colab-df-container\">\n",
              "      <div>\n",
              "<style scoped>\n",
              "    .dataframe tbody tr th:only-of-type {\n",
              "        vertical-align: middle;\n",
              "    }\n",
              "\n",
              "    .dataframe tbody tr th {\n",
              "        vertical-align: top;\n",
              "    }\n",
              "\n",
              "    .dataframe thead th {\n",
              "        text-align: right;\n",
              "    }\n",
              "</style>\n",
              "<table border=\"1\" class=\"dataframe\">\n",
              "  <thead>\n",
              "    <tr style=\"text-align: right;\">\n",
              "      <th></th>\n",
              "      <th>Unnamed: 0</th>\n",
              "      <th>filename</th>\n",
              "      <th>true</th>\n",
              "      <th>predicted</th>\n",
              "    </tr>\n",
              "  </thead>\n",
              "  <tbody>\n",
              "    <tr>\n",
              "      <th>4</th>\n",
              "      <td>4</td>\n",
              "      <td>rock.00063.wav</td>\n",
              "      <td>9</td>\n",
              "      <td>4</td>\n",
              "    </tr>\n",
              "    <tr>\n",
              "      <th>6</th>\n",
              "      <td>6</td>\n",
              "      <td>disco.00021.wav</td>\n",
              "      <td>3</td>\n",
              "      <td>7</td>\n",
              "    </tr>\n",
              "    <tr>\n",
              "      <th>9</th>\n",
              "      <td>9</td>\n",
              "      <td>hiphop.00098.wav</td>\n",
              "      <td>4</td>\n",
              "      <td>6</td>\n",
              "    </tr>\n",
              "    <tr>\n",
              "      <th>10</th>\n",
              "      <td>10</td>\n",
              "      <td>country.00067.wav</td>\n",
              "      <td>2</td>\n",
              "      <td>0</td>\n",
              "    </tr>\n",
              "    <tr>\n",
              "      <th>13</th>\n",
              "      <td>13</td>\n",
              "      <td>country.00043.wav</td>\n",
              "      <td>2</td>\n",
              "      <td>9</td>\n",
              "    </tr>\n",
              "    <tr>\n",
              "      <th>14</th>\n",
              "      <td>14</td>\n",
              "      <td>blues.00002.wav</td>\n",
              "      <td>0</td>\n",
              "      <td>2</td>\n",
              "    </tr>\n",
              "    <tr>\n",
              "      <th>19</th>\n",
              "      <td>19</td>\n",
              "      <td>blues.00097.wav</td>\n",
              "      <td>0</td>\n",
              "      <td>2</td>\n",
              "    </tr>\n",
              "    <tr>\n",
              "      <th>22</th>\n",
              "      <td>22</td>\n",
              "      <td>pop.00010.wav</td>\n",
              "      <td>7</td>\n",
              "      <td>0</td>\n",
              "    </tr>\n",
              "    <tr>\n",
              "      <th>25</th>\n",
              "      <td>25</td>\n",
              "      <td>country.00054.wav</td>\n",
              "      <td>2</td>\n",
              "      <td>5</td>\n",
              "    </tr>\n",
              "    <tr>\n",
              "      <th>26</th>\n",
              "      <td>26</td>\n",
              "      <td>reggae.00015.wav</td>\n",
              "      <td>8</td>\n",
              "      <td>0</td>\n",
              "    </tr>\n",
              "    <tr>\n",
              "      <th>29</th>\n",
              "      <td>29</td>\n",
              "      <td>hiphop.00015.wav</td>\n",
              "      <td>4</td>\n",
              "      <td>9</td>\n",
              "    </tr>\n",
              "    <tr>\n",
              "      <th>31</th>\n",
              "      <td>31</td>\n",
              "      <td>rock.00069.wav</td>\n",
              "      <td>9</td>\n",
              "      <td>5</td>\n",
              "    </tr>\n",
              "    <tr>\n",
              "      <th>32</th>\n",
              "      <td>32</td>\n",
              "      <td>disco.00026.wav</td>\n",
              "      <td>3</td>\n",
              "      <td>7</td>\n",
              "    </tr>\n",
              "    <tr>\n",
              "      <th>33</th>\n",
              "      <td>33</td>\n",
              "      <td>rock.00051.wav</td>\n",
              "      <td>9</td>\n",
              "      <td>5</td>\n",
              "    </tr>\n",
              "    <tr>\n",
              "      <th>35</th>\n",
              "      <td>35</td>\n",
              "      <td>reggae.00079.wav</td>\n",
              "      <td>8</td>\n",
              "      <td>4</td>\n",
              "    </tr>\n",
              "    <tr>\n",
              "      <th>37</th>\n",
              "      <td>37</td>\n",
              "      <td>country.00001.wav</td>\n",
              "      <td>2</td>\n",
              "      <td>5</td>\n",
              "    </tr>\n",
              "    <tr>\n",
              "      <th>40</th>\n",
              "      <td>40</td>\n",
              "      <td>metal.00089.wav</td>\n",
              "      <td>6</td>\n",
              "      <td>0</td>\n",
              "    </tr>\n",
              "    <tr>\n",
              "      <th>42</th>\n",
              "      <td>42</td>\n",
              "      <td>rock.00052.wav</td>\n",
              "      <td>9</td>\n",
              "      <td>2</td>\n",
              "    </tr>\n",
              "    <tr>\n",
              "      <th>44</th>\n",
              "      <td>44</td>\n",
              "      <td>rock.00058.wav</td>\n",
              "      <td>9</td>\n",
              "      <td>3</td>\n",
              "    </tr>\n",
              "    <tr>\n",
              "      <th>48</th>\n",
              "      <td>48</td>\n",
              "      <td>rock.00055.wav</td>\n",
              "      <td>9</td>\n",
              "      <td>1</td>\n",
              "    </tr>\n",
              "    <tr>\n",
              "      <th>50</th>\n",
              "      <td>50</td>\n",
              "      <td>hiphop.00029.wav</td>\n",
              "      <td>4</td>\n",
              "      <td>3</td>\n",
              "    </tr>\n",
              "    <tr>\n",
              "      <th>52</th>\n",
              "      <td>52</td>\n",
              "      <td>hiphop.00054.wav</td>\n",
              "      <td>4</td>\n",
              "      <td>7</td>\n",
              "    </tr>\n",
              "    <tr>\n",
              "      <th>60</th>\n",
              "      <td>60</td>\n",
              "      <td>reggae.00022.wav</td>\n",
              "      <td>8</td>\n",
              "      <td>3</td>\n",
              "    </tr>\n",
              "    <tr>\n",
              "      <th>66</th>\n",
              "      <td>66</td>\n",
              "      <td>blues.00074.wav</td>\n",
              "      <td>0</td>\n",
              "      <td>5</td>\n",
              "    </tr>\n",
              "    <tr>\n",
              "      <th>68</th>\n",
              "      <td>68</td>\n",
              "      <td>reggae.00094.wav</td>\n",
              "      <td>8</td>\n",
              "      <td>2</td>\n",
              "    </tr>\n",
              "    <tr>\n",
              "      <th>71</th>\n",
              "      <td>71</td>\n",
              "      <td>rock.00095.wav</td>\n",
              "      <td>9</td>\n",
              "      <td>5</td>\n",
              "    </tr>\n",
              "    <tr>\n",
              "      <th>73</th>\n",
              "      <td>73</td>\n",
              "      <td>blues.00082.wav</td>\n",
              "      <td>0</td>\n",
              "      <td>9</td>\n",
              "    </tr>\n",
              "    <tr>\n",
              "      <th>78</th>\n",
              "      <td>78</td>\n",
              "      <td>hiphop.00012.wav</td>\n",
              "      <td>4</td>\n",
              "      <td>0</td>\n",
              "    </tr>\n",
              "    <tr>\n",
              "      <th>82</th>\n",
              "      <td>82</td>\n",
              "      <td>disco.00085.wav</td>\n",
              "      <td>3</td>\n",
              "      <td>4</td>\n",
              "    </tr>\n",
              "    <tr>\n",
              "      <th>89</th>\n",
              "      <td>89</td>\n",
              "      <td>metal.00030.wav</td>\n",
              "      <td>6</td>\n",
              "      <td>0</td>\n",
              "    </tr>\n",
              "    <tr>\n",
              "      <th>91</th>\n",
              "      <td>91</td>\n",
              "      <td>reggae.00098.wav</td>\n",
              "      <td>8</td>\n",
              "      <td>5</td>\n",
              "    </tr>\n",
              "    <tr>\n",
              "      <th>96</th>\n",
              "      <td>96</td>\n",
              "      <td>hiphop.00062.wav</td>\n",
              "      <td>4</td>\n",
              "      <td>8</td>\n",
              "    </tr>\n",
              "    <tr>\n",
              "      <th>97</th>\n",
              "      <td>97</td>\n",
              "      <td>disco.00029.wav</td>\n",
              "      <td>3</td>\n",
              "      <td>7</td>\n",
              "    </tr>\n",
              "    <tr>\n",
              "      <th>98</th>\n",
              "      <td>98</td>\n",
              "      <td>metal.00018.wav</td>\n",
              "      <td>6</td>\n",
              "      <td>9</td>\n",
              "    </tr>\n",
              "  </tbody>\n",
              "</table>\n",
              "</div>\n",
              "      <button class=\"colab-df-convert\" onclick=\"convertToInteractive('df-bd7d2b11-7535-47bf-82f7-d1e68b2c505e')\"\n",
              "              title=\"Convert this dataframe to an interactive table.\"\n",
              "              style=\"display:none;\">\n",
              "        \n",
              "  <svg xmlns=\"http://www.w3.org/2000/svg\" height=\"24px\"viewBox=\"0 0 24 24\"\n",
              "       width=\"24px\">\n",
              "    <path d=\"M0 0h24v24H0V0z\" fill=\"none\"/>\n",
              "    <path d=\"M18.56 5.44l.94 2.06.94-2.06 2.06-.94-2.06-.94-.94-2.06-.94 2.06-2.06.94zm-11 1L8.5 8.5l.94-2.06 2.06-.94-2.06-.94L8.5 2.5l-.94 2.06-2.06.94zm10 10l.94 2.06.94-2.06 2.06-.94-2.06-.94-.94-2.06-.94 2.06-2.06.94z\"/><path d=\"M17.41 7.96l-1.37-1.37c-.4-.4-.92-.59-1.43-.59-.52 0-1.04.2-1.43.59L10.3 9.45l-7.72 7.72c-.78.78-.78 2.05 0 2.83L4 21.41c.39.39.9.59 1.41.59.51 0 1.02-.2 1.41-.59l7.78-7.78 2.81-2.81c.8-.78.8-2.07 0-2.86zM5.41 20L4 18.59l7.72-7.72 1.47 1.35L5.41 20z\"/>\n",
              "  </svg>\n",
              "      </button>\n",
              "      \n",
              "  <style>\n",
              "    .colab-df-container {\n",
              "      display:flex;\n",
              "      flex-wrap:wrap;\n",
              "      gap: 12px;\n",
              "    }\n",
              "\n",
              "    .colab-df-convert {\n",
              "      background-color: #E8F0FE;\n",
              "      border: none;\n",
              "      border-radius: 50%;\n",
              "      cursor: pointer;\n",
              "      display: none;\n",
              "      fill: #1967D2;\n",
              "      height: 32px;\n",
              "      padding: 0 0 0 0;\n",
              "      width: 32px;\n",
              "    }\n",
              "\n",
              "    .colab-df-convert:hover {\n",
              "      background-color: #E2EBFA;\n",
              "      box-shadow: 0px 1px 2px rgba(60, 64, 67, 0.3), 0px 1px 3px 1px rgba(60, 64, 67, 0.15);\n",
              "      fill: #174EA6;\n",
              "    }\n",
              "\n",
              "    [theme=dark] .colab-df-convert {\n",
              "      background-color: #3B4455;\n",
              "      fill: #D2E3FC;\n",
              "    }\n",
              "\n",
              "    [theme=dark] .colab-df-convert:hover {\n",
              "      background-color: #434B5C;\n",
              "      box-shadow: 0px 1px 3px 1px rgba(0, 0, 0, 0.15);\n",
              "      filter: drop-shadow(0px 1px 2px rgba(0, 0, 0, 0.3));\n",
              "      fill: #FFFFFF;\n",
              "    }\n",
              "  </style>\n",
              "\n",
              "      <script>\n",
              "        const buttonEl =\n",
              "          document.querySelector('#df-bd7d2b11-7535-47bf-82f7-d1e68b2c505e button.colab-df-convert');\n",
              "        buttonEl.style.display =\n",
              "          google.colab.kernel.accessAllowed ? 'block' : 'none';\n",
              "\n",
              "        async function convertToInteractive(key) {\n",
              "          const element = document.querySelector('#df-bd7d2b11-7535-47bf-82f7-d1e68b2c505e');\n",
              "          const dataTable =\n",
              "            await google.colab.kernel.invokeFunction('convertToInteractive',\n",
              "                                                     [key], {});\n",
              "          if (!dataTable) return;\n",
              "\n",
              "          const docLinkHtml = 'Like what you see? Visit the ' +\n",
              "            '<a target=\"_blank\" href=https://colab.research.google.com/notebooks/data_table.ipynb>data table notebook</a>'\n",
              "            + ' to learn more about interactive tables.';\n",
              "          element.innerHTML = '';\n",
              "          dataTable['output_type'] = 'display_data';\n",
              "          await google.colab.output.renderOutput(dataTable, element);\n",
              "          const docLink = document.createElement('div');\n",
              "          docLink.innerHTML = docLinkHtml;\n",
              "          element.appendChild(docLink);\n",
              "        }\n",
              "      </script>\n",
              "    </div>\n",
              "  </div>\n",
              "  "
            ]
          },
          "metadata": {},
          "execution_count": 28
        }
      ]
    },
    {
      "cell_type": "code",
      "source": [
        ""
      ],
      "metadata": {
        "id": "2AhpDWD34q9L"
      },
      "execution_count": null,
      "outputs": []
    }
  ]
}