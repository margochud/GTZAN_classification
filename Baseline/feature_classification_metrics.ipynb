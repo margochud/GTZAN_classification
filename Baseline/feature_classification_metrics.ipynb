{
  "nbformat": 4,
  "nbformat_minor": 0,
  "metadata": {
    "colab": {
      "name": "feature_classification_metrics.ipynb",
      "provenance": []
    },
    "kernelspec": {
      "name": "python3",
      "display_name": "Python 3"
    },
    "language_info": {
      "name": "python"
    }
  },
  "cells": [
    {
      "cell_type": "code",
      "source": [
        "!pip install catboost"
      ],
      "metadata": {
        "colab": {
          "base_uri": "https://localhost:8080/"
        },
        "id": "OKIKrn8DZ2u8",
        "outputId": "77daf1dd-297e-4bae-fc5a-1e70cc310dd3"
      },
      "execution_count": 1,
      "outputs": [
        {
          "output_type": "stream",
          "name": "stdout",
          "text": [
            "Looking in indexes: https://pypi.org/simple, https://us-python.pkg.dev/colab-wheels/public/simple/\n",
            "Collecting catboost\n",
            "  Downloading catboost-1.0.6-cp37-none-manylinux1_x86_64.whl (76.6 MB)\n",
            "\u001b[K     |████████████████████████████████| 76.6 MB 74 kB/s \n",
            "\u001b[?25hRequirement already satisfied: scipy in /usr/local/lib/python3.7/dist-packages (from catboost) (1.4.1)\n",
            "Requirement already satisfied: plotly in /usr/local/lib/python3.7/dist-packages (from catboost) (5.5.0)\n",
            "Requirement already satisfied: six in /usr/local/lib/python3.7/dist-packages (from catboost) (1.15.0)\n",
            "Requirement already satisfied: matplotlib in /usr/local/lib/python3.7/dist-packages (from catboost) (3.2.2)\n",
            "Requirement already satisfied: graphviz in /usr/local/lib/python3.7/dist-packages (from catboost) (0.10.1)\n",
            "Requirement already satisfied: numpy>=1.16.0 in /usr/local/lib/python3.7/dist-packages (from catboost) (1.21.6)\n",
            "Requirement already satisfied: pandas>=0.24.0 in /usr/local/lib/python3.7/dist-packages (from catboost) (1.3.5)\n",
            "Requirement already satisfied: pytz>=2017.3 in /usr/local/lib/python3.7/dist-packages (from pandas>=0.24.0->catboost) (2022.1)\n",
            "Requirement already satisfied: python-dateutil>=2.7.3 in /usr/local/lib/python3.7/dist-packages (from pandas>=0.24.0->catboost) (2.8.2)\n",
            "Requirement already satisfied: cycler>=0.10 in /usr/local/lib/python3.7/dist-packages (from matplotlib->catboost) (0.11.0)\n",
            "Requirement already satisfied: pyparsing!=2.0.4,!=2.1.2,!=2.1.6,>=2.0.1 in /usr/local/lib/python3.7/dist-packages (from matplotlib->catboost) (3.0.9)\n",
            "Requirement already satisfied: kiwisolver>=1.0.1 in /usr/local/lib/python3.7/dist-packages (from matplotlib->catboost) (1.4.3)\n",
            "Requirement already satisfied: typing-extensions in /usr/local/lib/python3.7/dist-packages (from kiwisolver>=1.0.1->matplotlib->catboost) (4.1.1)\n",
            "Requirement already satisfied: tenacity>=6.2.0 in /usr/local/lib/python3.7/dist-packages (from plotly->catboost) (8.0.1)\n",
            "Installing collected packages: catboost\n",
            "Successfully installed catboost-1.0.6\n"
          ]
        }
      ]
    },
    {
      "cell_type": "code",
      "execution_count": 2,
      "metadata": {
        "id": "F3PdxeWbRFRG"
      },
      "outputs": [],
      "source": [
        "import numpy as np\n",
        "import pandas as pd\n",
        "from sklearn.model_selection import train_test_split\n",
        "from sklearn.preprocessing import StandardScaler\n",
        "from sklearn.metrics import accuracy_score, precision_score, recall_score, confusion_matrix, ConfusionMatrixDisplay\n",
        "from sklearn.svm import SVC\n",
        "from sklearn.neighbors import KNeighborsClassifier\n",
        "from catboost import CatBoostClassifier\n",
        "\n",
        "import os\n",
        "import matplotlib.pyplot as plt\n",
        "from tqdm import tqdm"
      ]
    },
    {
      "cell_type": "code",
      "source": [
        "data_path = '/content/drive/MyDrive/HSE/DL/Project/data/features'"
      ],
      "metadata": {
        "id": "pUCrMIKWR78Y"
      },
      "execution_count": 3,
      "outputs": []
    },
    {
      "cell_type": "markdown",
      "source": [
        "Предобработка данных"
      ],
      "metadata": {
        "id": "cdTXV6VSTspD"
      }
    },
    {
      "cell_type": "code",
      "source": [
        "def encode_labels(data):\n",
        "    genres = np.unique(data.label)\n",
        "    d_enc = dict([(x, i) for i, x in enumerate(genres)])\n",
        "    return np.array([d_enc[x] for x in data.label]), genres\n",
        "\n",
        "def preprocess(df: pd.Series):\n",
        "    # Закодируем названия жанров в числа, сохраним словарик для декодирования\n",
        "    # Так же сохраним названия файлов, чтобы потом суметь отыскать несоответствия\n",
        "    y, genres = encode_labels(df)\n",
        "    df = df.drop('label', axis=1)\n",
        "    filenames = df.filename.to_numpy()\n",
        "    df = df.drop('filename', axis=1)\n",
        "    X = df.to_numpy()\n",
        "    return X, y, genres, filenames"
      ],
      "metadata": {
        "id": "xp_frH8MSS_L"
      },
      "execution_count": 4,
      "outputs": []
    },
    {
      "cell_type": "markdown",
      "source": [
        "Кастомный split, который делит еще и имена файлов"
      ],
      "metadata": {
        "id": "kOF-a40dTwqJ"
      }
    },
    {
      "cell_type": "code",
      "source": [
        "def my_train_test_split(X, y, filenames, test_size=0.2, seed=42):\n",
        "    assert X.shape[0] == y.shape[0] == filenames.shape[0]\n",
        "    np.random.seed = seed\n",
        "    idx = np.random.permutation(X.shape[0])\n",
        "    n = int(test_size * X.shape[0])\n",
        "\n",
        "\n",
        "    X, y, filenames = X[idx], y[idx], filenames[idx]\n",
        "    X_train, X_test = X[n:], X[:n]\n",
        "    y_train, y_test = y[n:], y[:n]\n",
        "    filenames_train, filenames_test = filenames[n:], filenames[:n]\n",
        "    return X_train, X_test, y_train, y_test, filenames_train, filenames_test"
      ],
      "metadata": {
        "id": "fcEBFrCLSS8U"
      },
      "execution_count": 5,
      "outputs": []
    },
    {
      "cell_type": "markdown",
      "source": [
        "Научимся считать метрики и строить графики\n",
        "Сначала посчитаем accuracy и средние значения precision и recall. Интересно посмотреть, как выглядят метрики для разных классов. Это может дать информацию какие классы путает классификатор.\n",
        "\n",
        "Так же учтем возможность простроения confusion matrix"
      ],
      "metadata": {
        "id": "8TpijheXT2Qi"
      }
    },
    {
      "cell_type": "code",
      "source": [
        "def count_metrics(y_true, y_pred, genres, average='macro', plot=True):\n",
        "    # average metrics\n",
        "    acc = accuracy_score(y_true, y_pred)\n",
        "    prec = precision_score(y_true, y_pred, average=average)\n",
        "    rec = recall_score(y_true, y_pred,  average=average)\n",
        "    print(f'Average: acc: {acc:.3f} prec: {prec:.3f} rec: {rec:.3f}')\n",
        "\n",
        "    # mertics per class\n",
        "    multi_recall = recall_score(y_true, y_pred, average=None)\n",
        "    multi_precision = precision_score(y_true, y_pred, average=None)\n",
        "    print('Per class precision, recall')\n",
        "    for i, (pre, re) in enumerate(zip(multi_precision, multi_recall)):\n",
        "        print(f'{genres[i]:>10}:  {pre:.3f}  {re:.3f}')\n",
        "    \n",
        "    return multi_precision, multi_recall, y_true, y_pred\n",
        "    # make plots\n",
        "    # if plot:\n",
        "    #     _, ax1 = plt.subplots()\n",
        "    #     plot_metric(ax1, multi_recall, genres, label='recall')\n",
        "    #     _, ax2 = plt.subplots()\n",
        "    #     plot_metric(ax2, multi_precision, genres, label='precision')\n",
        "    #     cm = confusion_matrix(y_true, y_pred)\n",
        "    #     disp = ConfusionMatrixDisplay(confusion_matrix=cm)    # display_labels=genres\n",
        "    #     disp.plot()\n",
        "    #     plt.show()\n",
        "\n",
        "\n",
        "def plot_metric(ax, metric_array, genres, label):\n",
        "    # https://matplotlib.org/stable/gallery/lines_bars_and_markers/bar_stacked.html\n",
        "    ax.bar(genres, metric_array, 0.35)\n",
        "    plt.ylim(min(metric_array)-0.05)\n",
        "    ax.set_ylabel(label)\n",
        "    ax.set_title(f'multi {label}')\n",
        "    # ax.legend()\n"
      ],
      "metadata": {
        "id": "L5t8fABqSS57"
      },
      "execution_count": 6,
      "outputs": []
    },
    {
      "cell_type": "markdown",
      "source": [
        "Наши датасеты - csv файлы со статистическими данными для музыкальных композиций"
      ],
      "metadata": {
        "id": "MKQJmHkyUei2"
      }
    },
    {
      "cell_type": "code",
      "source": [
        "df_30 = pd.read_csv(os.path.join(data_path, 'features_30_sec.csv'))\n",
        "df_3 = pd.read_csv(os.path.join(data_path, 'features_3_sec.csv'))"
      ],
      "metadata": {
        "id": "cVjUFWb9SSx0"
      },
      "execution_count": 7,
      "outputs": []
    },
    {
      "cell_type": "markdown",
      "source": [
        "# Классификация 30 секундных файлов"
      ],
      "metadata": {
        "id": "fhLmWk3cU0xX"
      }
    },
    {
      "cell_type": "code",
      "source": [
        "X, y, genres, filenames = preprocess(df_30)\n",
        "seed=42"
      ],
      "metadata": {
        "id": "dZiTZLb2S0xf"
      },
      "execution_count": 8,
      "outputs": []
    },
    {
      "cell_type": "markdown",
      "source": [
        "Жанры:"
      ],
      "metadata": {
        "id": "5paST9s6V5Yi"
      }
    },
    {
      "cell_type": "code",
      "source": [
        "list(genres)"
      ],
      "metadata": {
        "colab": {
          "base_uri": "https://localhost:8080/"
        },
        "id": "T5q6FwpmWN67",
        "outputId": "be14efd9-5c23-4307-8a1c-0a79b935a22f"
      },
      "execution_count": 9,
      "outputs": [
        {
          "output_type": "execute_result",
          "data": {
            "text/plain": [
              "['blues',\n",
              " 'classical',\n",
              " 'country',\n",
              " 'disco',\n",
              " 'hiphop',\n",
              " 'jazz',\n",
              " 'metal',\n",
              " 'pop',\n",
              " 'reggae',\n",
              " 'rock']"
            ]
          },
          "metadata": {},
          "execution_count": 9
        }
      ]
    },
    {
      "cell_type": "code",
      "source": [
        "def just_count_metrics(model, y_true, y_pred, average='macro'):\n",
        "    acc = accuracy_score(y_true, y_pred)\n",
        "    prec = precision_score(y_true, y_pred, average=average)\n",
        "    rec = recall_score(y_true, y_pred,  average=average)\n",
        "\n",
        "    multi_recall = recall_score(y_true, y_pred, average=None)\n",
        "    multi_precision = precision_score(y_true, y_pred, average=None)\n",
        "\n",
        "    return acc, prec, rec, multi_precision, multi_recall"
      ],
      "metadata": {
        "id": "PXQEPqRPJ3Ql"
      },
      "execution_count": 10,
      "outputs": []
    },
    {
      "cell_type": "code",
      "source": [
        "def choose(model: str, seed):\n",
        "    if model == 'svm':\n",
        "        return SVC(C=15, random_state=seed, kernel='rbf', degree=5)\n",
        "    elif model == 'knn':\n",
        "        return KNeighborsClassifier(n_neighbors=2, weights=\"distance\")\n",
        "    elif model == 'catboost':\n",
        "        return CatBoostClassifier(\n",
        "            custom_loss=['Accuracy'],\n",
        "            random_seed=42,\n",
        "            logging_level='Silent',\n",
        "            loss_function='MultiClass',\n",
        "            l2_leaf_reg=0.01\n",
        "        )"
      ],
      "metadata": {
        "id": "DR8MpeZ1ODXS"
      },
      "execution_count": 11,
      "outputs": []
    },
    {
      "cell_type": "code",
      "source": [
        "def count_all_metrics(model_name: str, seeds):\n",
        "    accs, precs, recs, multi_precisions, multi_recalls = [], [], [], [], []\n",
        "\n",
        "    for seed in tqdm(seeds):\n",
        "        model = choose(model_name, seed)\n",
        "        X_train, X_test, y_train, y_test\\\n",
        "                = train_test_split(X, y, test_size=0.2, random_state=seed)\n",
        "        # X_train, X_test, y_train, y_test, _, _\\\n",
        "        #         = my_train_test_split(X, y, filenames, test_size=0.2, seed=seed)\n",
        "        scaler1 = StandardScaler()\n",
        "        scaler2 = StandardScaler()\n",
        "        X_train_norm = scaler1.fit_transform(X_train)\n",
        "        model.fit(X_train_norm, y_train)\n",
        "        y_test_pred = model.predict(scaler2.fit_transform(X_test))\n",
        "        \n",
        "        acc, prec, rec, multi_precision, multi_recall = just_count_metrics(model, y_test, y_test_pred)\n",
        "        accs.append(acc)\n",
        "        precs.append(prec)\n",
        "        recs.append(rec)\n",
        "        multi_precisions.append(multi_precision)\n",
        "        multi_recalls.append(multi_recall)\n",
        "\n",
        "    acc_mean = np.mean(accs)\n",
        "    prec_mean = np.mean(precs)\n",
        "    rec_mean = np.mean(recs)\n",
        "    multi_precision_mean = np.mean(np.array(multi_precisions), axis=0)\n",
        "    multi_recall_mean = np.mean(np.array(multi_recalls), axis=0)\n",
        "\n",
        "    # print(f'Average: acc: {acc_mean:.3f} prec: {prec_mean:.3f} rec: {rec_mean:.3f}')\n",
        "    # for i, (pre, re) in enumerate(zip(multi_precision_mean, multi_recall_mean)):\n",
        "    #     print(f'{genres[i]:>10}:  {pre:.3f}  {re:.3f}')\n",
        "\n",
        "    return acc_mean, prec_mean, rec_mean, multi_precision_mean, multi_recall_mean"
      ],
      "metadata": {
        "id": "A9Os2D1uIhnq"
      },
      "execution_count": 12,
      "outputs": []
    },
    {
      "cell_type": "code",
      "source": [
        "seeds = [1, 10, 42, 100, 1000, 10000]\n",
        "# seeds = [42]"
      ],
      "metadata": {
        "id": "aT-R_Tp0Ia41"
      },
      "execution_count": 13,
      "outputs": []
    },
    {
      "cell_type": "code",
      "source": [
        "%%time\n",
        "metrics = []\n",
        "models = ['svm', 'knn', 'catboost']\n",
        "\n",
        "for model_name in models:\n",
        "    mm = count_all_metrics(model_name, seeds)\n",
        "    metrics.append(mm)\n",
        "\n",
        "acc = [x[0] for x in metrics]\n",
        "prec = [x[1] for x in metrics]\n",
        "rec = [x[2] for x in metrics]\n",
        "multi_precision = np.array([x[3] for x in metrics])\n",
        "multi_recall = np.array([x[4] for x in metrics])"
      ],
      "metadata": {
        "colab": {
          "base_uri": "https://localhost:8080/"
        },
        "id": "aCNY5hVNVQv2",
        "outputId": "e0ab33b5-aa2e-4411-93af-6d542bb9500e"
      },
      "execution_count": 14,
      "outputs": [
        {
          "output_type": "stream",
          "name": "stderr",
          "text": [
            "100%|██████████| 6/6 [00:00<00:00, 11.21it/s]\n",
            "100%|██████████| 6/6 [00:00<00:00, 67.35it/s]\n",
            "100%|██████████| 6/6 [08:49<00:00, 88.33s/it]"
          ]
        },
        {
          "output_type": "stream",
          "name": "stdout",
          "text": [
            "CPU times: user 16min 40s, sys: 4.24 s, total: 16min 44s\n",
            "Wall time: 8min 50s\n"
          ]
        },
        {
          "output_type": "stream",
          "name": "stderr",
          "text": [
            "\n"
          ]
        }
      ]
    },
    {
      "cell_type": "code",
      "source": [
        "print(models)\n",
        "print(acc)\n",
        "print(prec)\n",
        "print(rec)\n",
        "\n",
        "# print(f'Average: acc: {acc_mean:.3f} prec: {prec_mean:.3f} rec: {rec_mean:.3f}')"
      ],
      "metadata": {
        "colab": {
          "base_uri": "https://localhost:8080/"
        },
        "id": "vu-7p4oaKrLA",
        "outputId": "0cc6af2e-6d66-48ac-d096-3b3010dd3ef0"
      },
      "execution_count": 15,
      "outputs": [
        {
          "output_type": "stream",
          "name": "stdout",
          "text": [
            "['svm', 'knn', 'catboost']\n",
            "[0.7316666666666666, 0.6758333333333333, 0.7533333333333333]\n",
            "[0.7364054603271524, 0.692621967526598, 0.7649216364768993]\n",
            "[0.7370421215490236, 0.6859571867890529, 0.7542025198383668]\n"
          ]
        }
      ]
    },
    {
      "cell_type": "code",
      "source": [
        "df = pd.DataFrame({model: x for model, x in zip(models, multi_precision)}, index=genres)\n",
        "ax = df.plot.bar(rot=0, figsize=(12,8), title='precision', grid=True, ylim=0.3)"
      ],
      "metadata": {
        "colab": {
          "base_uri": "https://localhost:8080/",
          "height": 498
        },
        "id": "S6j6vIhQWVZd",
        "outputId": "f4d2742e-b957-40c9-f5e7-6f423bd60def"
      },
      "execution_count": 18,
      "outputs": [
        {
          "output_type": "display_data",
          "data": {
            "text/plain": [
              "<Figure size 864x576 with 1 Axes>"
            ],
            "image/png": "[encoded data removed]"
          },
          "metadata": {
            "needs_background": "light"
          }
        }
      ]
    },
    {
      "cell_type": "code",
      "source": [
        "df = pd.DataFrame({model: x for model, x in zip(models, multi_recall)}, index=genres)\n",
        "ax = df.plot.bar(rot=0, figsize=(12,8), title='recall', grid=True, ylim=0.3)"
      ],
      "metadata": {
        "colab": {
          "base_uri": "https://localhost:8080/",
          "height": 498
        },
        "id": "GY8fpj1STsvE",
        "outputId": "e457bd59-1f63-4ea9-8f0d-2c69e2588c41"
      },
      "execution_count": 19,
      "outputs": [
        {
          "output_type": "display_data",
          "data": {
            "text/plain": [
              "<Figure size 864x576 with 1 Axes>"
            ],
            "image/png": "[encoded data removed]"
          },
          "metadata": {
            "needs_background": "light"
          }
        }
      ]
    },
    {
      "cell_type": "code",
      "source": [
        ""
      ],
      "metadata": {
        "id": "rjHiCIuf0z15"
      },
      "execution_count": null,
      "outputs": []
    },
    {
      "cell_type": "code",
      "source": [
        "%%time\n",
        "\n",
        "X, y, genres, filenames = preprocess(df_3)\n",
        "seed=42\n",
        "\n",
        "metrics = []\n",
        "\n",
        "for model_name in models:\n",
        "    mm = count_all_metrics(model_name, seeds)\n",
        "    metrics.append(mm)\n",
        "\n",
        "acc = [x[0] for x in metrics]\n",
        "prec = [x[1] for x in metrics]\n",
        "rec = [x[2] for x in metrics]\n",
        "multi_precision = np.array([x[3] for x in metrics])\n",
        "multi_recall = np.array([x[4] for x in metrics])"
      ],
      "metadata": {
        "id": "_CsfTzSq0zys",
        "colab": {
          "base_uri": "https://localhost:8080/"
        },
        "outputId": "77b07ea6-f420-4728-dba9-06fe0aa5978e"
      },
      "execution_count": null,
      "outputs": [
        {
          "output_type": "stream",
          "name": "stderr",
          "text": [
            "100%|██████████| 6/6 [00:27<00:00,  4.63s/it]\n",
            "100%|██████████| 6/6 [00:01<00:00,  3.24it/s]\n",
            "100%|██████████| 6/6 [14:12<00:00, 142.08s/it]"
          ]
        },
        {
          "output_type": "stream",
          "name": "stdout",
          "text": [
            "CPU times: user 27min 42s, sys: 7.97 s, total: 27min 50s\n",
            "Wall time: 14min 42s\n"
          ]
        },
        {
          "output_type": "stream",
          "name": "stderr",
          "text": [
            "\n"
          ]
        }
      ]
    },
    {
      "cell_type": "code",
      "source": [
        "print(models)\n",
        "print(acc)\n",
        "print(prec)\n",
        "print(rec)\n",
        "\n",
        "# print(f'Average: acc: {acc_mean:.3f} prec: {prec_mean:.3f} rec: {rec_mean:.3f}')"
      ],
      "metadata": {
        "id": "qKtUeGZF0zve",
        "colab": {
          "base_uri": "https://localhost:8080/"
        },
        "outputId": "a5ca5360-fb80-4453-97c2-47c9452df1fc"
      },
      "execution_count": null,
      "outputs": [
        {
          "output_type": "stream",
          "name": "stdout",
          "text": [
            "['svm', 'knn', 'catboost']\n",
            "[0.9218385051718384, 0.9144978311644979, 0.9061561561561562]\n",
            "[0.9215758759582083, 0.9141163027593878, 0.9059592388350652]\n",
            "[0.9212953875482053, 0.9140405837476173, 0.9058365812766418]\n"
          ]
        }
      ]
    },
    {
      "cell_type": "code",
      "source": [
        "df = pd.DataFrame({model: x for model, x in zip(models, multi_precision)}, index=genres)\n",
        "ax = df.plot.bar(rot=0, figsize=(10,8), title='precision', grid=True, ylim=0.8)"
      ],
      "metadata": {
        "colab": {
          "base_uri": "https://localhost:8080/",
          "height": 498
        },
        "id": "pBjTbITmakU9",
        "outputId": "14456790-af76-4029-c6eb-1c44d1151f73"
      },
      "execution_count": null,
      "outputs": [
        {
          "output_type": "display_data",
          "data": {
            "text/plain": [
              "<Figure size 720x576 with 1 Axes>"
            ],
            "image/png": "[encoded data removed]"
          },
          "metadata": {
            "needs_background": "light"
          }
        }
      ]
    },
    {
      "cell_type": "code",
      "source": [
        "df = pd.DataFrame({model: x for model, x in zip(models, multi_recall)}, index=genres)\n",
        "ax = df.plot.bar(rot=0, figsize=(10,8), title='recall', grid=True, ylim=0.8)"
      ],
      "metadata": {
        "colab": {
          "base_uri": "https://localhost:8080/",
          "height": 498
        },
        "id": "xwCf1yoXakPY",
        "outputId": "b1512c9b-7884-4084-f86a-7594ddf145b0"
      },
      "execution_count": null,
      "outputs": [
        {
          "output_type": "display_data",
          "data": {
            "text/plain": [
              "<Figure size 720x576 with 1 Axes>"
            ],
            "image/png": "[encoded data removed]"
          },
          "metadata": {
            "needs_background": "light"
          }
        }
      ]
    },
    {
      "cell_type": "code",
      "source": [
        ""
      ],
      "metadata": {
        "id": "KXDLbjOnlNae"
      },
      "execution_count": null,
      "outputs": []
    }
  ]
}