{
  "nbformat": 4,
  "nbformat_minor": 0,
  "metadata": {
    "colab": {
      "name": "feature_classification_3sec.ipynb",
      "provenance": []
    },
    "kernelspec": {
      "name": "python3",
      "display_name": "Python 3"
    },
    "language_info": {
      "name": "python"
    }
  },
  "cells": [
    {
      "cell_type": "code",
      "source": [
        "!pip install catboost"
      ],
      "metadata": {
        "colab": {
          "base_uri": "https://localhost:8080/"
        },
        "id": "OKIKrn8DZ2u8",
        "outputId": "805ef5c6-da2f-44bd-c20f-1465acbf696a"
      },
      "execution_count": null,
      "outputs": [
        {
          "output_type": "stream",
          "name": "stdout",
          "text": [
            "Looking in indexes: https://pypi.org/simple, https://us-python.pkg.dev/colab-wheels/public/simple/\n",
            "Requirement already satisfied: catboost in /usr/local/lib/python3.7/dist-packages (1.0.6)\n",
            "Requirement already satisfied: matplotlib in /usr/local/lib/python3.7/dist-packages (from catboost) (3.2.2)\n",
            "Requirement already satisfied: scipy in /usr/local/lib/python3.7/dist-packages (from catboost) (1.4.1)\n",
            "Requirement already satisfied: graphviz in /usr/local/lib/python3.7/dist-packages (from catboost) (0.10.1)\n",
            "Requirement already satisfied: plotly in /usr/local/lib/python3.7/dist-packages (from catboost) (5.5.0)\n",
            "Requirement already satisfied: pandas>=0.24.0 in /usr/local/lib/python3.7/dist-packages (from catboost) (1.3.5)\n",
            "Requirement already satisfied: six in /usr/local/lib/python3.7/dist-packages (from catboost) (1.15.0)\n",
            "Requirement already satisfied: numpy>=1.16.0 in /usr/local/lib/python3.7/dist-packages (from catboost) (1.21.6)\n",
            "Requirement already satisfied: python-dateutil>=2.7.3 in /usr/local/lib/python3.7/dist-packages (from pandas>=0.24.0->catboost) (2.8.2)\n",
            "Requirement already satisfied: pytz>=2017.3 in /usr/local/lib/python3.7/dist-packages (from pandas>=0.24.0->catboost) (2022.1)\n",
            "Requirement already satisfied: cycler>=0.10 in /usr/local/lib/python3.7/dist-packages (from matplotlib->catboost) (0.11.0)\n",
            "Requirement already satisfied: pyparsing!=2.0.4,!=2.1.2,!=2.1.6,>=2.0.1 in /usr/local/lib/python3.7/dist-packages (from matplotlib->catboost) (3.0.9)\n",
            "Requirement already satisfied: kiwisolver>=1.0.1 in /usr/local/lib/python3.7/dist-packages (from matplotlib->catboost) (1.4.3)\n",
            "Requirement already satisfied: typing-extensions in /usr/local/lib/python3.7/dist-packages (from kiwisolver>=1.0.1->matplotlib->catboost) (4.1.1)\n",
            "Requirement already satisfied: tenacity>=6.2.0 in /usr/local/lib/python3.7/dist-packages (from plotly->catboost) (8.0.1)\n"
          ]
        }
      ]
    },
    {
      "cell_type": "code",
      "source": [
        "from google.colab import drive\n",
        "drive.mount('/content/drive')"
      ],
      "metadata": {
        "colab": {
          "base_uri": "https://localhost:8080/"
        },
        "id": "1zdo4ozspdWO",
        "outputId": "a9984d66-a15f-4ae7-ac1b-81f25a9c0810"
      },
      "execution_count": null,
      "outputs": [
        {
          "output_type": "stream",
          "name": "stdout",
          "text": [
            "Drive already mounted at /content/drive; to attempt to forcibly remount, call drive.mount(\"/content/drive\", force_remount=True).\n"
          ]
        }
      ]
    },
    {
      "cell_type": "code",
      "execution_count": null,
      "metadata": {
        "id": "F3PdxeWbRFRG"
      },
      "outputs": [],
      "source": [
        "import numpy as np\n",
        "import pandas as pd\n",
        "from sklearn.model_selection import train_test_split\n",
        "from sklearn.preprocessing import StandardScaler\n",
        "from sklearn.metrics import accuracy_score, precision_score, recall_score, confusion_matrix, ConfusionMatrixDisplay\n",
        "from sklearn.svm import SVC\n",
        "from sklearn.neighbors import KNeighborsClassifier\n",
        "from catboost import CatBoostClassifier\n",
        "\n",
        "import os\n",
        "import matplotlib.pyplot as plt"
      ]
    },
    {
      "cell_type": "code",
      "source": [
        "data_path = '/content/drive/MyDrive/HSE/DL/Project/data/features'"
      ],
      "metadata": {
        "id": "pUCrMIKWR78Y"
      },
      "execution_count": null,
      "outputs": []
    },
    {
      "cell_type": "markdown",
      "source": [
        "Предобработка данных"
      ],
      "metadata": {
        "id": "cdTXV6VSTspD"
      }
    },
    {
      "cell_type": "code",
      "source": [
        "def encode_labels(data):\n",
        "    genres = np.unique(data.label)\n",
        "    d_enc = dict([(x, i) for i, x in enumerate(genres)])\n",
        "    return np.array([d_enc[x] for x in data.label]), genres\n",
        "\n",
        "def preprocess(df: pd.Series):\n",
        "    # Закодируем названия жанров в числа, сохраним словарик для декодирования\n",
        "    # Так же сохраним названия файлов, чтобы потом суметь отыскать несоответствия\n",
        "    y, genres = encode_labels(df)\n",
        "    df = df.drop('label', axis=1)\n",
        "    filenames = df.filename.to_numpy()\n",
        "    df = df.drop('filename', axis=1)\n",
        "    X = df.to_numpy()\n",
        "    return X, y, genres, filenames"
      ],
      "metadata": {
        "id": "xp_frH8MSS_L"
      },
      "execution_count": null,
      "outputs": []
    },
    {
      "cell_type": "markdown",
      "source": [
        "Кастомный split, который делит еще и имена файлов"
      ],
      "metadata": {
        "id": "kOF-a40dTwqJ"
      }
    },
    {
      "cell_type": "code",
      "source": [
        "def my_train_test_split(X, y, filenames, test_size=0.2, seed=42):\n",
        "    assert X.shape[0] == y.shape[0] == filenames.shape[0]\n",
        "    np.random.seed = seed\n",
        "    idx = np.random.permutation(X.shape[0])\n",
        "    n = int(test_size * X.shape[0])\n",
        "\n",
        "    X, y, filenames = X[idx], y[idx], filenames[idx]\n",
        "    X_train, X_test = X[n:], X[:n]\n",
        "    y_train, y_test = y[n:], y[:n]\n",
        "    filenames_train, filenames_test = filenames[n:], filenames[:n]\n",
        "    return X_train, X_test, y_train, y_test, filenames_train, filenames_test"
      ],
      "metadata": {
        "id": "fcEBFrCLSS8U"
      },
      "execution_count": null,
      "outputs": []
    },
    {
      "cell_type": "markdown",
      "source": [
        "Научимся считать метрики и строить графики\n",
        "Сначала посчитаем accuracy и средние значения precision и recall. Интересно посмотреть, как выглядят метрики для разных классов. Это может дать информацию какие классы путает классификатор.\n",
        "\n",
        "Так же учтем возможность простроения confusion matrix"
      ],
      "metadata": {
        "id": "8TpijheXT2Qi"
      }
    },
    {
      "cell_type": "code",
      "source": [
        "def count_metrics(y_true, y_pred, genres, average='macro', plot=True):\n",
        "    # average metrics\n",
        "    acc = accuracy_score(y_true, y_pred)\n",
        "    prec = precision_score(y_true, y_pred, average=average)\n",
        "    rec = recall_score(y_true, y_pred,  average=average)\n",
        "    print(f'Average: acc: {acc:.3f} prec: {prec:.3f} rec: {rec:.3f}')\n",
        "\n",
        "    # mertics per class\n",
        "    multi_recall = recall_score(y_true, y_pred, average=None)\n",
        "    multi_precision = precision_score(y_true, y_pred, average=None)\n",
        "    print('Per class precision, recall')\n",
        "    for i, (pre, re) in enumerate(zip(multi_precision, multi_recall)):\n",
        "        print(f'{genres[i]:>10}:  {pre:.3f}  {re:.3f}')\n",
        "    \n",
        "    return multi_precision, multi_recall, y_true, y_pred\n",
        "    # make plots\n",
        "    # if plot:\n",
        "    #     _, ax1 = plt.subplots()\n",
        "    #     plot_metric(ax1, multi_recall, genres, label='recall')\n",
        "    #     _, ax2 = plt.subplots()\n",
        "    #     plot_metric(ax2, multi_precision, genres, label='precision')\n",
        "    #     cm = confusion_matrix(y_true, y_pred)\n",
        "    #     disp = ConfusionMatrixDisplay(confusion_matrix=cm)    # display_labels=genres\n",
        "    #     disp.plot()\n",
        "    #     plt.show()\n",
        "\n",
        "\n",
        "def plot_metric(ax, metric_array, genres, label):\n",
        "    # https://matplotlib.org/stable/gallery/lines_bars_and_markers/bar_stacked.html\n",
        "    ax.bar(genres, metric_array, 0.35)\n",
        "    plt.ylim(min(metric_array)-0.05)\n",
        "    ax.set_ylabel(label)\n",
        "    ax.set_title(f'multi {label}')\n",
        "    # ax.legend()\n"
      ],
      "metadata": {
        "id": "L5t8fABqSS57"
      },
      "execution_count": null,
      "outputs": []
    },
    {
      "cell_type": "markdown",
      "source": [
        "Наши датасеты - csv файлы со статистическими данными для музыкальных композиций"
      ],
      "metadata": {
        "id": "MKQJmHkyUei2"
      }
    },
    {
      "cell_type": "code",
      "source": [
        "df_30 = pd.read_csv(os.path.join(data_path, 'features_30_sec.csv'))\n",
        "df_3 = pd.read_csv(os.path.join(data_path, 'features_3_sec.csv'))"
      ],
      "metadata": {
        "id": "cVjUFWb9SSx0"
      },
      "execution_count": null,
      "outputs": []
    },
    {
      "cell_type": "markdown",
      "source": [
        "# Классификация 3 секундных файлов"
      ],
      "metadata": {
        "id": "fhLmWk3cU0xX"
      }
    },
    {
      "cell_type": "code",
      "source": [
        "X, y, genres, filenames = preprocess(df_3)\n",
        "seed=42"
      ],
      "metadata": {
        "id": "dZiTZLb2S0xf"
      },
      "execution_count": null,
      "outputs": []
    },
    {
      "cell_type": "markdown",
      "source": [
        "Жанры:"
      ],
      "metadata": {
        "id": "5paST9s6V5Yi"
      }
    },
    {
      "cell_type": "code",
      "source": [
        "list(genres)"
      ],
      "metadata": {
        "colab": {
          "base_uri": "https://localhost:8080/"
        },
        "id": "T5q6FwpmWN67",
        "outputId": "ddaf175a-54ce-4a67-f394-7a6d3de7e684"
      },
      "execution_count": null,
      "outputs": [
        {
          "output_type": "execute_result",
          "data": {
            "text/plain": [
              "['blues',\n",
              " 'classical',\n",
              " 'country',\n",
              " 'disco',\n",
              " 'hiphop',\n",
              " 'jazz',\n",
              " 'metal',\n",
              " 'pop',\n",
              " 'reggae',\n",
              " 'rock']"
            ]
          },
          "metadata": {},
          "execution_count": 18
        }
      ]
    },
    {
      "cell_type": "markdown",
      "source": [
        "## SVM"
      ],
      "metadata": {
        "id": "B7rrruN4VE0k"
      }
    },
    {
      "cell_type": "code",
      "source": [
        "model = SVC(C=15, random_state=seed, kernel='rbf', degree=5)"
      ],
      "metadata": {
        "id": "ZrfLWMFtS3QO"
      },
      "execution_count": null,
      "outputs": []
    },
    {
      "cell_type": "markdown",
      "source": [
        "Обучим модель и посмотрим на метрики и confusion matrix"
      ],
      "metadata": {
        "id": "GaLKhKE8VF7v"
      }
    },
    {
      "cell_type": "code",
      "source": [
        "X_train, X_test, y_train, y_test, filenames_train, filenames_test\\\n",
        "        = my_train_test_split(X, y, filenames, test_size=0.2, seed=seed)\n",
        "scaler1 = StandardScaler()\n",
        "scaler2 = StandardScaler()\n",
        "X_train_norm = scaler1.fit_transform(X_train)\n",
        "model.fit(X_train_norm, y_train)\n",
        "y_test_pred = model.predict(scaler2.fit_transform(X_test))\n",
        "multi_precision, multi_recall, y_true, y_pred = count_metrics(y_test, y_test_pred, genres)"
      ],
      "metadata": {
        "colab": {
          "base_uri": "https://localhost:8080/"
        },
        "id": "hi1OQcQkS9fM",
        "outputId": "7000b853-663c-4e46-8950-3bf173a78ab8"
      },
      "execution_count": null,
      "outputs": [
        {
          "output_type": "stream",
          "name": "stdout",
          "text": [
            "Average: acc: 0.916 prec: 0.916 rec: 0.916\n",
            "Per class precision, recall\n",
            "     blues:  0.908  0.947\n",
            " classical:  0.927  0.976\n",
            "   country:  0.908  0.872\n",
            "     disco:  0.842  0.916\n",
            "    hiphop:  0.941  0.928\n",
            "      jazz:  0.885  0.934\n",
            "     metal:  0.981  0.954\n",
            "       pop:  0.931  0.903\n",
            "    reggae:  0.946  0.918\n",
            "      rock:  0.895  0.810\n"
          ]
        }
      ]
    },
    {
      "cell_type": "code",
      "source": [
        "_, ax1 = plt.subplots()\n",
        "plot_metric(ax1, multi_recall, genres, label='recall')\n",
        "_, ax2 = plt.subplots()\n",
        "plot_metric(ax2, multi_precision, genres, label='precision')\n",
        "plt.show()"
      ],
      "metadata": {
        "colab": {
          "base_uri": "https://localhost:8080/",
          "height": 544
        },
        "id": "Eoz4FMUQWuJx",
        "outputId": "decc55a8-8c2a-49db-dad6-689a11787c58"
      },
      "execution_count": null,
      "outputs": [
        {
          "output_type": "display_data",
          "data": {
            "text/plain": [
              "<Figure size 432x288 with 1 Axes>"
            ],
            "image/png": "[encoded data removed]"
          },
          "metadata": {
            "needs_background": "light"
          }
        },
        {
          "output_type": "display_data",
          "data": {
            "text/plain": [
              "<Figure size 432x288 with 1 Axes>"
            ],
            "image/png": "[encoded data removed]"
          },
          "metadata": {
            "needs_background": "light"
          }
        }
      ]
    },
    {
      "cell_type": "code",
      "source": [
        "cm = confusion_matrix(y_true, y_pred)\n",
        "disp = ConfusionMatrixDisplay(confusion_matrix=cm)    # display_labels=genres\n",
        "disp.plot()\n",
        "None"
      ],
      "metadata": {
        "colab": {
          "base_uri": "https://localhost:8080/",
          "height": 278
        },
        "id": "v3UTd51_XSbD",
        "outputId": "3ee3b24e-1b36-4a69-ad71-e15d17a0a24b"
      },
      "execution_count": null,
      "outputs": [
        {
          "output_type": "display_data",
          "data": {
            "text/plain": [
              "<Figure size 432x288 with 2 Axes>"
            ],
            "image/png": "[encoded data removed]"
          },
          "metadata": {
            "needs_background": "light"
          }
        }
      ]
    },
    {
      "cell_type": "markdown",
      "source": [
        "Видно, что несколько композиций в стиле Рок (9 лейбл) классификатор отнес к классу Диско (3 лейбл). Можно найти эти файлы (и в дальнейшем послушать)"
      ],
      "metadata": {
        "id": "PziOsZN2VLyY"
      }
    },
    {
      "cell_type": "code",
      "source": [
        "idx_9_3 = (y_test == 9) & (y_test_pred == 3)\n",
        "print(filenames_test[idx_9_3])\n",
        "print(model.predict(scaler2.transform(X_test[idx_9_3])))"
      ],
      "metadata": {
        "colab": {
          "base_uri": "https://localhost:8080/"
        },
        "id": "6-Uz2zdCTOSO",
        "outputId": "e98a9a62-4776-4881-947d-3edae8f2344c"
      },
      "execution_count": null,
      "outputs": [
        {
          "output_type": "stream",
          "name": "stdout",
          "text": [
            "['rock.00050.7.wav' 'rock.00047.1.wav' 'rock.00081.0.wav'\n",
            " 'rock.00081.4.wav' 'rock.00043.9.wav' 'rock.00000.4.wav'\n",
            " 'rock.00031.7.wav' 'rock.00053.0.wav' 'rock.00084.0.wav'\n",
            " 'rock.00038.8.wav' 'rock.00038.7.wav']\n",
            "[3 3 3 3 3 3 3 3 3 3 3]\n"
          ]
        }
      ]
    },
    {
      "cell_type": "markdown",
      "source": [
        "ИЛи же несколько композиций в стиле Регги (8 лейбл) были отнесены к классу Хип-хоп (4 лебл). Тоже с легкостью найдем их "
      ],
      "metadata": {
        "id": "PYweXnMKVeLg"
      }
    },
    {
      "cell_type": "code",
      "source": [
        "idx_8_4 = (y_test == 8) & (y_test_pred == 4)\n",
        "print(filenames_test[idx_8_4])\n",
        "print(model.predict(scaler2.transform(X_test[idx_8_4])))"
      ],
      "metadata": {
        "colab": {
          "base_uri": "https://localhost:8080/"
        },
        "id": "DCxdS-zfTm82",
        "outputId": "99525272-8204-4898-8c30-07ab627932cd"
      },
      "execution_count": null,
      "outputs": [
        {
          "output_type": "stream",
          "name": "stdout",
          "text": [
            "['reggae.00086.0.wav' 'reggae.00036.7.wav' 'reggae.00080.1.wav']\n",
            "[4 4 4]\n"
          ]
        }
      ]
    },
    {
      "cell_type": "markdown",
      "source": [
        "## kNN"
      ],
      "metadata": {
        "id": "q_EJzT0wZAFN"
      }
    },
    {
      "cell_type": "code",
      "source": [
        "model = KNeighborsClassifier(n_neighbors=2, weights=\"distance\")"
      ],
      "metadata": {
        "id": "7yAm81MPZ6hf"
      },
      "execution_count": null,
      "outputs": []
    },
    {
      "cell_type": "code",
      "source": [
        "X_train, X_test, y_train, y_test, filenames_train, filenames_test\\\n",
        "        = my_train_test_split(X, y, filenames, test_size=0.2, seed=seed)\n",
        "scaler1 = StandardScaler()\n",
        "scaler2 = StandardScaler()\n",
        "X_train_norm = scaler1.fit_transform(X_train)\n",
        "model.fit(X_train_norm, y_train)\n",
        "y_test_pred = model.predict(scaler2.fit_transform(X_test))\n",
        "multi_precision, multi_recall, y_true, y_pred = count_metrics(y_test, y_test_pred, genres)"
      ],
      "metadata": {
        "colab": {
          "base_uri": "https://localhost:8080/"
        },
        "id": "KwO5-063aDlU",
        "outputId": "27dc5765-7b3b-40f8-a130-27f47d7ee8ef"
      },
      "execution_count": null,
      "outputs": [
        {
          "output_type": "stream",
          "name": "stdout",
          "text": [
            "Average: acc: 0.894 prec: 0.895 rec: 0.894\n",
            "Per class precision, recall\n",
            "     blues:  0.918  0.914\n",
            " classical:  0.926  0.893\n",
            "   country:  0.870  0.819\n",
            "     disco:  0.828  0.910\n",
            "    hiphop:  0.926  0.912\n",
            "      jazz:  0.853  0.886\n",
            "     metal:  0.970  0.941\n",
            "       pop:  0.915  0.888\n",
            "    reggae:  0.881  0.932\n",
            "      rock:  0.861  0.845\n"
          ]
        }
      ]
    },
    {
      "cell_type": "code",
      "source": [
        "_, ax1 = plt.subplots()\n",
        "plot_metric(ax1, multi_recall, genres, label='recall')\n",
        "_, ax2 = plt.subplots()\n",
        "plot_metric(ax2, multi_precision, genres, label='precision')\n",
        "plt.show()"
      ],
      "metadata": {
        "colab": {
          "base_uri": "https://localhost:8080/",
          "height": 544
        },
        "id": "e8_7opPDaGGL",
        "outputId": "3a6de2db-8464-4d4b-c156-c6fabba6260d"
      },
      "execution_count": null,
      "outputs": [
        {
          "output_type": "display_data",
          "data": {
            "text/plain": [
              "<Figure size 432x288 with 1 Axes>"
            ],
            "image/png": "[encoded data removed]"
          },
          "metadata": {
            "needs_background": "light"
          }
        },
        {
          "output_type": "display_data",
          "data": {
            "text/plain": [
              "<Figure size 432x288 with 1 Axes>"
            ],
            "image/png": "[encoded data removed]"
          },
          "metadata": {
            "needs_background": "light"
          }
        }
      ]
    },
    {
      "cell_type": "code",
      "source": [
        "cm = confusion_matrix(y_true, y_pred)\n",
        "disp = ConfusionMatrixDisplay(confusion_matrix=cm)    # display_labels=genres\n",
        "disp.plot()\n",
        "None"
      ],
      "metadata": {
        "colab": {
          "base_uri": "https://localhost:8080/",
          "height": 278
        },
        "id": "pSiyoOq1aKg9",
        "outputId": "8689ec28-9a90-413e-b72d-c3e6278426a4"
      },
      "execution_count": null,
      "outputs": [
        {
          "output_type": "display_data",
          "data": {
            "text/plain": [
              "<Figure size 432x288 with 2 Axes>"
            ],
            "image/png": "[encoded data removed]"
          },
          "metadata": {
            "needs_background": "light"
          }
        }
      ]
    },
    {
      "cell_type": "markdown",
      "source": [
        "## CatBoost"
      ],
      "metadata": {
        "id": "8Jotn4HGZrn6"
      }
    },
    {
      "cell_type": "code",
      "source": [
        "model = CatBoostClassifier(\n",
        "    custom_loss=['Accuracy'],\n",
        "    random_seed=42,\n",
        "    logging_level='Silent',\n",
        "    loss_function='MultiClass',\n",
        "    l2_leaf_reg=0.01\n",
        ")"
      ],
      "metadata": {
        "id": "yT45ATAdV19m"
      },
      "execution_count": null,
      "outputs": []
    },
    {
      "cell_type": "code",
      "source": [
        "X_train, X_test, y_train, y_test, filenames_train, filenames_test\\\n",
        "        = my_train_test_split(X, y, filenames, test_size=0.2, seed=seed)\n",
        "scaler1 = StandardScaler()\n",
        "scaler2 = StandardScaler()\n",
        "X_train_norm = scaler1.fit_transform(X_train)\n",
        "model.fit(X_train_norm, y_train)\n",
        "y_test_pred = model.predict(scaler2.fit_transform(X_test))\n",
        "multi_precision, multi_recall, y_true, y_pred = count_metrics(y_test, y_test_pred, genres)"
      ],
      "metadata": {
        "colab": {
          "base_uri": "https://localhost:8080/"
        },
        "id": "NMcXIxovZ5q3",
        "outputId": "0b63c9d5-c87e-42c6-8646-f570f53a9ad9"
      },
      "execution_count": null,
      "outputs": [
        {
          "output_type": "stream",
          "name": "stdout",
          "text": [
            "Average: acc: 0.903 prec: 0.902 rec: 0.903\n",
            "Per class precision, recall\n",
            "     blues:  0.930  0.915\n",
            " classical:  0.948  0.944\n",
            "   country:  0.821  0.922\n",
            "     disco:  0.860  0.856\n",
            "    hiphop:  0.912  0.921\n",
            "      jazz:  0.876  0.894\n",
            "     metal:  0.947  0.943\n",
            "       pop:  0.933  0.886\n",
            "    reggae:  0.907  0.869\n",
            "      rock:  0.889  0.880\n"
          ]
        }
      ]
    },
    {
      "cell_type": "code",
      "source": [
        "_, ax1 = plt.subplots()\n",
        "plot_metric(ax1, multi_recall, genres, label='recall')\n",
        "_, ax2 = plt.subplots()\n",
        "plot_metric(ax2, multi_precision, genres, label='precision')\n",
        "plt.show()"
      ],
      "metadata": {
        "colab": {
          "base_uri": "https://localhost:8080/",
          "height": 544
        },
        "id": "TRYu2iJ2aNzf",
        "outputId": "1c2b4432-cf0d-4fb6-d03f-a4fca6e84a40"
      },
      "execution_count": null,
      "outputs": [
        {
          "output_type": "display_data",
          "data": {
            "text/plain": [
              "<Figure size 432x288 with 1 Axes>"
            ],
            "image/png": "[encoded data removed]"
          },
          "metadata": {
            "needs_background": "light"
          }
        },
        {
          "output_type": "display_data",
          "data": {
            "text/plain": [
              "<Figure size 432x288 with 1 Axes>"
            ],
            "image/png": "[encoded data removed]"
          },
          "metadata": {
            "needs_background": "light"
          }
        }
      ]
    },
    {
      "cell_type": "code",
      "source": [
        "cm = confusion_matrix(y_true, y_pred)\n",
        "disp = ConfusionMatrixDisplay(confusion_matrix=cm)    # display_labels=genres\n",
        "disp.plot()\n",
        "None"
      ],
      "metadata": {
        "colab": {
          "base_uri": "https://localhost:8080/",
          "height": 282
        },
        "id": "E8ttt8JzaPCe",
        "outputId": "cbcd9cf7-9607-4e17-ba2d-9335ee78cb6c"
      },
      "execution_count": null,
      "outputs": [
        {
          "output_type": "display_data",
          "data": {
            "text/plain": [
              "<Figure size 432x288 with 2 Axes>"
            ],
            "image/png": "[encoded data removed]"
          },
          "metadata": {
            "needs_background": "light"
          }
        }
      ]
    },
    {
      "cell_type": "code",
      "source": [
        ""
      ],
      "metadata": {
        "id": "rjHiCIuf0z15"
      },
      "execution_count": null,
      "outputs": []
    }
  ]
}