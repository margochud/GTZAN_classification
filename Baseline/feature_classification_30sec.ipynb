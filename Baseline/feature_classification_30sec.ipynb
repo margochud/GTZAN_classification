{
  "nbformat": 4,
  "nbformat_minor": 0,
  "metadata": {
    "colab": {
      "name": "feature_classification_30sec.ipynb",
      "provenance": [],
      "collapsed_sections": []
    },
    "kernelspec": {
      "name": "python3",
      "display_name": "Python 3"
    },
    "language_info": {
      "name": "python"
    }
  },
  "cells": [
    {
      "cell_type": "code",
      "source": [
        "!pip install catboost"
      ],
      "metadata": {
        "colab": {
          "base_uri": "https://localhost:8080/"
        },
        "id": "OKIKrn8DZ2u8",
        "outputId": "d7f2583c-5e97-4418-fdb1-0157d3f5694d"
      },
      "execution_count": 1,
      "outputs": [
        {
          "output_type": "stream",
          "name": "stdout",
          "text": [
            "Looking in indexes: https://pypi.org/simple, https://us-python.pkg.dev/colab-wheels/public/simple/\n",
            "Collecting catboost\n",
            "  Downloading catboost-1.0.6-cp37-none-manylinux1_x86_64.whl (76.6 MB)\n",
            "\u001b[K     |████████████████████████████████| 76.6 MB 69 kB/s \n",
            "\u001b[?25hRequirement already satisfied: numpy>=1.16.0 in /usr/local/lib/python3.7/dist-packages (from catboost) (1.21.6)\n",
            "Requirement already satisfied: six in /usr/local/lib/python3.7/dist-packages (from catboost) (1.15.0)\n",
            "Requirement already satisfied: graphviz in /usr/local/lib/python3.7/dist-packages (from catboost) (0.10.1)\n",
            "Requirement already satisfied: plotly in /usr/local/lib/python3.7/dist-packages (from catboost) (5.5.0)\n",
            "Requirement already satisfied: matplotlib in /usr/local/lib/python3.7/dist-packages (from catboost) (3.2.2)\n",
            "Requirement already satisfied: scipy in /usr/local/lib/python3.7/dist-packages (from catboost) (1.4.1)\n",
            "Requirement already satisfied: pandas>=0.24.0 in /usr/local/lib/python3.7/dist-packages (from catboost) (1.3.5)\n",
            "Requirement already satisfied: pytz>=2017.3 in /usr/local/lib/python3.7/dist-packages (from pandas>=0.24.0->catboost) (2022.1)\n",
            "Requirement already satisfied: python-dateutil>=2.7.3 in /usr/local/lib/python3.7/dist-packages (from pandas>=0.24.0->catboost) (2.8.2)\n",
            "Requirement already satisfied: kiwisolver>=1.0.1 in /usr/local/lib/python3.7/dist-packages (from matplotlib->catboost) (1.4.3)\n",
            "Requirement already satisfied: cycler>=0.10 in /usr/local/lib/python3.7/dist-packages (from matplotlib->catboost) (0.11.0)\n",
            "Requirement already satisfied: pyparsing!=2.0.4,!=2.1.2,!=2.1.6,>=2.0.1 in /usr/local/lib/python3.7/dist-packages (from matplotlib->catboost) (3.0.9)\n",
            "Requirement already satisfied: typing-extensions in /usr/local/lib/python3.7/dist-packages (from kiwisolver>=1.0.1->matplotlib->catboost) (4.1.1)\n",
            "Requirement already satisfied: tenacity>=6.2.0 in /usr/local/lib/python3.7/dist-packages (from plotly->catboost) (8.0.1)\n",
            "Installing collected packages: catboost\n",
            "Successfully installed catboost-1.0.6\n"
          ]
        }
      ]
    },
    {
      "cell_type": "code",
      "execution_count": 2,
      "metadata": {
        "id": "F3PdxeWbRFRG"
      },
      "outputs": [],
      "source": [
        "import numpy as np\n",
        "import pandas as pd\n",
        "from sklearn.model_selection import train_test_split\n",
        "from sklearn.preprocessing import StandardScaler\n",
        "from sklearn.metrics import accuracy_score, precision_score, recall_score, confusion_matrix, ConfusionMatrixDisplay\n",
        "from sklearn.svm import SVC\n",
        "from sklearn.neighbors import KNeighborsClassifier\n",
        "from catboost import CatBoostClassifier\n",
        "\n",
        "import os\n",
        "import matplotlib.pyplot as plt"
      ]
    },
    {
      "cell_type": "code",
      "source": [
        "data_path = '/content/drive/MyDrive/HSE/DL/Project/data/features'"
      ],
      "metadata": {
        "id": "pUCrMIKWR78Y"
      },
      "execution_count": 3,
      "outputs": []
    },
    {
      "cell_type": "markdown",
      "source": [
        "Предобработка данных"
      ],
      "metadata": {
        "id": "cdTXV6VSTspD"
      }
    },
    {
      "cell_type": "code",
      "source": [
        "def encode_labels(data):\n",
        "    genres = np.unique(data.label)\n",
        "    d_enc = dict([(x, i) for i, x in enumerate(genres)])\n",
        "    return np.array([d_enc[x] for x in data.label]), genres\n",
        "\n",
        "def preprocess(df: pd.Series):\n",
        "    # Закодируем названия жанров в числа, сохраним словарик для декодирования\n",
        "    # Так же сохраним названия файлов, чтобы потом суметь отыскать несоответствия\n",
        "    y, genres = encode_labels(df)\n",
        "    df = df.drop('label', axis=1)\n",
        "    filenames = df.filename.to_numpy()\n",
        "    df = df.drop('filename', axis=1)\n",
        "    X = df.to_numpy()\n",
        "    return X, y, genres, filenames"
      ],
      "metadata": {
        "id": "xp_frH8MSS_L"
      },
      "execution_count": 4,
      "outputs": []
    },
    {
      "cell_type": "markdown",
      "source": [
        "Кастомный split, который делит еще и имена файлов"
      ],
      "metadata": {
        "id": "kOF-a40dTwqJ"
      }
    },
    {
      "cell_type": "code",
      "source": [
        "def my_train_test_split(X, y, filenames, test_size=0.2, seed=42):\n",
        "    assert X.shape[0] == y.shape[0] == filenames.shape[0]\n",
        "    np.random.seed = seed\n",
        "    idx = np.random.permutation(X.shape[0])\n",
        "    n = int(test_size * X.shape[0])\n",
        "\n",
        "    X, y, filenames = X[idx], y[idx], filenames[idx]\n",
        "    X_train, X_test = X[n:], X[:n]\n",
        "    y_train, y_test = y[n:], y[:n]\n",
        "    filenames_train, filenames_test = filenames[n:], filenames[:n]\n",
        "    return X_train, X_test, y_train, y_test, filenames_train, filenames_test"
      ],
      "metadata": {
        "id": "fcEBFrCLSS8U"
      },
      "execution_count": 5,
      "outputs": []
    },
    {
      "cell_type": "markdown",
      "source": [
        "Научимся считать метрики и строить графики\n",
        "Сначала посчитаем accuracy и средние значения precision и recall. Интересно посмотреть, как выглядят метрики для разных классов. Это может дать информацию какие классы путает классификатор.\n",
        "\n",
        "Так же учтем возможность простроения confusion matrix"
      ],
      "metadata": {
        "id": "8TpijheXT2Qi"
      }
    },
    {
      "cell_type": "code",
      "source": [
        "def count_metrics(y_true, y_pred, genres, average='macro', plot=True):\n",
        "    # average metrics\n",
        "    acc = accuracy_score(y_true, y_pred)\n",
        "    prec = precision_score(y_true, y_pred, average=average)\n",
        "    rec = recall_score(y_true, y_pred,  average=average)\n",
        "    print(f'Average: acc: {acc:.3f} prec: {prec:.3f} rec: {rec:.3f}')\n",
        "\n",
        "    # mertics per class\n",
        "    multi_recall = recall_score(y_true, y_pred, average=None)\n",
        "    multi_precision = precision_score(y_true, y_pred, average=None)\n",
        "    print('Per class precision, recall')\n",
        "    for i, (pre, re) in enumerate(zip(multi_precision, multi_recall)):\n",
        "        print(f'{genres[i]:>10}:  {pre:.3f}  {re:.3f}')\n",
        "    \n",
        "    return multi_precision, multi_recall, y_true, y_pred\n",
        "    # make plots\n",
        "    # if plot:\n",
        "    #     _, ax1 = plt.subplots()\n",
        "    #     plot_metric(ax1, multi_recall, genres, label='recall')\n",
        "    #     _, ax2 = plt.subplots()\n",
        "    #     plot_metric(ax2, multi_precision, genres, label='precision')\n",
        "    #     cm = confusion_matrix(y_true, y_pred)\n",
        "    #     disp = ConfusionMatrixDisplay(confusion_matrix=cm)    # display_labels=genres\n",
        "    #     disp.plot()\n",
        "    #     plt.show()\n",
        "\n",
        "\n",
        "def plot_metric(ax, metric_array, genres, label):\n",
        "    # https://matplotlib.org/stable/gallery/lines_bars_and_markers/bar_stacked.html\n",
        "    ax.bar(genres, metric_array, 0.35)\n",
        "    plt.ylim(min(metric_array)-0.05)\n",
        "    ax.set_ylabel(label)\n",
        "    ax.set_title(f'multi {label}')\n",
        "    # ax.legend()\n"
      ],
      "metadata": {
        "id": "L5t8fABqSS57"
      },
      "execution_count": 6,
      "outputs": []
    },
    {
      "cell_type": "markdown",
      "source": [
        "Наши датасеты - csv файлы со статистическими данными для музыкальных композиций"
      ],
      "metadata": {
        "id": "MKQJmHkyUei2"
      }
    },
    {
      "cell_type": "code",
      "source": [
        "df_30 = pd.read_csv(os.path.join(data_path, 'features_30_sec.csv'))\n",
        "df_3 = pd.read_csv(os.path.join(data_path, 'features_3_sec.csv'))"
      ],
      "metadata": {
        "id": "cVjUFWb9SSx0"
      },
      "execution_count": 10,
      "outputs": []
    },
    {
      "cell_type": "markdown",
      "source": [
        "# Классификация 30 секундных файлов"
      ],
      "metadata": {
        "id": "fhLmWk3cU0xX"
      }
    },
    {
      "cell_type": "code",
      "source": [
        "X, y, genres, filenames = preprocess(df_30)\n",
        "seed=42"
      ],
      "metadata": {
        "id": "dZiTZLb2S0xf"
      },
      "execution_count": 11,
      "outputs": []
    },
    {
      "cell_type": "markdown",
      "source": [
        "Жанры:"
      ],
      "metadata": {
        "id": "5paST9s6V5Yi"
      }
    },
    {
      "cell_type": "code",
      "source": [
        "list(genres)"
      ],
      "metadata": {
        "colab": {
          "base_uri": "https://localhost:8080/"
        },
        "id": "T5q6FwpmWN67",
        "outputId": "27d62515-2b95-4d18-8feb-077775af34fc"
      },
      "execution_count": 12,
      "outputs": [
        {
          "output_type": "execute_result",
          "data": {
            "text/plain": [
              "['blues',\n",
              " 'classical',\n",
              " 'country',\n",
              " 'disco',\n",
              " 'hiphop',\n",
              " 'jazz',\n",
              " 'metal',\n",
              " 'pop',\n",
              " 'reggae',\n",
              " 'rock']"
            ]
          },
          "metadata": {},
          "execution_count": 12
        }
      ]
    },
    {
      "cell_type": "markdown",
      "source": [
        "# ПРОТЕСТИРУЕМ BASELINE МОДЕЛИ"
      ],
      "metadata": {
        "id": "1n8JsIU-yzpN"
      }
    },
    {
      "cell_type": "markdown",
      "source": [
        "## SVM"
      ],
      "metadata": {
        "id": "B7rrruN4VE0k"
      }
    },
    {
      "cell_type": "code",
      "source": [
        "model = SVC(C=15, random_state=seed, kernel='rbf', degree=5)"
      ],
      "metadata": {
        "id": "ZrfLWMFtS3QO"
      },
      "execution_count": 13,
      "outputs": []
    },
    {
      "cell_type": "markdown",
      "source": [
        "Обучим модель и посмотрим на метрики и confusion matrix"
      ],
      "metadata": {
        "id": "GaLKhKE8VF7v"
      }
    },
    {
      "cell_type": "code",
      "source": [
        "X_train, X_test, y_train, y_test, filenames_train, filenames_test\\\n",
        "        = my_train_test_split(X, y, filenames, test_size=0.2, seed=seed)\n",
        "scaler1 = StandardScaler()\n",
        "scaler2 = StandardScaler()\n",
        "X_train_norm = scaler1.fit_transform(X_train)\n",
        "model.fit(X_train_norm, y_train)\n",
        "y_test_pred = model.predict(scaler2.fit_transform(X_test))\n",
        "multi_precision, multi_recall, y_true, y_pred = count_metrics(y_test, y_test_pred, genres)"
      ],
      "metadata": {
        "colab": {
          "base_uri": "https://localhost:8080/"
        },
        "id": "hi1OQcQkS9fM",
        "outputId": "53203655-dbbe-40a9-834f-abe3abce0c45"
      },
      "execution_count": 14,
      "outputs": [
        {
          "output_type": "stream",
          "name": "stdout",
          "text": [
            "Average: acc: 0.675 prec: 0.675 rec: 0.678\n",
            "Per class precision, recall\n",
            "     blues:  0.778  0.778\n",
            " classical:  0.840  0.913\n",
            "   country:  0.714  0.682\n",
            "     disco:  0.579  0.524\n",
            "    hiphop:  0.792  0.655\n",
            "      jazz:  0.875  0.824\n",
            "     metal:  0.750  0.667\n",
            "       pop:  0.526  0.769\n",
            "    reggae:  0.500  0.524\n",
            "      rock:  0.400  0.444\n"
          ]
        }
      ]
    },
    {
      "cell_type": "code",
      "source": [
        "_, ax1 = plt.subplots()\n",
        "plot_metric(ax1, multi_recall, genres, label='recall')\n",
        "_, ax2 = plt.subplots()\n",
        "plot_metric(ax2, multi_precision, genres, label='precision')\n",
        "plt.show()"
      ],
      "metadata": {
        "colab": {
          "base_uri": "https://localhost:8080/",
          "height": 544
        },
        "id": "Eoz4FMUQWuJx",
        "outputId": "f8fc3196-726a-4fae-fb3a-160ead78eb84"
      },
      "execution_count": 15,
      "outputs": [
        {
          "output_type": "display_data",
          "data": {
            "text/plain": [
              "<Figure size 432x288 with 1 Axes>"
            ],
            "image/png": "[encoded data removed]"
          },
          "metadata": {
            "needs_background": "light"
          }
        },
        {
          "output_type": "display_data",
          "data": {
            "text/plain": [
              "<Figure size 432x288 with 1 Axes>"
            ],
            "image/png": "[encoded data removed]"
          },
          "metadata": {
            "needs_background": "light"
          }
        }
      ]
    },
    {
      "cell_type": "code",
      "source": [
        "cm = confusion_matrix(y_true, y_pred)\n",
        "disp = ConfusionMatrixDisplay(confusion_matrix=cm)    # display_labels=genres\n",
        "disp.plot()\n",
        "None"
      ],
      "metadata": {
        "colab": {
          "base_uri": "https://localhost:8080/",
          "height": 278
        },
        "id": "v3UTd51_XSbD",
        "outputId": "c71a63c5-978c-46bb-a217-16b49e7d822f"
      },
      "execution_count": 16,
      "outputs": [
        {
          "output_type": "display_data",
          "data": {
            "text/plain": [
              "<Figure size 432x288 with 2 Axes>"
            ],
            "image/png": "[encoded data removed]"
          },
          "metadata": {
            "needs_background": "light"
          }
        }
      ]
    },
    {
      "cell_type": "markdown",
      "source": [
        "### Джаз, который определяется как классическая музыка"
      ],
      "metadata": {
        "id": "D9vFJT1KkRS5"
      }
    },
    {
      "cell_type": "code",
      "source": [
        "idx_5_1 = (y_test == 5) & (y_test_pred == 1)\n",
        "print(filenames_test[idx_5_1])\n",
        "print(model.predict(scaler2.transform(X_test[idx_5_1])))"
      ],
      "metadata": {
        "colab": {
          "base_uri": "https://localhost:8080/"
        },
        "id": "E1rYXxqDkBJL",
        "outputId": "89cf4af8-d375-408b-c50c-00eed944e079"
      },
      "execution_count": 18,
      "outputs": [
        {
          "output_type": "stream",
          "name": "stdout",
          "text": [
            "['jazz.00004.wav' 'jazz.00014.wav']\n",
            "[1 1]\n"
          ]
        }
      ]
    },
    {
      "cell_type": "code",
      "source": [
        "print(filenames_test[(y_test == 1) & (y_test_pred == 1)])"
      ],
      "metadata": {
        "colab": {
          "base_uri": "https://localhost:8080/"
        },
        "id": "rc_Z8rllkU4U",
        "outputId": "d14d24d8-a8ef-4f08-ca8a-cdb8cf53538d"
      },
      "execution_count": 19,
      "outputs": [
        {
          "output_type": "stream",
          "name": "stdout",
          "text": [
            "['classical.00016.wav' 'classical.00057.wav' 'classical.00097.wav'\n",
            " 'classical.00069.wav' 'classical.00050.wav' 'classical.00022.wav'\n",
            " 'classical.00000.wav' 'classical.00013.wav' 'classical.00026.wav'\n",
            " 'classical.00072.wav' 'classical.00074.wav' 'classical.00008.wav'\n",
            " 'classical.00031.wav' 'classical.00034.wav' 'classical.00094.wav'\n",
            " 'classical.00036.wav' 'classical.00096.wav' 'classical.00024.wav'\n",
            " 'classical.00021.wav' 'classical.00082.wav' 'classical.00020.wav']\n"
          ]
        }
      ]
    },
    {
      "cell_type": "markdown",
      "source": [
        "### Диско и РОк\n",
        "Видно, что несколько композиций в стиле Диско классификатор отнес к классу Рок. Можно найти эти файлы (и в дальнейшем послушать)"
      ],
      "metadata": {
        "id": "PziOsZN2VLyY"
      }
    },
    {
      "cell_type": "code",
      "source": [
        "idx_3_9 = (y_test == 3) & (y_test_pred == 9)\n",
        "print(filenames_test[idx_3_9])\n",
        "print(model.predict(scaler2.transform(X_test[idx_3_9])))"
      ],
      "metadata": {
        "colab": {
          "base_uri": "https://localhost:8080/"
        },
        "id": "6-Uz2zdCTOSO",
        "outputId": "2453b3ff-5ee2-4734-9cbb-996b8398fac2"
      },
      "execution_count": 21,
      "outputs": [
        {
          "output_type": "stream",
          "name": "stdout",
          "text": [
            "['disco.00075.wav' 'disco.00014.wav' 'disco.00098.wav' 'disco.00006.wav'\n",
            " 'disco.00099.wav' 'disco.00057.wav']\n",
            "[9 9 9 9 9 9]\n"
          ]
        }
      ]
    },
    {
      "cell_type": "markdown",
      "source": [
        "Диско, которое определяется как диско"
      ],
      "metadata": {
        "id": "5AHatsDsyXmT"
      }
    },
    {
      "cell_type": "code",
      "source": [
        "print(filenames_test[(y_test == 3) & (y_test_pred == 3)])"
      ],
      "metadata": {
        "colab": {
          "base_uri": "https://localhost:8080/"
        },
        "id": "vvk9RImTmQMe",
        "outputId": "d8ee0978-eeca-42cb-ac98-18e3acb75012"
      },
      "execution_count": 22,
      "outputs": [
        {
          "output_type": "stream",
          "name": "stdout",
          "text": [
            "['disco.00017.wav' 'disco.00022.wav' 'disco.00093.wav' 'disco.00009.wav'\n",
            " 'disco.00078.wav' 'disco.00074.wav' 'disco.00001.wav' 'disco.00083.wav'\n",
            " 'disco.00033.wav' 'disco.00067.wav' 'disco.00095.wav']\n"
          ]
        }
      ]
    },
    {
      "cell_type": "markdown",
      "source": [
        "Рок, определяющийся как рок"
      ],
      "metadata": {
        "id": "QMuqXVrAya7y"
      }
    },
    {
      "cell_type": "code",
      "source": [
        "print(filenames_test[(y_test == 9) & (y_test_pred == 9)])"
      ],
      "metadata": {
        "colab": {
          "base_uri": "https://localhost:8080/"
        },
        "id": "10aJI1XppaWy",
        "outputId": "9701eb72-8439-46ea-96f2-3c6c3cc76ae1"
      },
      "execution_count": 32,
      "outputs": [
        {
          "output_type": "stream",
          "name": "stdout",
          "text": [
            "['rock.00025.wav' 'rock.00012.wav' 'rock.00027.wav' 'rock.00097.wav'\n",
            " 'rock.00082.wav' 'rock.00089.wav' 'rock.00058.wav' 'rock.00092.wav']\n"
          ]
        }
      ]
    },
    {
      "cell_type": "markdown",
      "source": [
        "### Регги и Хип-хоп\n",
        "\n",
        "Композиции в стиле Регги (8 лейбл) были отнесены к классу Хип-хоп (4 лебл). Тоже с легкостью найдем их "
      ],
      "metadata": {
        "id": "PYweXnMKVeLg"
      }
    },
    {
      "cell_type": "code",
      "source": [
        "idx_8_4 = (y_test == 8) & (y_test_pred == 4)\n",
        "print(filenames_test[idx_8_4])\n",
        "print(model.predict(scaler2.transform(X_test[idx_8_4])))"
      ],
      "metadata": {
        "colab": {
          "base_uri": "https://localhost:8080/"
        },
        "id": "DCxdS-zfTm82",
        "outputId": "6f06f96a-ccb1-4d83-a5c2-b2c437689576"
      },
      "execution_count": 24,
      "outputs": [
        {
          "output_type": "stream",
          "name": "stdout",
          "text": [
            "['reggae.00065.wav' 'reggae.00064.wav' 'reggae.00050.wav']\n",
            "[4 4 4]\n"
          ]
        }
      ]
    },
    {
      "cell_type": "markdown",
      "source": [
        "Хип-хоп, определяющийся как регги"
      ],
      "metadata": {
        "id": "OWR2x6B6ymt-"
      }
    },
    {
      "cell_type": "code",
      "source": [
        "idx_4_8 = (y_test == 4) & (y_test_pred == 8)\n",
        "print(filenames_test[idx_4_8])"
      ],
      "metadata": {
        "colab": {
          "base_uri": "https://localhost:8080/"
        },
        "id": "Scoa_hm6mhne",
        "outputId": "224c712a-abaa-4417-8772-f5633d4b2762"
      },
      "execution_count": 31,
      "outputs": [
        {
          "output_type": "stream",
          "name": "stdout",
          "text": [
            "['hiphop.00032.wav' 'hiphop.00094.wav' 'hiphop.00002.wav'\n",
            " 'hiphop.00058.wav' 'hiphop.00081.wav' 'hiphop.00080.wav']\n"
          ]
        }
      ]
    },
    {
      "cell_type": "markdown",
      "source": [
        "### Кантри и Рок"
      ],
      "metadata": {
        "id": "DbzrCXctm6fY"
      }
    },
    {
      "cell_type": "markdown",
      "source": [
        "Кантри, который определяется как рок"
      ],
      "metadata": {
        "id": "lcyQISeGyuDJ"
      }
    },
    {
      "cell_type": "code",
      "source": [
        "print(filenames_test[(y_test == 2) & (y_test_pred == 9)])"
      ],
      "metadata": {
        "colab": {
          "base_uri": "https://localhost:8080/"
        },
        "id": "RDhgLsPCmbS0",
        "outputId": "343427f9-d697-42f4-b4be-a04816bceb8a"
      },
      "execution_count": 26,
      "outputs": [
        {
          "output_type": "stream",
          "name": "stdout",
          "text": [
            "['country.00039.wav' 'country.00027.wav']\n"
          ]
        }
      ]
    },
    {
      "cell_type": "markdown",
      "source": [
        "Рок, который определяется как кантри"
      ],
      "metadata": {
        "id": "wFQ8dxqwyurL"
      }
    },
    {
      "cell_type": "code",
      "source": [
        "print(filenames_test[(y_test == 9) & (y_test_pred == 2)])"
      ],
      "metadata": {
        "colab": {
          "base_uri": "https://localhost:8080/"
        },
        "id": "TH0OgoqbnVKx",
        "outputId": "3bd4d40e-07f0-4537-970f-8b5bbfd42566"
      },
      "execution_count": 33,
      "outputs": [
        {
          "output_type": "stream",
          "name": "stdout",
          "text": [
            "['rock.00033.wav' 'rock.00048.wav']\n"
          ]
        }
      ]
    },
    {
      "cell_type": "markdown",
      "source": [
        "## kNN"
      ],
      "metadata": {
        "id": "q_EJzT0wZAFN"
      }
    },
    {
      "cell_type": "code",
      "source": [
        "model = KNeighborsClassifier(n_neighbors=2, weights=\"distance\")"
      ],
      "metadata": {
        "id": "7yAm81MPZ6hf"
      },
      "execution_count": null,
      "outputs": []
    },
    {
      "cell_type": "code",
      "source": [
        "X_train, X_test, y_train, y_test, filenames_train, filenames_test\\\n",
        "        = my_train_test_split(X, y, filenames, test_size=0.2, seed=seed)\n",
        "scaler1 = StandardScaler()\n",
        "scaler2 = StandardScaler()\n",
        "X_train_norm = scaler1.fit_transform(X_train)\n",
        "model.fit(X_train_norm, y_train)\n",
        "y_test_pred = model.predict(scaler2.fit_transform(X_test))\n",
        "multi_precision, multi_recall, y_true, y_pred = count_metrics(y_test, y_test_pred, genres)"
      ],
      "metadata": {
        "colab": {
          "base_uri": "https://localhost:8080/"
        },
        "id": "KwO5-063aDlU",
        "outputId": "efa82007-3b9b-4c63-e2ee-f58f6a659203"
      },
      "execution_count": null,
      "outputs": [
        {
          "output_type": "stream",
          "name": "stdout",
          "text": [
            "Average: acc: 0.730 prec: 0.740 rec: 0.733\n",
            "Per class precision, recall\n",
            "     blues:  0.800  0.762\n",
            " classical:  0.895  0.944\n",
            "   country:  0.435  0.714\n",
            "     disco:  0.619  0.684\n",
            "    hiphop:  0.667  0.769\n",
            "      jazz:  0.864  0.731\n",
            "     metal:  0.938  0.625\n",
            "       pop:  0.900  0.783\n",
            "    reggae:  0.667  0.625\n",
            "      rock:  0.621  0.692\n"
          ]
        }
      ]
    },
    {
      "cell_type": "code",
      "source": [
        "_, ax1 = plt.subplots()\n",
        "plot_metric(ax1, multi_recall, genres, label='recall')\n",
        "_, ax2 = plt.subplots()\n",
        "plot_metric(ax2, multi_precision, genres, label='precision')\n",
        "plt.show()"
      ],
      "metadata": {
        "colab": {
          "base_uri": "https://localhost:8080/",
          "height": 544
        },
        "id": "e8_7opPDaGGL",
        "outputId": "f749fce4-0c84-46d2-b757-8efe12109dc3"
      },
      "execution_count": null,
      "outputs": [
        {
          "output_type": "display_data",
          "data": {
            "text/plain": [
              "<Figure size 432x288 with 1 Axes>"
            ],
            "image/png": "[encoded data removed]"
          },
          "metadata": {
            "needs_background": "light"
          }
        },
        {
          "output_type": "display_data",
          "data": {
            "text/plain": [
              "<Figure size 432x288 with 1 Axes>"
            ],
            "image/png": "[encoded data removed]"
          },
          "metadata": {
            "needs_background": "light"
          }
        }
      ]
    },
    {
      "cell_type": "code",
      "source": [
        "cm = confusion_matrix(y_true, y_pred)\n",
        "disp = ConfusionMatrixDisplay(confusion_matrix=cm)    # display_labels=genres\n",
        "disp.plot()\n",
        "None"
      ],
      "metadata": {
        "colab": {
          "base_uri": "https://localhost:8080/",
          "height": 278
        },
        "id": "pSiyoOq1aKg9",
        "outputId": "3ecfd534-2f01-41d5-e78f-f3d35a367bdc"
      },
      "execution_count": null,
      "outputs": [
        {
          "output_type": "display_data",
          "data": {
            "text/plain": [
              "<Figure size 432x288 with 2 Axes>"
            ],
            "image/png": "[encoded data removed]"
          },
          "metadata": {
            "needs_background": "light"
          }
        }
      ]
    },
    {
      "cell_type": "markdown",
      "source": [
        "## CatBoost"
      ],
      "metadata": {
        "id": "8Jotn4HGZrn6"
      }
    },
    {
      "cell_type": "code",
      "source": [
        "model = CatBoostClassifier(\n",
        "    custom_loss=['Accuracy'],\n",
        "    random_seed=42,\n",
        "    logging_level='Silent',\n",
        "    loss_function='MultiClass',\n",
        "    l2_leaf_reg=0.01\n",
        ")"
      ],
      "metadata": {
        "id": "yT45ATAdV19m"
      },
      "execution_count": null,
      "outputs": []
    },
    {
      "cell_type": "code",
      "source": [
        "X_train, X_test, y_train, y_test, filenames_train, filenames_test\\\n",
        "        = my_train_test_split(X, y, filenames, test_size=0.2, seed=seed)\n",
        "scaler1 = StandardScaler()\n",
        "scaler2 = StandardScaler()\n",
        "X_train_norm = scaler1.fit_transform(X_train)\n",
        "model.fit(X_train_norm, y_train)\n",
        "y_test_pred = model.predict(scaler2.fit_transform(X_test))\n",
        "multi_precision, multi_recall, y_true, y_pred = count_metrics(y_test, y_test_pred, genres)"
      ],
      "metadata": {
        "colab": {
          "base_uri": "https://localhost:8080/"
        },
        "id": "NMcXIxovZ5q3",
        "outputId": "642b5ee5-3870-4f8c-e843-3c5fb0f95ae7"
      },
      "execution_count": null,
      "outputs": [
        {
          "output_type": "stream",
          "name": "stdout",
          "text": [
            "Average: acc: 0.825 prec: 0.825 rec: 0.822\n",
            "Per class precision, recall\n",
            "     blues:  0.750  0.882\n",
            " classical:  0.920  0.958\n",
            "   country:  0.846  0.550\n",
            "     disco:  0.875  0.778\n",
            "    hiphop:  1.000  0.786\n",
            "      jazz:  0.875  0.875\n",
            "     metal:  0.941  0.889\n",
            "       pop:  0.818  1.000\n",
            "    reggae:  0.750  0.789\n",
            "      rock:  0.476  0.714\n"
          ]
        }
      ]
    },
    {
      "cell_type": "code",
      "source": [
        "_, ax1 = plt.subplots()\n",
        "plot_metric(ax1, multi_recall, genres, label='recall')\n",
        "_, ax2 = plt.subplots()\n",
        "plot_metric(ax2, multi_precision, genres, label='precision')\n",
        "plt.show()"
      ],
      "metadata": {
        "colab": {
          "base_uri": "https://localhost:8080/",
          "height": 544
        },
        "id": "TRYu2iJ2aNzf",
        "outputId": "fb72eece-baab-489c-dbac-9f4e1623bfd2"
      },
      "execution_count": null,
      "outputs": [
        {
          "output_type": "display_data",
          "data": {
            "text/plain": [
              "<Figure size 432x288 with 1 Axes>"
            ],
            "image/png": "[encoded data removed]"
          },
          "metadata": {
            "needs_background": "light"
          }
        },
        {
          "output_type": "display_data",
          "data": {
            "text/plain": [
              "<Figure size 432x288 with 1 Axes>"
            ],
            "image/png": "[encoded data removed]"
          },
          "metadata": {
            "needs_background": "light"
          }
        }
      ]
    },
    {
      "cell_type": "code",
      "source": [
        "cm = confusion_matrix(y_true, y_pred)\n",
        "disp = ConfusionMatrixDisplay(confusion_matrix=cm)    # display_labels=genres\n",
        "disp.plot()\n",
        "None"
      ],
      "metadata": {
        "colab": {
          "base_uri": "https://localhost:8080/"
        },
        "id": "E8ttt8JzaPCe",
        "outputId": "03e3c175-3530-4133-8542-53bc380448ae"
      },
      "execution_count": null,
      "outputs": [
        {
          "output_type": "display_data",
          "data": {
            "text/plain": [
              "<Figure size 432x288 with 2 Axes>"
            ],
            "image/png": "[encoded data removed]"
          },
          "metadata": {
            "needs_background": "light"
          }
        }
      ]
    },
    {
      "cell_type": "code",
      "source": [
        ""
      ],
      "metadata": {
        "id": "1Y9ovdxmy8lT"
      },
      "execution_count": 34,
      "outputs": []
    }
  ]
}