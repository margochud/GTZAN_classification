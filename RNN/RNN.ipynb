{
  "nbformat": 4,
  "nbformat_minor": 0,
  "metadata": {
    "colab": {
      "name": "RNN.ipynb",
      "provenance": []
    },
    "kernelspec": {
      "name": "python3",
      "display_name": "Python 3"
    },
    "language_info": {
      "name": "python"
    },
    "gpuClass": "standard",
    "accelerator": "GPU"
  },
  "cells": [
    {
      "cell_type": "code",
      "execution_count": null,
      "metadata": {
        "id": "EAXLL9W6tPOH"
      },
      "outputs": [],
      "source": [
        "import numpy as np\n",
        "import pandas as pd\n",
        "\n",
        "import torch\n",
        "from torch import nn\n",
        "import torch.nn.functional as F\n",
        "from torch.utils.data import Dataset, DataLoader\n",
        "from torch.optim import Adam\n",
        "from torch.nn.modules.activation import LeakyReLU\n",
        "\n",
        "import os\n",
        "import sys\n",
        "import matplotlib.pyplot as plt"
      ]
    },
    {
      "cell_type": "code",
      "source": [
        "import soundfile as sf\n",
        "import librosa\n",
        "import librosa.display\n",
        "from IPython.display import Audio\n",
        "from tqdm import tqdm \n",
        "from sklearn.model_selection import train_test_split\n",
        "\n",
        "import math\n",
        "import json"
      ],
      "metadata": {
        "id": "CWx0kJe1xRof"
      },
      "execution_count": null,
      "outputs": []
    },
    {
      "cell_type": "code",
      "source": [
        "data_path = '/content/drive/MyDrive/HSE/DL/Project/data/genres_original'\n",
        "json_path = '/content/drive/MyDrive/HSE/DL/Project/data/mfcc_splited/data.json'"
      ],
      "metadata": {
        "id": "bXQtAvC4t3vz"
      },
      "execution_count": null,
      "outputs": []
    },
    {
      "cell_type": "code",
      "source": [
        "SAMPLE_RATE = sr =  22050\n",
        "DURATION = 30 #measured in seconds \n",
        "SAMPLES_PER_TRACK = SAMPLE_RATE * DURATION    # 661794\n",
        "n_mfcc=13"
      ],
      "metadata": {
        "id": "RsjhYLKn4CEF"
      },
      "execution_count": null,
      "outputs": []
    },
    {
      "cell_type": "markdown",
      "source": [
        "Функция для разделения аудиозаписей на 10 частей, извлечения последовательности MFCC и сохранение их в виде .json файла"
      ],
      "metadata": {
        "id": "7VD6-UKIxmks"
      }
    },
    {
      "cell_type": "code",
      "source": [
        "def save_mfcc(dataset_path, json_path, n_mfcc=13, n_fft=4084, hop_length=1024, num_segments=10):\n",
        "    data = {\n",
        "        'names' : [],\n",
        "        'mfcc' : [],\n",
        "        'labels' : []\n",
        "    }\n",
        "    \n",
        "    num_samples_per_segment = int(SAMPLES_PER_TRACK / num_segments)    # делим все песни на num_segments=10\n",
        "    expected_num_mfcc_vectors_per_segment = np.ceil(num_samples_per_segment / hop_length)    # 65\n",
        "    \n",
        "    #Loop through all the genres\n",
        "    for i, (dirpath, dirnames, filenames) in enumerate(os.walk(dataset_path)):\n",
        "        if dirpath not in dataset_path:\n",
        "            print(dirpath.split('/')[-1])\n",
        "            #process files for a specific genre \n",
        "            for f in tqdm(filenames):\n",
        "                if f.endswith('.wav') and f != 'jazz.00054.wav': # jazz.00054.wav is an empty file\n",
        "                    file_path = os.path.join(dirpath,f)\n",
        "                    #loading the audio file \n",
        "                    signal, sr = sf.read(file_path) # len(signal) = 661794  # sr is 22050 by default \n",
        "                    for s in range(num_segments): \n",
        "                        start_sample = num_samples_per_segment * s   \n",
        "                        finish_sample = start_sample + num_samples_per_segment\n",
        "                        mfcc = librosa.feature.mfcc(signal[start_sample : finish_sample],\n",
        "                                                   sr = sr,\n",
        "                                                   n_fft = n_fft,\n",
        "                                                   n_mfcc = n_mfcc,\n",
        "                                                   hop_length = hop_length)\n",
        "\n",
        "                        mfcc = mfcc.T\n",
        "                        if len(mfcc) == expected_num_mfcc_vectors_per_segment:\n",
        "                            data['mfcc'].append(mfcc.tolist())\n",
        "                            data['labels'].append(i-1)\n",
        "                            data['names'].append(f'{f[:-4]}.{s}.wav')\n",
        "\n",
        "    with open(json_path, 'w') as fp:\n",
        "        json.dump(data, fp, indent=4)"
      ],
      "metadata": {
        "id": "His4HZVCwKTp"
      },
      "execution_count": null,
      "outputs": []
    },
    {
      "cell_type": "code",
      "source": [
        "# save_mfcc(data_path, json_path, n_mfcc=n_mfcc, num_segments=10)"
      ],
      "metadata": {
        "id": "G8xP328BwKRH"
      },
      "execution_count": null,
      "outputs": []
    },
    {
      "cell_type": "code",
      "source": [
        "with open(json_path, 'r') as f:\n",
        "    data = json.load(f)\n",
        "    \n",
        "#Convert lists into numpy arrays\n",
        "filenames = np.array(data['names'])\n",
        "inputs = np.array(data['mfcc']).astype('float64')\n",
        "targets = np.array(data['labels']) \n"
      ],
      "metadata": {
        "id": "H_N0kBtVwKK4"
      },
      "execution_count": null,
      "outputs": []
    },
    {
      "cell_type": "code",
      "source": [
        "inputs.shape"
      ],
      "metadata": {
        "colab": {
          "base_uri": "https://localhost:8080/"
        },
        "id": "PJu9BN90_Ebn",
        "outputId": "b2b18ba5-427a-455c-828a-ebed52a2908e"
      },
      "execution_count": null,
      "outputs": [
        {
          "output_type": "execute_result",
          "data": {
            "text/plain": [
              "(9989, 65, 13)"
            ]
          },
          "metadata": {},
          "execution_count": 8
        }
      ]
    },
    {
      "cell_type": "code",
      "source": [
        "genres = [filenames[900+1000*i].split('.')[0] for i in range(10)]\n",
        "genres"
      ],
      "metadata": {
        "colab": {
          "base_uri": "https://localhost:8080/"
        },
        "id": "sYSLpjD0Id7P",
        "outputId": "27a20a24-b479-45a4-a677-4dbf65a919d1"
      },
      "execution_count": null,
      "outputs": [
        {
          "output_type": "execute_result",
          "data": {
            "text/plain": [
              "['rock',\n",
              " 'country',\n",
              " 'jazz',\n",
              " 'blues',\n",
              " 'pop',\n",
              " 'reggae',\n",
              " 'disco',\n",
              " 'hiphop',\n",
              " 'metal',\n",
              " 'classical']"
            ]
          },
          "metadata": {},
          "execution_count": 9
        }
      ]
    },
    {
      "cell_type": "code",
      "source": [
        "seed=42"
      ],
      "metadata": {
        "id": "kxlqOJuXJ2U-"
      },
      "execution_count": null,
      "outputs": []
    },
    {
      "cell_type": "markdown",
      "source": [
        "Теперь будем обучать модель. Введем все необходимые функции"
      ],
      "metadata": {
        "id": "c38xLZ1DyFjc"
      }
    },
    {
      "cell_type": "code",
      "source": [
        "def my_train_test_split(X, y, filenames, test_size=0.2, seed=42):\n",
        "    assert X.shape[0] == y.shape[0] == filenames.shape[0]\n",
        "    np.random.seed = seed\n",
        "    idx = np.random.permutation(X.shape[0])\n",
        "    n = int(test_size * X.shape[0])\n",
        "\n",
        "    X, y, filenames = X[idx], y[idx], filenames[idx]\n",
        "    X_train, X_test = X[n:], X[:n]\n",
        "    y_train, y_test = y[n:], y[:n]\n",
        "    filenames_train, filenames_test = filenames[n:], filenames[:n]\n",
        "    return X_train, X_test, y_train, y_test, filenames_train, filenames_test"
      ],
      "metadata": {
        "id": "Y00F3qxcDVPa"
      },
      "execution_count": null,
      "outputs": []
    },
    {
      "cell_type": "code",
      "source": [
        "class MyDataset(Dataset):\n",
        "    def __init__(self, X, y):\n",
        "        assert X.shape[0] == y.shape[0]\n",
        "        self.X = X\n",
        "        self.y = y\n",
        "\n",
        "    def __len__(self):\n",
        "        return self.y.shape[0]\n",
        "\n",
        "    def __getitem__(self, idx):\n",
        "        return self.X[idx], self.y[idx]"
      ],
      "metadata": {
        "id": "qOldbHmVLZIR"
      },
      "execution_count": null,
      "outputs": []
    },
    {
      "cell_type": "code",
      "source": [
        "X_train, X_test, y_train, y_test, filenames_train, filenames_test\\\n",
        "        = my_train_test_split(inputs, targets, filenames, test_size=0.2, seed=seed)\n",
        "\n",
        "X_val, X_test, y_val, y_test, filenames_train, filenames_test\\\n",
        "        = my_train_test_split(X_test, y_test, filenames_test, test_size=0.5, seed=seed)\n",
        "\n",
        "# Adding Noise \n",
        "X_train += np.random.rand(*X_train.shape).astype('float64')"
      ],
      "metadata": {
        "id": "DFbSGLyY_FJk"
      },
      "execution_count": null,
      "outputs": []
    },
    {
      "cell_type": "code",
      "source": [
        "def count_acc(y_true, y_pred):\n",
        "    # print(y_true.shape)\n",
        "    # print(y_pred.shape)\n",
        "    return (torch.argmax(y_pred, dim=-1) == y_true).sum().float().item() / y_true.shape[0]"
      ],
      "metadata": {
        "id": "HY1hHrEPN7j0"
      },
      "execution_count": null,
      "outputs": []
    },
    {
      "cell_type": "markdown",
      "source": [
        "Фукция для обучения модели"
      ],
      "metadata": {
        "id": "QstuCV2ayMrr"
      }
    },
    {
      "cell_type": "code",
      "source": [
        "def train_model(model, loss, optim, epochs, device, dataloaders):\n",
        "    dataloader_train, dataloader_val, dataloader_test = dataloaders\n",
        "    train_loss_all, val_loss_all, train_acc_all, val_acc_all = [], [], [], []\n",
        "    # training loop\n",
        "    for epoch in range(epochs):\n",
        "        # train\n",
        "        train_loss, train_acc = single_pass(model, dataloader_train, loss, device, optim)\n",
        "        # validation\n",
        "        with torch.no_grad():\n",
        "            val_loss, val_acc = single_pass(model, dataloader_val, loss, device)\n",
        "\n",
        "        print(\n",
        "            f'epoch {epoch}, train_loss={train_loss}, validation_loss={val_loss}, train_acc={train_acc}, val_acc={val_acc}')\n",
        "\n",
        "        train_loss_all.append(train_loss)\n",
        "        val_loss_all.append(val_loss)\n",
        "        train_acc_all.append(train_acc)\n",
        "        val_acc_all.append(val_acc)\n",
        "\n",
        "    # test\n",
        "    model.eval()\n",
        "    with torch.no_grad():\n",
        "        test_loss, test_acc = single_pass(model, dataloader_test, loss, device)\n",
        "        # test_AUC = count_auc(model, device, dataloader_test)\n",
        "        # pres, rec, f1 = count_pres_rec_f1(model, device, dataloader_test)\n",
        "\n",
        "        # print(f'test_loss={test_loss}, test_acc={test_acc}')\n",
        "        # print('test_AUC=', test_AUC)\n",
        "        # print('pres=', pres, 'rec=', rec, 'f1=', f1)\n",
        "    model.train()\n",
        "\n",
        "    return train_loss_all, val_loss_all, train_acc_all, val_acc_all, test_loss, test_acc"
      ],
      "metadata": {
        "id": "_ZyIhGCcNkOi"
      },
      "execution_count": null,
      "outputs": []
    },
    {
      "cell_type": "code",
      "source": [
        "def plot_results(ax, train_results: list, val_results: list, test_result, label):\n",
        "    epochs = np.arange(1, len(train_results) + 1)\n",
        "    ax.plot(epochs, train_results, label='train')\n",
        "    ax.plot(epochs, val_results, label='validation')\n",
        "    ax.plot(epochs[-1], test_result,\n",
        "            marker='o', linestyle='none', label='test')\n",
        "    ax.set_xlabel('Epochs')\n",
        "    ax.set_ylabel(label)\n",
        "    ax.grid(linestyle=':')\n",
        "    ax.legend()"
      ],
      "metadata": {
        "id": "YJT11mdnP6y-"
      },
      "execution_count": null,
      "outputs": []
    },
    {
      "cell_type": "code",
      "source": [
        "def single_pass(model, dataloader, loss_func, device, optim=None):\n",
        "    loss_count, acc_count = 0, 0\n",
        "    for i, (X, y_true) in enumerate(dataloader):\n",
        "        X, y_true = X.to(device), y_true.to(device)\n",
        "        # print(X.shape, print(X))\n",
        "        pred = model.forward(X)\n",
        "        loss = loss_func(pred, y_true)\n",
        "        loss_count += loss.item()\n",
        "        acc_count += count_acc(y_true, pred)\n",
        "        # roc_auc += roc_auc_score(labels, pred, average='macro')\n",
        "        if optim is not None:\n",
        "            loss.backward()\n",
        "            optim.step()\n",
        "    return loss_count / len(dataloader), acc_count / len(dataloader)"
      ],
      "metadata": {
        "id": "J_1FX7PRNaAc"
      },
      "execution_count": null,
      "outputs": []
    },
    {
      "cell_type": "markdown",
      "source": [
        "# Model"
      ],
      "metadata": {
        "id": "5Y4b2uQzyQZ2"
      }
    },
    {
      "cell_type": "code",
      "source": [
        "from torch.nn.modules.activation import LeakyReLU\n",
        "\n",
        "class my_rnn(nn.Module):\n",
        "    def __init__(self):\n",
        "        super().__init__()\n",
        "        # self.lstm1 = nn.LSTM(input_size=n_mfcc, hidden_size=100, batch_first=True)\n",
        "        # self.lstm2 = nn.LSTM(input_size=100, hidden_size=500, batch_first=True)\n",
        "\n",
        "        self.gru1 = nn.GRU(input_size=n_mfcc, hidden_size=100, batch_first=True)\n",
        "        self.gru2 = nn.GRU(input_size=100, hidden_size=500, batch_first=True)\n",
        "        # self.gru3 = nn.GRU(input_size=500, hidden_size=1000, batch_first=True)\n",
        "\n",
        "        self.drop = nn.Dropout(p=0.2)\n",
        "        self.bn = nn.BatchNorm1d(500)    # (N, 100, L)\n",
        "\n",
        "        self.classificator = nn.Sequential( \n",
        "            nn.Linear(500, 100),\n",
        "            nn.LeakyReLU(),\n",
        "            nn.Linear(100, 10)\n",
        "        )\n",
        "\n",
        "    def forward(self, x):\n",
        "        # output, (h_n, c_n) = self.lstm1(x)   # (N,100,L), (1, N, 100)      # (output, (h_n, c_n))\n",
        "        # output, (h_n, c_n) = self.lstm2(output)\n",
        "        output, h_n = self.gru1(x)\n",
        "        output, h_n = self.gru2(output)\n",
        "        # output, h_n = self.gru3(output)\n",
        "\n",
        "        x = nn.LeakyReLU()(h_n[0])    # (N, 100)\n",
        "        x = self.drop(x)\n",
        "        x = self.bn(x)\n",
        "        x = self.classificator(x)\n",
        "        # print(x.shape)\n",
        "        return x\n",
        "        \n"
      ],
      "metadata": {
        "id": "6BxCsT7_Oiwj"
      },
      "execution_count": null,
      "outputs": []
    },
    {
      "cell_type": "markdown",
      "source": [
        "Параметры обучения"
      ],
      "metadata": {
        "id": "9c7aUllgyTAD"
      }
    },
    {
      "cell_type": "code",
      "source": [
        "model = my_rnn().double()\n",
        "device = torch.device('cuda' if torch.cuda.is_available() else 'cpu')\n",
        "model.to(device)\n",
        "\n",
        "batch_size = 128\n",
        "epochs = 50\n",
        "lr = 1e-4\n",
        "optim = Adam(model.parameters(), lr=lr)\n",
        "loss = F.cross_entropy"
      ],
      "metadata": {
        "id": "w2Qa-w2pcCrE"
      },
      "execution_count": null,
      "outputs": []
    },
    {
      "cell_type": "code",
      "source": [
        "sum(p.numel() for p in model.parameters())"
      ],
      "metadata": {
        "id": "tdMu3PSpcyrx",
        "colab": {
          "base_uri": "https://localhost:8080/"
        },
        "outputId": "8c7c8930-fa29-4e42-8941-1d266b66e25f"
      },
      "execution_count": null,
      "outputs": [
        {
          "output_type": "execute_result",
          "data": {
            "text/plain": [
              "989610"
            ]
          },
          "metadata": {},
          "execution_count": 27
        }
      ]
    },
    {
      "cell_type": "code",
      "source": [
        "dataloader_train = DataLoader(MyDataset(X_train, y_train), batch_size=batch_size)\n",
        "dataloader_val = DataLoader(MyDataset(X_val, y_val), batch_size=batch_size)\n",
        "dataloader_test = DataLoader(MyDataset(X_test, y_test), batch_size=batch_size)\n",
        "\n",
        "dataloaders = [dataloader_train, dataloader_val, dataloader_test]"
      ],
      "metadata": {
        "id": "CG7ZgHOfLZD4"
      },
      "execution_count": null,
      "outputs": []
    },
    {
      "cell_type": "code",
      "source": [
        "def my_subplots(train_loss, val_loss, train_acc, val_acc, test_loss, test_acc):\n",
        "    _, ax1 = plt.subplots()\n",
        "    plot_results(ax1, train_loss, val_loss, test_loss, 'Loss')\n",
        "    _, ax2 = plt.subplots()\n",
        "    plot_results(ax2, train_acc, val_acc, test_acc, 'Accuracy')\n",
        "    plt.show()"
      ],
      "metadata": {
        "id": "1o3RJPkvNkLX"
      },
      "execution_count": null,
      "outputs": []
    },
    {
      "cell_type": "code",
      "source": [
        "my_subplots(*train_model(model, loss, optim, epochs, device, dataloaders))"
      ],
      "metadata": {
        "id": "akYx6V6zOitZ",
        "colab": {
          "base_uri": "https://localhost:8080/",
          "height": 1000
        },
        "outputId": "ae8e7907-d66f-4748-cb11-eafe0144d146"
      },
      "execution_count": null,
      "outputs": [
        {
          "output_type": "stream",
          "name": "stdout",
          "text": [
            "epoch 0, train_loss=0.8154139618148699, validation_loss=1.1094791828579689, train_acc=0.706172052154195, val_acc=0.634253640776699\n",
            "epoch 1, train_loss=0.7799747479769792, validation_loss=1.1609343939128813, train_acc=0.714781746031746, val_acc=0.6281856796116505\n",
            "epoch 2, train_loss=0.803963317581675, validation_loss=1.1292191390735233, train_acc=0.7135062358276644, val_acc=0.661597390776699\n",
            "epoch 3, train_loss=0.7701413126097375, validation_loss=1.152679506119014, train_acc=0.7260487528344671, val_acc=0.6578712833737864\n",
            "epoch 4, train_loss=0.7897391701121296, validation_loss=1.1818865061225678, train_acc=0.721655328798186, val_acc=0.654467536407767\n",
            "epoch 5, train_loss=0.7283811429787462, validation_loss=1.1597966660408485, train_acc=0.7440299036281179, val_acc=0.6505897299757282\n",
            "epoch 6, train_loss=0.7477792792566478, validation_loss=1.157315528761143, train_acc=0.742453231292517, val_acc=0.6286597390776699\n",
            "epoch 7, train_loss=0.7559818763569053, validation_loss=1.1539482435088202, train_acc=0.7385735544217688, val_acc=0.6330400485436893\n",
            "epoch 8, train_loss=0.736104950246733, validation_loss=1.1722026404430195, train_acc=0.7499291383219955, val_acc=0.6528367718446602\n",
            "epoch 9, train_loss=0.7131134608456716, validation_loss=1.1285361186675738, train_acc=0.7499822845804989, val_acc=0.656714578276699\n",
            "epoch 10, train_loss=0.7028216154287449, validation_loss=1.178688180718195, train_acc=0.7469706632653061, val_acc=0.6296647451456311\n",
            "epoch 11, train_loss=0.7166296405501206, validation_loss=1.105642632413341, train_acc=0.7442779195011339, val_acc=0.6343105279126213\n",
            "epoch 12, train_loss=0.6914504192356197, validation_loss=1.1349668759011897, train_acc=0.7553677721088435, val_acc=0.6598812955097088\n",
            "epoch 13, train_loss=0.6819529077537176, validation_loss=1.1712367043219183, train_acc=0.7593714569160998, val_acc=0.6571886377427184\n",
            "epoch 14, train_loss=0.6634059586943207, validation_loss=1.0906239178012231, train_acc=0.7605052437641723, val_acc=0.6755062955097088\n",
            "epoch 15, train_loss=0.6480522288080149, validation_loss=1.1146007935481523, train_acc=0.7646860827664399, val_acc=0.6623653671116505\n",
            "epoch 16, train_loss=0.634003705125707, validation_loss=1.114232686907842, train_acc=0.7699298469387754, val_acc=0.6608578580097088\n",
            "epoch 17, train_loss=0.6167396338671013, validation_loss=1.062001263371073, train_acc=0.7741992630385487, val_acc=0.6991239381067961\n",
            "epoch 18, train_loss=0.6248073528579088, validation_loss=1.199172696132693, train_acc=0.7817814625850341, val_acc=0.6737902002427184\n",
            "epoch 19, train_loss=0.6365433425606659, validation_loss=1.1566274146945372, train_acc=0.7761302437641723, val_acc=0.6857459799757282\n",
            "epoch 20, train_loss=0.617196586773655, validation_loss=1.14657951086576, train_acc=0.7790710034013606, val_acc=0.6721025485436893\n",
            "epoch 21, train_loss=0.6070282474700469, validation_loss=1.138570002629556, train_acc=0.7838010204081632, val_acc=0.6674852093446602\n",
            "epoch 22, train_loss=0.6084500470329723, validation_loss=1.086871458721328, train_acc=0.7858205782312926, val_acc=0.6716284890776699\n",
            "epoch 23, train_loss=0.5826583121613986, validation_loss=1.150936494760532, train_acc=0.7914186507936508, val_acc=0.6713914593446602\n",
            "epoch 24, train_loss=0.573469851019397, validation_loss=1.1315470836988943, train_acc=0.7983630952380952, val_acc=0.6845323877427184\n",
            "epoch 25, train_loss=0.5692002298615039, validation_loss=1.1932115501627791, train_acc=0.7982213718820862, val_acc=0.6738186438106796\n",
            "epoch 26, train_loss=0.5677557861234211, validation_loss=1.1552818660640862, train_acc=0.8000992063492064, val_acc=0.665503640776699\n",
            "epoch 27, train_loss=0.5537473569067324, validation_loss=1.1186161212567423, train_acc=0.8031639739229024, val_acc=0.6845608313106796\n",
            "epoch 28, train_loss=0.5510362777806735, validation_loss=1.09233246009254, train_acc=0.8038725907029478, val_acc=0.6923448877427184\n",
            "epoch 29, train_loss=0.5404226611951541, validation_loss=1.1431627982502501, train_acc=0.8126240079365079, val_acc=0.6918423847087378\n",
            "epoch 30, train_loss=0.545126117956354, validation_loss=1.2157830601219504, train_acc=0.8089214852607709, val_acc=0.6815742566747572\n",
            "epoch 31, train_loss=0.5565569798532782, validation_loss=1.2206230164758056, train_acc=0.8005952380952381, val_acc=0.6664517597087378\n",
            "epoch 32, train_loss=0.5445944060285053, validation_loss=1.1783812616273395, train_acc=0.8047937925170069, val_acc=0.6791186286407767\n",
            "epoch 33, train_loss=0.528202146047014, validation_loss=1.1938202958719104, train_acc=0.8106398809523809, val_acc=0.6891497269417476\n",
            "epoch 34, train_loss=0.5282253731727189, validation_loss=1.1424260954433085, train_acc=0.8067247732426304, val_acc=0.6976733161407767\n",
            "epoch 35, train_loss=0.5133965645214068, validation_loss=1.1855003558204957, train_acc=0.8188952664399093, val_acc=0.6737902002427184\n",
            "epoch 36, train_loss=0.5264542688381516, validation_loss=1.1271663407167574, train_acc=0.8119153911564626, val_acc=0.690894265776699\n",
            "epoch 37, train_loss=0.5166704694428658, validation_loss=1.1827608668147536, train_acc=0.8158659297052154, val_acc=0.6728136377427184\n",
            "epoch 38, train_loss=0.505100420468137, validation_loss=1.138786266719594, train_acc=0.8239618764172336, val_acc=0.6962511377427184\n",
            "epoch 39, train_loss=0.5257133820491242, validation_loss=1.215962140944684, train_acc=0.8193558673469388, val_acc=0.688647223907767\n",
            "epoch 40, train_loss=0.5326540157547943, validation_loss=1.192172948279222, train_acc=0.815139597505669, val_acc=0.6996264411407767\n",
            "epoch 41, train_loss=0.5150831366092409, validation_loss=1.2076955539038252, train_acc=0.8192672902494331, val_acc=0.6959572208737864\n",
            "epoch 42, train_loss=0.5131290122019659, validation_loss=1.253376946161314, train_acc=0.8239973072562358, val_acc=0.6852150333737864\n",
            "epoch 43, train_loss=0.5074405897665418, validation_loss=1.2767835295923973, train_acc=0.8221371882086167, val_acc=0.6796211316747572\n",
            "epoch 44, train_loss=0.5069933497062097, validation_loss=1.2224615882306202, train_acc=0.8232001133786848, val_acc=0.6847694174757282\n",
            "epoch 45, train_loss=0.5173498586977017, validation_loss=1.2517795239555742, train_acc=0.8194621598639455, val_acc=0.6893583131067961\n",
            "epoch 46, train_loss=0.5280483723252823, validation_loss=1.2297368155690962, train_acc=0.8149801587301587, val_acc=0.6918139411407767\n",
            "epoch 47, train_loss=0.5198128621364182, validation_loss=1.2044727898464165, train_acc=0.8196038832199547, val_acc=0.7013709799757282\n",
            "epoch 48, train_loss=0.5184189392597031, validation_loss=1.387878388271183, train_acc=0.8213399943310659, val_acc=0.6676937955097088\n",
            "epoch 49, train_loss=0.5459381264584451, validation_loss=1.3599983053045805, train_acc=0.813704648526077, val_acc=0.6720741049757282\n"
          ]
        },
        {
          "output_type": "display_data",
          "data": {
            "text/plain": [
              "<Figure size 432x288 with 1 Axes>"
            ],
            "image/png": "[encoded data removed]"
          },
          "metadata": {
            "needs_background": "light"
          }
        },
        {
          "output_type": "display_data",
          "data": {
            "text/plain": [
              "<Figure size 432x288 with 1 Axes>"
            ],
            "image/png": "[encoded data removed]"
          },
          "metadata": {
            "needs_background": "light"
          }
        }
      ]
    },
    {
      "cell_type": "markdown",
      "source": [
        "Не посчитал метрики, а так получился неплохой результат"
      ],
      "metadata": {
        "id": "LdAf80bPyZvr"
      }
    },
    {
      "cell_type": "code",
      "source": [
        "from sklearn.metrics import accuracy_score, precision_score, recall_score, confusion_matrix, ConfusionMatrixDisplay"
      ],
      "metadata": {
        "id": "N-rRhoyNGGSU"
      },
      "execution_count": null,
      "outputs": []
    },
    {
      "cell_type": "code",
      "source": [
        "def count_metrics(y_true, y_pred, genres, average='macro', plot=True):\n",
        "    # average metrics\n",
        "    acc = accuracy_score(y_true, y_pred)\n",
        "    prec = precision_score(y_true, y_pred, average=average)\n",
        "    rec = recall_score(y_true, y_pred,  average=average)\n",
        "    print(f'Average: acc: {acc:.3f} prec: {prec:.3f} rec: {rec:.3f}')\n",
        "\n",
        "    # mertics per class\n",
        "    multi_recall = recall_score(y_true, y_pred, average=None)\n",
        "    multi_precision = precision_score(y_true, y_pred, average=None)\n",
        "    print('Per class precision, recall')\n",
        "    for i, (pre, re) in enumerate(zip(multi_precision, multi_recall)):\n",
        "        print(f'{genres[i]:>10}:  {pre:.3f}  {re:.3f}')"
      ],
      "metadata": {
        "id": "cMeo67Z2_KHT"
      },
      "execution_count": null,
      "outputs": []
    },
    {
      "cell_type": "code",
      "source": [
        "model.eval()\n",
        "y_pred = torch.argmax(model.forward(torch.Tensor(X_test).double().to(device)), dim=-1).detach().cpu().numpy()"
      ],
      "metadata": {
        "id": "WcN7HMgBGF7s"
      },
      "execution_count": null,
      "outputs": []
    },
    {
      "cell_type": "code",
      "source": [
        "y_pred"
      ],
      "metadata": {
        "colab": {
          "base_uri": "https://localhost:8080/"
        },
        "id": "Xg5wOKNwHiEH",
        "outputId": "a0224c9e-117e-40e5-e58d-8a7d8c9ddcc7"
      },
      "execution_count": null,
      "outputs": [
        {
          "output_type": "execute_result",
          "data": {
            "text/plain": [
              "array([7, 4, 2, 1, 4, 9, 7, 8, 9, 7, 8, 2, 4, 4, 7, 8, 4, 8, 5, 3, 4, 0,\n",
              "       7, 5, 7, 7, 1, 4, 8, 2, 2, 7, 7, 2, 6, 8, 3, 8, 1, 4, 0, 3, 9, 4,\n",
              "       3, 6, 3, 1, 3, 3, 8, 1, 8, 1, 3, 2, 7, 8, 1, 8, 5, 1, 8, 3, 6, 7,\n",
              "       4, 8, 2, 9, 2, 7, 6, 1, 5, 5, 3, 3, 8, 2, 7, 5, 3, 6, 1, 3, 5, 8,\n",
              "       4, 4, 9, 6, 2, 1, 9, 9, 3, 2, 7, 9, 1, 9, 3, 9, 3, 4, 7, 3, 4, 3,\n",
              "       9, 3, 9, 6, 8, 8, 6, 1, 6, 5, 7, 2, 5, 8, 7, 4, 3, 9, 1, 1, 7, 7,\n",
              "       5, 1, 3, 0, 7, 8, 6, 8, 1, 8, 7, 5, 2, 5, 4, 2, 3, 4, 9, 9, 7, 4,\n",
              "       4, 3, 4, 7, 6, 6, 9, 5, 3, 7, 4, 4, 9, 3, 4, 4, 2, 3, 2, 7, 6, 1,\n",
              "       3, 8, 7, 5, 4, 1, 8, 6, 1, 1, 8, 9, 3, 3, 3, 9, 3, 3, 2, 8, 2, 2,\n",
              "       6, 5, 1, 8, 9, 2, 4, 4, 6, 9, 7, 1, 4, 4, 7, 8, 2, 7, 3, 2, 4, 4,\n",
              "       6, 1, 8, 3, 6, 7, 1, 7, 4, 1, 1, 3, 9, 7, 8, 6, 6, 7, 7, 6, 3, 4,\n",
              "       3, 3, 6, 9, 4, 7, 8, 9, 9, 8, 2, 8, 2, 4, 3, 4, 3, 2, 4, 3, 6, 8,\n",
              "       2, 8, 9, 5, 2, 5, 7, 8, 5, 8, 7, 2, 7, 1, 3, 3, 9, 1, 9, 8, 7, 8,\n",
              "       0, 3, 7, 6, 9, 6, 9, 8, 8, 3, 6, 3, 3, 6, 6, 4, 5, 6, 8, 7, 9, 3,\n",
              "       8, 3, 1, 5, 8, 7, 5, 7, 6, 3, 9, 9, 8, 6, 8, 3, 1, 6, 8, 7, 7, 9,\n",
              "       2, 3, 6, 9, 1, 1, 4, 5, 7, 8, 6, 5, 4, 7, 7, 5, 1, 4, 5, 8, 8, 1,\n",
              "       4, 9, 0, 7, 4, 3, 9, 6, 7, 7, 3, 5, 1, 1, 1, 1, 1, 8, 1, 4, 3, 1,\n",
              "       7, 6, 8, 3, 5, 1, 2, 7, 3, 9, 8, 4, 8, 8, 9, 3, 7, 8, 8, 4, 3, 8,\n",
              "       6, 2, 4, 9, 8, 8, 7, 9, 9, 4, 7, 4, 3, 3, 7, 8, 9, 7, 1, 2, 4, 2,\n",
              "       3, 7, 4, 1, 3, 8, 8, 2, 4, 9, 4, 3, 8, 6, 6, 9, 2, 7, 4, 6, 3, 9,\n",
              "       2, 5, 3, 8, 1, 9, 9, 2, 3, 6, 6, 6, 6, 6, 7, 1, 4, 0, 1, 1, 2, 1,\n",
              "       3, 9, 8, 2, 4, 5, 6, 6, 7, 4, 5, 5, 7, 6, 1, 7, 8, 9, 1, 4, 8, 3,\n",
              "       3, 7, 9, 7, 7, 5, 4, 0, 8, 0, 4, 5, 4, 3, 1, 7, 7, 9, 1, 4, 3, 4,\n",
              "       2, 7, 4, 0, 8, 1, 3, 9, 3, 7, 6, 2, 8, 6, 3, 2, 6, 3, 6, 9, 5, 7,\n",
              "       3, 8, 7, 9, 3, 8, 6, 8, 2, 1, 1, 1, 3, 9, 7, 5, 7, 6, 9, 8, 4, 7,\n",
              "       7, 4, 4, 8, 5, 7, 4, 1, 9, 2, 4, 4, 9, 0, 6, 4, 6, 8, 1, 9, 4, 2,\n",
              "       9, 8, 2, 3, 9, 4, 6, 2, 4, 3, 6, 1, 8, 7, 1, 2, 8, 9, 0, 6, 9, 9,\n",
              "       8, 4, 8, 4, 1, 4, 2, 6, 3, 1, 7, 9, 5, 6, 1, 6, 4, 7, 3, 9, 2, 5,\n",
              "       2, 2, 3, 9, 3, 5, 9, 6, 2, 9, 0, 8, 1, 1, 8, 2, 9, 6, 2, 9, 6, 3,\n",
              "       3, 2, 8, 1, 4, 7, 3, 3, 9, 8, 5, 7, 8, 5, 1, 0, 4, 5, 8, 4, 4, 5,\n",
              "       9, 3, 4, 4, 4, 7, 8, 5, 9, 5, 4, 8, 5, 1, 6, 6, 9, 3, 2, 3, 3, 5,\n",
              "       5, 7, 7, 7, 2, 7, 7, 6, 9, 4, 8, 3, 4, 9, 4, 7, 9, 5, 2, 4, 7, 5,\n",
              "       7, 3, 7, 8, 1, 4, 1, 9, 4, 6, 4, 2, 1, 2, 2, 7, 7, 3, 8, 1, 3, 2,\n",
              "       9, 0, 3, 7, 8, 7, 7, 3, 6, 9, 9, 7, 1, 4, 8, 5, 1, 5, 7, 1, 6, 4,\n",
              "       8, 3, 5, 8, 6, 7, 1, 1, 7, 3, 3, 7, 2, 8, 3, 4, 4, 4, 8, 9, 2, 4,\n",
              "       8, 4, 6, 9, 2, 3, 9, 8, 9, 3, 9, 9, 0, 4, 3, 3, 4, 8, 1, 2, 7, 9,\n",
              "       8, 2, 8, 6, 8, 4, 9, 2, 2, 9, 1, 9, 4, 9, 3, 8, 3, 1, 9, 8, 8, 8,\n",
              "       6, 1, 2, 3, 7, 9, 3, 1, 8, 7, 2, 3, 9, 5, 0, 4, 6, 7, 7, 9, 9, 7,\n",
              "       7, 2, 4, 8, 7, 7, 3, 3, 1, 8, 5, 5, 9, 4, 8, 3, 3, 3, 6, 4, 7, 9,\n",
              "       8, 6, 3, 2, 6, 2, 7, 5, 4, 0, 2, 2, 7, 8, 6, 5, 3, 5, 6, 7, 6, 2,\n",
              "       1, 5, 6, 1, 7, 2, 7, 8, 1, 9, 0, 7, 9, 7, 4, 1, 9, 6, 4, 2, 2, 3,\n",
              "       4, 8, 5, 9, 6, 6, 5, 3, 5, 3, 6, 0, 2, 9, 2, 4, 9, 8, 8, 7, 1, 6,\n",
              "       3, 9, 3, 3, 9, 3, 8, 8, 3, 4, 7, 0, 8, 4, 5, 4, 7, 6, 8, 9, 9, 8,\n",
              "       3, 6, 4, 3, 7, 9, 4, 3, 7, 7, 1, 9, 7, 6, 4, 4, 9, 6, 6, 7, 9, 1,\n",
              "       9, 8, 9, 8, 7, 7, 1, 7, 1, 8, 8, 3, 8, 4, 3, 7, 9, 3, 2, 9, 4, 2,\n",
              "       8, 1, 9, 3, 9, 9, 7, 9])"
            ]
          },
          "metadata": {},
          "execution_count": 59
        }
      ]
    },
    {
      "cell_type": "code",
      "source": [
        "y_test"
      ],
      "metadata": {
        "colab": {
          "base_uri": "https://localhost:8080/"
        },
        "id": "ASbvRH9eKI4n",
        "outputId": "075a5b11-c7be-421a-aae6-8632cde9166a"
      },
      "execution_count": null,
      "outputs": [
        {
          "output_type": "execute_result",
          "data": {
            "text/plain": [
              "array([7, 6, 2, 1, 4, 9, 7, 1, 9, 3, 8, 2, 4, 6, 4, 8, 0, 8, 5, 3, 6, 9,\n",
              "       7, 7, 7, 7, 2, 2, 3, 2, 2, 0, 6, 8, 8, 8, 1, 0, 1, 4, 4, 3, 9, 4,\n",
              "       3, 6, 3, 1, 3, 6, 8, 1, 8, 1, 3, 0, 7, 8, 1, 8, 5, 0, 8, 3, 6, 7,\n",
              "       4, 8, 5, 2, 5, 3, 6, 4, 5, 5, 3, 5, 2, 2, 6, 5, 1, 6, 4, 3, 5, 8,\n",
              "       4, 7, 9, 6, 2, 1, 2, 2, 3, 0, 7, 9, 2, 2, 3, 9, 1, 4, 4, 3, 1, 0,\n",
              "       9, 0, 9, 1, 8, 8, 6, 0, 6, 5, 7, 5, 5, 8, 7, 7, 3, 9, 1, 0, 6, 7,\n",
              "       5, 1, 0, 6, 7, 0, 6, 8, 2, 8, 7, 5, 9, 5, 4, 3, 3, 0, 2, 9, 7, 4,\n",
              "       6, 0, 0, 7, 6, 5, 9, 7, 3, 3, 6, 4, 9, 1, 7, 4, 2, 3, 2, 7, 5, 6,\n",
              "       1, 3, 3, 5, 6, 1, 8, 6, 0, 1, 0, 9, 3, 3, 3, 1, 3, 3, 2, 1, 2, 2,\n",
              "       1, 5, 1, 8, 2, 2, 4, 6, 3, 9, 7, 2, 5, 4, 7, 8, 2, 5, 1, 2, 4, 4,\n",
              "       6, 1, 3, 1, 2, 7, 1, 7, 4, 2, 1, 3, 9, 5, 7, 6, 0, 7, 6, 6, 3, 5,\n",
              "       3, 3, 9, 9, 4, 7, 8, 9, 9, 8, 2, 8, 1, 4, 3, 4, 1, 2, 4, 7, 7, 8,\n",
              "       2, 3, 9, 5, 2, 5, 6, 8, 5, 3, 7, 2, 5, 1, 3, 3, 9, 1, 2, 8, 7, 8,\n",
              "       0, 3, 7, 0, 2, 5, 9, 8, 8, 2, 5, 3, 6, 0, 6, 4, 5, 6, 8, 6, 9, 3,\n",
              "       8, 3, 1, 5, 8, 3, 6, 4, 6, 1, 9, 9, 3, 6, 8, 0, 1, 6, 8, 5, 7, 9,\n",
              "       2, 0, 6, 9, 2, 2, 6, 5, 0, 8, 3, 5, 6, 7, 5, 1, 7, 1, 7, 8, 8, 1,\n",
              "       4, 9, 0, 7, 4, 3, 9, 6, 7, 6, 1, 5, 5, 1, 1, 1, 1, 6, 1, 4, 3, 3,\n",
              "       7, 6, 7, 0, 5, 2, 7, 6, 6, 2, 8, 4, 0, 8, 9, 0, 7, 8, 8, 4, 3, 3,\n",
              "       6, 2, 4, 9, 0, 8, 6, 9, 9, 2, 7, 6, 1, 1, 5, 8, 9, 5, 3, 2, 4, 0,\n",
              "       3, 7, 4, 6, 3, 8, 8, 2, 4, 9, 4, 1, 8, 6, 8, 9, 2, 8, 4, 6, 3, 3,\n",
              "       2, 5, 5, 8, 1, 9, 9, 4, 1, 6, 8, 7, 9, 6, 5, 2, 4, 9, 1, 1, 2, 1,\n",
              "       3, 9, 8, 2, 2, 2, 5, 6, 5, 4, 6, 1, 5, 5, 7, 5, 0, 9, 6, 4, 8, 3,\n",
              "       1, 7, 2, 7, 5, 5, 4, 6, 7, 0, 1, 5, 4, 6, 5, 7, 7, 2, 1, 7, 3, 4,\n",
              "       1, 7, 4, 0, 3, 8, 1, 3, 3, 8, 8, 5, 8, 1, 0, 2, 8, 3, 6, 9, 5, 5,\n",
              "       3, 8, 7, 2, 3, 8, 0, 8, 2, 1, 1, 1, 3, 9, 7, 5, 5, 3, 9, 8, 4, 5,\n",
              "       7, 4, 6, 8, 5, 7, 0, 1, 9, 5, 4, 4, 9, 0, 6, 5, 6, 3, 1, 9, 4, 2,\n",
              "       9, 8, 2, 1, 9, 4, 5, 3, 4, 1, 6, 1, 8, 3, 0, 0, 8, 9, 0, 6, 9, 9,\n",
              "       8, 4, 8, 4, 6, 6, 2, 6, 1, 1, 5, 2, 5, 0, 1, 6, 4, 8, 7, 9, 0, 5,\n",
              "       8, 9, 3, 9, 0, 6, 2, 6, 2, 2, 0, 0, 5, 1, 0, 5, 9, 6, 2, 9, 6, 3,\n",
              "       3, 2, 0, 1, 6, 5, 7, 2, 9, 8, 5, 5, 8, 7, 1, 0, 4, 5, 8, 4, 4, 5,\n",
              "       9, 3, 0, 4, 4, 5, 3, 5, 9, 2, 6, 8, 1, 1, 3, 0, 9, 1, 2, 0, 3, 5,\n",
              "       1, 6, 7, 6, 2, 7, 7, 0, 9, 4, 8, 3, 4, 9, 4, 7, 9, 5, 1, 6, 7, 5,\n",
              "       7, 3, 6, 7, 9, 4, 3, 3, 4, 6, 4, 2, 1, 2, 2, 3, 7, 3, 7, 1, 3, 2,\n",
              "       9, 0, 3, 7, 0, 7, 7, 8, 0, 9, 9, 7, 5, 4, 8, 5, 2, 5, 7, 1, 6, 0,\n",
              "       8, 1, 5, 0, 6, 5, 1, 1, 7, 3, 3, 5, 2, 8, 1, 5, 6, 7, 8, 9, 2, 4,\n",
              "       8, 4, 7, 9, 2, 3, 9, 8, 9, 3, 9, 9, 0, 4, 0, 3, 4, 0, 1, 2, 7, 9,\n",
              "       8, 4, 8, 5, 8, 4, 9, 2, 0, 1, 0, 9, 0, 9, 3, 8, 0, 1, 9, 8, 8, 3,\n",
              "       0, 1, 2, 5, 7, 9, 3, 1, 0, 7, 2, 3, 9, 1, 0, 4, 6, 7, 7, 9, 9, 5,\n",
              "       7, 2, 4, 8, 7, 7, 0, 3, 1, 8, 5, 5, 2, 4, 8, 0, 3, 2, 6, 4, 7, 9,\n",
              "       8, 5, 3, 2, 0, 2, 7, 5, 4, 0, 8, 2, 6, 6, 5, 7, 1, 5, 6, 5, 6, 0,\n",
              "       2, 5, 0, 5, 7, 2, 4, 8, 0, 9, 0, 1, 2, 5, 4, 5, 9, 5, 0, 2, 5, 3,\n",
              "       4, 8, 5, 9, 6, 6, 5, 1, 5, 0, 6, 5, 2, 9, 2, 4, 2, 8, 8, 4, 7, 7,\n",
              "       3, 0, 3, 3, 9, 3, 8, 8, 3, 4, 6, 4, 8, 4, 5, 4, 7, 6, 8, 9, 9, 8,\n",
              "       3, 6, 0, 3, 5, 9, 4, 8, 5, 5, 1, 9, 6, 0, 5, 4, 9, 5, 6, 7, 2, 1,\n",
              "       9, 8, 9, 8, 7, 7, 1, 4, 1, 3, 8, 3, 8, 4, 6, 7, 9, 5, 2, 9, 4, 1,\n",
              "       8, 1, 9, 6, 2, 9, 5, 9])"
            ]
          },
          "metadata": {},
          "execution_count": 61
        }
      ]
    },
    {
      "cell_type": "code",
      "source": [
        "count_metrics(y_test, y_pred, genres)"
      ],
      "metadata": {
        "id": "-RjrMfzvGlIA"
      },
      "execution_count": null,
      "outputs": []
    },
    {
      "cell_type": "code",
      "source": [
        ""
      ],
      "metadata": {
        "id": "TgJJQP_JKMH1"
      },
      "execution_count": null,
      "outputs": []
    }
  ]
}